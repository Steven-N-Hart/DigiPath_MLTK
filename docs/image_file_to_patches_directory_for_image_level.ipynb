{
 "cells": [
  {
   "cell_type": "markdown",
   "metadata": {},
   "source": [
    "# High level function:\n",
    "## *toolkit.image_file_to_patches_directory_for_image_level()*\n",
    "### Write patches from a Whole Slide Image using parameters"
   ]
  },
  {
   "cell_type": "code",
   "execution_count": null,
   "metadata": {},
   "outputs": [],
   "source": [
    "\"\"\"\n",
    "    Import the function (and view the doc_string help)\n",
    "\"\"\"\n",
    "\n",
    "from pychunklbl.toolkit import image_file_to_patches_directory_for_image_level\n",
    "\n",
    "help(image_file_to_patches_directory_for_image_level)"
   ]
  },
  {
   "cell_type": "code",
   "execution_count": null,
   "metadata": {},
   "outputs": [],
   "source": [
    "\"\"\"\n",
    "    Find the template .yml file for this function\n",
    "    ( image_file_to_patches_directory_for_image_level )\n",
    "\"\"\"\n",
    "import os\n",
    "\n",
    "parameter_data_dir = '../data/run_files'\n",
    "\n",
    "os.listdir(parameter_data_dir)"
   ]
  },
  {
   "cell_type": "code",
   "execution_count": null,
   "metadata": {},
   "outputs": [],
   "source": [
    "\"\"\"\n",
    "    Import the function to read the template .yml file and    \n",
    "    read in the run_parameters and reset the output_dir location.\n",
    "\"\"\"\n",
    "\n",
    "from pychunklbl.toolkit import get_run_parameters\n",
    "\n",
    "run_parameters = get_run_parameters(parameter_data_dir, 'wsi_file_to_patches_dir.yml')\n",
    "\n",
    "#               reset the output_dir location\n",
    "run_parameters['output_dir'] = '../../run_dir/test_results'\n",
    "\n",
    "#               display the parameters\n",
    "for k, v in run_parameters.items():\n",
    "    print('%25s: %s'%(k, v))"
   ]
  },
  {
   "cell_type": "markdown",
   "metadata": {},
   "source": [
    "## Sanity Check: view the input image\n",
    "[Install OpenSlide, get data](https://ncsa.github.io/DigiPath_MLTK/Download_Openslide_Data_For_Example_Code.html) <br>"
   ]
  },
  {
   "cell_type": "code",
   "execution_count": null,
   "metadata": {},
   "outputs": [],
   "source": [
    "\"\"\"\n",
    "    Display the original image in the rich openslide context\n",
    "\"\"\"\n",
    "import openslide\n",
    "test_file_name = run_parameters['wsi_filename']\n",
    "print('Opening Image file: \\n\\t{}\\n'.format(test_file_name))\n",
    "openslide_obj = openslide.OpenSlide(test_file_name)\n",
    "\n",
    "print('openslide.OpenSlide(test_file_name) is type:', type(openslide_obj))\n",
    "print('obj.level_count', openslide_obj.level_count)\n",
    "print('obj.dimensions', openslide_obj.dimensions)\n",
    "print('obj.level_dimensions', openslide_obj.level_dimensions)\n",
    "print('obj.level_downsamples', openslide_obj.level_downsamples)\n",
    "print('obj.properties are type', type(openslide_obj.properties))\n",
    "\n",
    "print('\\nobj.associated_images', openslide_obj.associated_images, type(openslide_obj.associated_images))\n",
    "\n",
    "blind_region = openslide_obj.read_region((0, 0), 0, (200,200))\n",
    "print('\\nobj.read_region', openslide_obj.read_region((0, 0), 0, (200,200)))\n",
    "\n",
    "scldwn = openslide_obj.level_downsamples[-1]\n",
    "print('\\nobj.get_best_level_for_downsample(%0.6f)'%(scldwn), \n",
    "      openslide_obj.get_best_level_for_downsample(scldwn))\n",
    "\n",
    "thumbnail = openslide_obj.associated_images['thumbnail']\n",
    "openslide_obj.close()\n",
    "\n",
    "print('Slide thumbnail')\n",
    "display(thumbnail)\n"
   ]
  },
  {
   "cell_type": "code",
   "execution_count": null,
   "metadata": {},
   "outputs": [],
   "source": [
    "\"\"\"\n",
    "        Check / create the output directory and call the function with the parameters dict:\n",
    "\"\"\"\n",
    "#               Create the directory if it does not exist\n",
    "if os.path.isdir(run_parameters['output_dir']) == False:\n",
    "    os.makedirs(run_parameters['output_dir'])\n",
    "\n",
    "#               check the directory contents:\n",
    "print('starting with an empty directory')\n",
    "os.listdir(run_parameters['output_dir'])"
   ]
  },
  {
   "cell_type": "code",
   "execution_count": null,
   "metadata": {},
   "outputs": [],
   "source": [
    "\"\"\"     (expected) Warning:         Input parameter changed\n",
    "\n",
    "        Shows that label names may not include underscores.\n",
    "        change: run_parameters['class_label'] to avoid warning.\n",
    "\"\"\"\n",
    "run_parameters['class_label'] = 'testLabel'\n",
    "import time\n",
    "\n",
    "function_start_time = time.time()\n",
    "\n",
    "image_file_to_patches_directory_for_image_level(run_parameters)\n",
    "\n",
    "print('function running time: %0.3f'%(time.time() - function_start_time))"
   ]
  },
  {
   "cell_type": "code",
   "execution_count": null,
   "metadata": {},
   "outputs": [],
   "source": [
    "\"\"\"\n",
    "    View the output\n",
    "\"\"\"\n",
    "from PIL import Image\n",
    "\n",
    "for f_name in os.listdir(run_parameters['output_dir']):\n",
    "    im_file = os.path.join(run_parameters['output_dir'], f_name)\n",
    "    if os.path.isfile(im_file) == True:\n",
    "        print('\\n',f_name)\n",
    "        display(Image.open(im_file))"
   ]
  },
  {
   "cell_type": "code",
   "execution_count": null,
   "metadata": {},
   "outputs": [],
   "source": []
  }
 ],
 "metadata": {
  "kernelspec": {
   "display_name": "Python 3",
   "language": "python",
   "name": "python3"
  },
  "language_info": {
   "codemirror_mode": {
    "name": "ipython",
    "version": 3
   },
   "file_extension": ".py",
   "mimetype": "text/x-python",
   "name": "python",
   "nbconvert_exporter": "python",
   "pygments_lexer": "ipython3",
   "version": "3.7.3"
  }
 },
 "nbformat": 4,
 "nbformat_minor": 2
}
