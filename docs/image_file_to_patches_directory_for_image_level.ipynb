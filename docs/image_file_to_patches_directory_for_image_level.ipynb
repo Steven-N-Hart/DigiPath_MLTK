{
 "cells": [
  {
   "cell_type": "markdown",
   "metadata": {},
   "source": [
    "<a id=\"top\"></a>\n",
    "This notebook may be copied from *docs/* and used as a trainer-tutor. \n",
    "[Download_Openslide_Data](https://ncsa.github.io/DigiPath_MLTK/Download_Openslide_Data_For_Example_Code.html) <br>\n",
    "## *toolkit.image_file_to_patches_directory_for_image_level(run_parameters)*\n",
    "### Write patches from a Whole Slide Image using parameters:\n",
    "Requires three lines of code: <br>\n",
    "[1) import the function](#import) <br>\n",
    "[2) declare the parameters](#declare) <br>\n",
    "[3) call the function with the parameters](#call) <br>\n",
    "\n",
    "****\n",
    "### Also:\n",
    "[view the output](#view_output) <br>\n",
    "\n",
    "[Use parameters template](#parameters_template) <br>\n",
    "\n",
    "[View the Whole Slide Image](#view_input_image) <br>"
   ]
  },
  {
   "cell_type": "markdown",
   "metadata": {},
   "source": [
    "<a id=\"import\"></a> <br>\n",
    "[Page top](#top) <br>\n",
    "### 1) Import the function (and view the doc_string help) - note the required parameter keys"
   ]
  },
  {
   "cell_type": "code",
   "execution_count": null,
   "metadata": {},
   "outputs": [],
   "source": [
    "from pychunklbl.toolkit import image_file_to_patches_directory_for_image_level\n",
    "\n",
    "help(image_file_to_patches_directory_for_image_level)"
   ]
  },
  {
   "cell_type": "markdown",
   "metadata": {},
   "source": [
    "<a id=\"declare\"></a> <br>\n",
    "[Page top](#top) <br>\n",
    "\n",
    "### 2) Declare the required parameters as a python dictionary:\n",
    "    Note that the output directory will be created by the function if it does not exist."
   ]
  },
  {
   "cell_type": "code",
   "execution_count": null,
   "metadata": {},
   "outputs": [],
   "source": [
    "run_parameters = {'wsi_filename': '../data/images/CMU-1-Small-Region.svs',\n",
    "                  'output_dir': '../../mounted_dir/results', \n",
    "                  'class_label': 'batch-name', \n",
    "                  'patch_height': 224, \n",
    "                  'patch_width': 224, \n",
    "                  'patch_select_method': 'threshold_rgb2lab',\n",
    "                  'thumbnail_divisor': 10,\n",
    "                  'file_ext': '.jpg',\n",
    "                  'threshold': 0, \n",
    "                  'image_level': 0}\n",
    "\n",
    "#               display the parameters\n",
    "for k, v in run_parameters.items():\n",
    "    print('%25s: %s'%(k, v))"
   ]
  },
  {
   "cell_type": "markdown",
   "metadata": {},
   "source": [
    "<a id=\"call\"></a> <br>\n",
    "[Page top](#top) <br>\n",
    "### 3) Call the function with the run parameters:"
   ]
  },
  {
   "cell_type": "code",
   "execution_count": null,
   "metadata": {},
   "outputs": [],
   "source": [
    "import time\n",
    "\n",
    "function_start_time = time.time()\n",
    "\n",
    "image_file_to_patches_directory_for_image_level(run_parameters)\n",
    "\n",
    "print('function running time: %0.3f'%(time.time() - function_start_time))"
   ]
  },
  {
   "cell_type": "markdown",
   "metadata": {},
   "source": [
    "<a id=\"view_output\"></a> <br>\n",
    "[Page top](#top) <br>\n",
    "\n",
    "### View the output for confirmation and understanding the function-parameters:"
   ]
  },
  {
   "cell_type": "code",
   "execution_count": null,
   "metadata": {},
   "outputs": [],
   "source": [
    "import os\n",
    "from PIL import Image\n",
    "\n",
    "for f_name in os.listdir(run_parameters['output_dir']):\n",
    "    im_file = os.path.join(run_parameters['output_dir'], f_name)\n",
    "    if os.path.isfile(im_file) == True:\n",
    "        print('\\n',f_name)\n",
    "        display(Image.open(im_file))"
   ]
  },
  {
   "cell_type": "markdown",
   "metadata": {},
   "source": [
    "<a id=\"parameters_template\"></a> <br>\n",
    "[Page top](#top) <br>\n",
    "### get and modify parameters from template file:"
   ]
  },
  {
   "cell_type": "code",
   "execution_count": null,
   "metadata": {},
   "outputs": [],
   "source": [
    "\"\"\"\n",
    "    Import the toolkit function to read the template .yml file.\n",
    "    Read in the run_parameters and reset the output_dir location.\n",
    "    \n",
    "    Note:   \"class_label\" parameter is set to \"test_label_name\" \n",
    "            and will produce an reddish warning message when changed to \"test-label-name\"\n",
    "\"\"\"\n",
    "from pychunklbl.toolkit import get_run_parameters\n",
    "\n",
    "parameter_data_dir = '../data/run_files'\n",
    "\n",
    "#               read the template file into a python dict\n",
    "run_parameters = get_run_parameters(parameter_data_dir, 'wsi_file_to_patches_dir.yml')\n",
    "\n",
    "#               reset the output_dir location\n",
    "run_parameters['output_dir'] = '../../run_dir/test_results'\n",
    "\n",
    "#               display the parameters\n",
    "for k, v in run_parameters.items():\n",
    "    print('%25s: %s'%(k, v))\n",
    "    \n",
    "\n",
    "#               Create the directory if it does not exist, else - check contents.\n",
    "import os\n",
    "\n",
    "if os.path.isdir(run_parameters['output_dir']) == False:\n",
    "    os.makedirs(run_parameters['output_dir'])\n",
    "else:\n",
    "    out_dir_list = os.listdir(run_parameters['output_dir'])\n",
    "    print('\\n\\nOutput directory contents before calling the function %i entries'%len(out_dir_list))"
   ]
  },
  {
   "cell_type": "markdown",
   "metadata": {},
   "source": [
    "<a id=\"view_input_image\"></a> <br>\n",
    "[Page top](#top) <br>\n",
    "\n",
    "### Sanity Check: view the input image\n",
    "[(docs: requirements - Install OpenSlide, get slide image data)](https://ncsa.github.io/DigiPath_MLTK/Download_Openslide_Data_For_Example_Code.html) <br>"
   ]
  },
  {
   "cell_type": "code",
   "execution_count": null,
   "metadata": {},
   "outputs": [],
   "source": [
    "\"\"\"\n",
    "    Display the original image in the rich openslide context\n",
    "\"\"\"\n",
    "import openslide\n",
    "\n",
    "test_file_name = run_parameters['wsi_filename']\n",
    "print('Opening Image file: \\n\\t{}\\n'.format(test_file_name))\n",
    "openslide_obj = openslide.OpenSlide(test_file_name)\n",
    "\n",
    "print('openslide.OpenSlide(test_file_name) is type:', type(openslide_obj))\n",
    "print('obj.level_count', openslide_obj.level_count)\n",
    "print('obj.dimensions', openslide_obj.dimensions)\n",
    "print('obj.level_dimensions', openslide_obj.level_dimensions)\n",
    "print('obj.level_downsamples', openslide_obj.level_downsamples)\n",
    "print('obj.properties are type', type(openslide_obj.properties))\n",
    "\n",
    "print('\\nobj.associated_images', openslide_obj.associated_images, type(openslide_obj.associated_images))\n",
    "\n",
    "blind_region = openslide_obj.read_region((0, 0), 0, (200,200))\n",
    "print('\\nobj.read_region', openslide_obj.read_region((0, 0), 0, (200,200)))\n",
    "\n",
    "scldwn = openslide_obj.level_downsamples[-1]\n",
    "print('\\nobj.get_best_level_for_downsample(%0.6f)'%(scldwn), \n",
    "      openslide_obj.get_best_level_for_downsample(scldwn))\n",
    "\n",
    "thumbnail = openslide_obj.associated_images['thumbnail']\n",
    "openslide_obj.close()\n",
    "\n",
    "print('Slide thumbnail')\n",
    "display(thumbnail)\n"
   ]
  },
  {
   "cell_type": "code",
   "execution_count": null,
   "metadata": {},
   "outputs": [],
   "source": []
  }
 ],
 "metadata": {
  "kernelspec": {
   "display_name": "Python 3",
   "language": "python",
   "name": "python3"
  },
  "language_info": {
   "codemirror_mode": {
    "name": "ipython",
    "version": 3
   },
   "file_extension": ".py",
   "mimetype": "text/x-python",
   "name": "python",
   "nbconvert_exporter": "python",
   "pygments_lexer": "ipython3",
   "version": "3.7.3"
  }
 },
 "nbformat": 4,
 "nbformat_minor": 2
}
