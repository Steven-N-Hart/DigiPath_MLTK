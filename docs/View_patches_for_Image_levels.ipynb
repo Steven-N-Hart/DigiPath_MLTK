{
 "cells": [
  {
   "cell_type": "markdown",
   "metadata": {},
   "source": [
    "[DigiPath_MLTK functions](https://dlanier.github.io/DigiPath_MLTK/) <br>\n",
    "\n",
    "# Low Level functionality for getting patches per image level\n",
    "\n",
    "### *patch_location_array = get_patch_location_array_for_image_level(run_parameters)*\n",
    "```python\n",
    "# help(get_patch_location_array_for_image_level)\n",
    "\n",
    "\"\"\" Usage: \n",
    "patch_location_array = get_patch_location_array_for_image_level(run_parameters)\n",
    "                        using patch_select_method, find all upper left corner locations of patches\n",
    "                        that won't exceed image size givin the 'patch_height' and 'patch_width\n",
    "\n",
    "Args (run_parameters):  python dict.keys()\n",
    "                            wsi_filename:           file name (with valid path)\n",
    "                            patch_height:           patch size = (patch_width, patch_height)\n",
    "                            patch_width:            patch size = (patch_width, patch_height)\n",
    "                            thumbnail_divisor:      wsi_image full size divisor to create thumbnail image\n",
    "                            patch_select_method:    'threshold_rgb2lab' or 'threshold_otsu'\n",
    "                            threshold:              minimimum sum of thresholded image (default = 0)\n",
    "                            image_level:            openslide image pyramid level 0,1,2,...\n",
    "Returns:\n",
    "    patch_location_array:   [[x, y], [x, y],... ]   n_pairs x 2 numpy array\n",
    "\"\"\"\n",
    "```\n",
    "### *mask_im, prev_im, patch_array = get_patch_locations_preview_image_for_image_level(run_parameters)*\n",
    "```python\n",
    "# help(get_patch_locations_preview_image_for_image_level)\n",
    "\n",
    "\"\"\" Usage: with run_parameter dict \"run_pars\"\n",
    "mask_image, thumb_preview, patch_location_array = get_patch_locations_preview_image_for_image_level(run_pars)\n",
    "                                                  create viewable images to show patch locations\n",
    "\n",
    "Args (run_parameters):  python dict.keys()\n",
    "                            wsi_filename:           file name (with valid path)\n",
    "                            patch_height:           patch size = (patch_width, patch_height)\n",
    "                            patch_width:            patch size = (patch_width, patch_height)\n",
    "                            thumbnail_divisor:      wsi_image full size divisor to create thumbnail image\n",
    "                            patch_select_method:    'threshold_rgb2lab' or 'threshold_otsu'\n",
    "                            threshold:              sum of thresholded image minimimum (default = 0)\n",
    "                            image_level:            openslide image pyramid level 0,1,2,...\n",
    "\n",
    "                        Optional keys()\n",
    "                            border_color:           patch-box representation color red, blue, green, ...\n",
    "\n",
    "Returns:\n",
    "    mask_image:             black & white image of the mask\n",
    "    thumb_preview:          thumbnail image with patch locations marked\n",
    "    patch_location_array:   list of patch locations used [(row, col), (row, col),... ]\n",
    "\"\"\"\n",
    "```"
   ]
  },
  {
   "cell_type": "code",
   "execution_count": null,
   "metadata": {},
   "outputs": [],
   "source": [
    "import time\n",
    "note_book_cell_seq_run_time = time.time()\n",
    "import os\n",
    "import sys\n",
    "\n",
    "from pychunklbl.toolkit import get_patch_location_array_for_image_level\n",
    "from pychunklbl.toolkit import get_patch_locations_preview_image_for_image_level\n",
    "from pychunklbl.toolkit import get_file_size_ordered_dict, lineprint_level_sizes_dict, get_level_sizes_dict\n",
    "DEFAULT_THUMBNAIL_DIVISOR = 20\n",
    "\n",
    "data_dir = '../../../ncsa/DigiPath_MLTK_data/Aperio'\n",
    "\n",
    "file_type_list=['.svs', '.tif', '.tiff']\n",
    "fs_od = get_file_size_ordered_dict(data_dir, file_type_list)\n",
    "list_number = 0\n",
    "for k, v in fs_od.items():\n",
    "    print('%3i %30s: %i'%(list_number, k,v))\n",
    "    list_number += 1"
   ]
  },
  {
   "cell_type": "code",
   "execution_count": null,
   "metadata": {},
   "outputs": [],
   "source": [
    "#                         test data file for threshold_otsu\n",
    "image_file_name = 'CMU-2.svs'\n",
    "# image_file_name = 'JP2K-33003-2.svs'\n",
    "# image_file_name = 'CMU-1-Small-Region.svs'\n",
    "\n",
    "run_parameters = dict()\n",
    "run_parameters['wsi_filename'] = os.path.join(data_dir, image_file_name)\n",
    "print('Image File:\\n', run_parameters['wsi_filename'])\n",
    "\n",
    "run_parameters['thumbnail_divisor'] = DEFAULT_THUMBNAIL_DIVISOR\n",
    "run_parameters['patch_select_method'] = 'threshold_otsu' # 'threshold_rgb2lab'\n",
    "run_parameters['patch_height'] = 224\n",
    "run_parameters['patch_width'] = 224\n",
    "run_parameters['threshold'] = 0\n",
    "run_parameters['border_color'] = 'blue'\n",
    "\n",
    "lineprint_level_sizes_dict(run_parameters['wsi_filename'])"
   ]
  },
  {
   "cell_type": "code",
   "execution_count": null,
   "metadata": {},
   "outputs": [],
   "source": [
    "level_sizes_dict = get_level_sizes_dict(run_parameters['wsi_filename'])\n",
    "\n",
    "n_levels = level_sizes_dict['level_count']\n",
    "for im_lvl in range(0, n_levels):\n",
    "    run_parameters['image_level'] = im_lvl\n",
    "    run_parameters['thumbnail_divisor'] = DEFAULT_THUMBNAIL_DIVISOR\n",
    "    \n",
    "    t1 = time.time()\n",
    "\n",
    "    patch_location_array = get_patch_location_array_for_image_level(run_parameters)\n",
    "    print('\\nimage_level = %i,\\nnumber of patches = %i'%(im_lvl, len(patch_location_array)))\n",
    "    \n",
    "    thmb_div_4_level = run_parameters['thumbnail_divisor'] // (2*run_parameters['image_level'] + 1)\n",
    "    run_parameters['thumbnail_divisor'] = thmb_div_4_level\n",
    "    \n",
    "    mask_im, prev_im, patch_array = get_patch_locations_preview_image_for_image_level(run_parameters)\n",
    "\n",
    "    print('image_level = %i,\\nnumber of patches = %i'%(im_lvl, len(patch_array)))\n",
    "    print('cell run time: %0.3f'%(time.time() - t1))\n",
    "    print('thumb image size:', prev_im.size, 'thumbnail_divisor', run_parameters['thumbnail_divisor'])\n",
    "    \n",
    "    display(prev_im)"
   ]
  },
  {
   "cell_type": "markdown",
   "metadata": {},
   "source": [
    "### Help on utility functions used for notebook organization and display:"
   ]
  },
  {
   "cell_type": "code",
   "execution_count": null,
   "metadata": {},
   "outputs": [],
   "source": [
    "help(get_level_sizes_dict)"
   ]
  },
  {
   "cell_type": "code",
   "execution_count": null,
   "metadata": {},
   "outputs": [],
   "source": [
    "help(lineprint_level_sizes_dict)"
   ]
  },
  {
   "cell_type": "code",
   "execution_count": null,
   "metadata": {},
   "outputs": [],
   "source": [
    "help(get_file_size_ordered_dict)"
   ]
  },
  {
   "cell_type": "code",
   "execution_count": null,
   "metadata": {},
   "outputs": [],
   "source": [
    "print('Notebook total run time = %0.3f seconds'%(time.time() - note_book_cell_seq_run_time))"
   ]
  },
  {
   "cell_type": "code",
   "execution_count": null,
   "metadata": {},
   "outputs": [],
   "source": []
  }
 ],
 "metadata": {
  "kernelspec": {
   "display_name": "Python 3",
   "language": "python",
   "name": "python3"
  },
  "language_info": {
   "codemirror_mode": {
    "name": "ipython",
    "version": 3
   },
   "file_extension": ".py",
   "mimetype": "text/x-python",
   "name": "python",
   "nbconvert_exporter": "python",
   "pygments_lexer": "ipython3",
   "version": "3.7.3"
  }
 },
 "nbformat": 4,
 "nbformat_minor": 2
}
