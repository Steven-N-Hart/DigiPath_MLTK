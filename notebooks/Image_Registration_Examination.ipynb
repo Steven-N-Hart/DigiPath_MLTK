{
 "cells": [
  {
   "cell_type": "markdown",
   "metadata": {},
   "source": [
    "# Image Registration to TFRecord - data location, initial exploration\n",
    "    Set up for the morning"
   ]
  },
  {
   "cell_type": "code",
   "execution_count": null,
   "metadata": {},
   "outputs": [],
   "source": [
    "from __future__ import absolute_import, division, print_function, unicode_literals\n",
    "import tensorflow as tf\n",
    "from tempfile import TemporaryDirectory\n",
    "from PIL import ImageDraw\n",
    "\n",
    "import IPython.display as ip_display\n",
    "import os\n",
    "import sys\n",
    "import time\n",
    "import pandas as pd\n",
    "import numpy as np\n",
    "\n",
    "import matplotlib.pyplot as plt\n",
    "\n",
    "import skimage\n",
    "from skimage.filters import threshold_otsu\n",
    "\n",
    "import openslide\n",
    "\n",
    "import PIL\n",
    "from PIL.Image import Image\n",
    "\n",
    "#       module import - commented out to use modified code below\n",
    "sys.path.insert(0, '../src/python')\n",
    "from openslide_2_tfrecord import *"
   ]
  },
  {
   "cell_type": "markdown",
   "metadata": {},
   "source": [
    "## Locate and define data variables"
   ]
  },
  {
   "cell_type": "code",
   "execution_count": null,
   "metadata": {},
   "outputs": [],
   "source": [
    "test_files_dir = '../../data'\n",
    "os.listdir(test_files_dir)"
   ]
  },
  {
   "cell_type": "markdown",
   "metadata": {},
   "source": [
    "## open and display the data"
   ]
  },
  {
   "cell_type": "code",
   "execution_count": null,
   "metadata": {},
   "outputs": [],
   "source": [
    "off_set_file = os.path.join(test_files_dir, 'wsi_pair_sample.csv')\n",
    "offset_df = pd.read_csv(off_set_file)\n",
    "offset_df"
   ]
  },
  {
   "cell_type": "code",
   "execution_count": null,
   "metadata": {},
   "outputs": [],
   "source": [
    "tru_x = offset_df['truth_offset_x'].iloc[0]\n",
    "tru_y = offset_df['truth_offset_y'].iloc[0]\n",
    "auto_x = offset_df['auto_offset_x'].iloc[0]\n",
    "auto_y = offset_df['auto_offset_y'].iloc[0]\n",
    "tru_x, tru_y, auto_x, auto_y"
   ]
  },
  {
   "cell_type": "code",
   "execution_count": null,
   "metadata": {},
   "outputs": [],
   "source": [
    "fixed_file = os.path.join(test_files_dir, '54742d6c5d704efa8f0814456453573a.tiff')\n",
    "fixed_obj = openslide.OpenSlide(fixed_file)\n",
    "\n",
    "float_file = os.path.join(test_files_dir, 'e39a8d60a56844d695e9579bce8f0335.tiff')\n",
    "float_obj = openslide.OpenSlide(float_file)"
   ]
  },
  {
   "cell_type": "code",
   "execution_count": null,
   "metadata": {},
   "outputs": [],
   "source": [
    "fixed_thum_divisor = find_thumb_nail_scale_divisor(fixed_obj.dimensions[1], fixed_obj.dimensions[0])\n",
    "fixed_thumb_height = fixed_obj.dimensions[1] // fixed_thum_divisor\n",
    "fixed_thumb_width = fixed_obj.dimensions[0] // fixed_thum_divisor\n",
    "tru_thumb_x = tru_x / fixed_thum_divisor\n",
    "tru_thumb_y = tru_y / fixed_thum_divisor\n",
    "print(tru_thumb_x, tru_thumb_y)\n",
    "print(type(fixed_obj), fixed_obj.dimensions, fixed_thumb_width, fixed_thumb_height)\n",
    "fixed_im = fixed_obj.get_thumbnail((fixed_thumb_width, fixed_thumb_height))\n",
    "print(fixed_im.size)\n",
    "display(fixed_im)"
   ]
  },
  {
   "cell_type": "code",
   "execution_count": null,
   "metadata": {},
   "outputs": [],
   "source": [
    "float_thum_divisor = find_thumb_nail_scale_divisor(float_obj.dimensions[1], float_obj.dimensions[0])\n",
    "float_thumb_height = float_obj.dimensions[1] // float_thum_divisor\n",
    "float_thumb_width = float_obj.dimensions[0] // float_thum_divisor\n",
    "print(type(float_obj), float_obj.dimensions, float_thumb_width, float_thumb_height)\n",
    "float_im = float_obj.get_thumbnail((float_thumb_width, float_thumb_height))\n",
    "print(float_im.size)\n",
    "display(float_im)\n",
    "# float_obj.dimensions"
   ]
  },
  {
   "cell_type": "code",
   "execution_count": null,
   "metadata": {},
   "outputs": [],
   "source": []
  }
 ],
 "metadata": {
  "kernelspec": {
   "display_name": "Python 3",
   "language": "python",
   "name": "python3"
  },
  "language_info": {
   "codemirror_mode": {
    "name": "ipython",
    "version": 3
   },
   "file_extension": ".py",
   "mimetype": "text/x-python",
   "name": "python",
   "nbconvert_exporter": "python",
   "pygments_lexer": "ipython3",
   "version": "3.6.5"
  }
 },
 "nbformat": 4,
 "nbformat_minor": 2
}
