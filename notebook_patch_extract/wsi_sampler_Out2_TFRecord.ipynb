{
 "cells": [
  {
   "cell_type": "markdown",
   "metadata": {},
   "source": [
    "## Output toTFRecord\n",
    "****\n",
    "### possible examples\n",
    "[tf tutorials example](https://www.tensorflow.org/tutorials/load_data/tf_records) <br>\n",
    "[mnist to tfrecords](https://docs.azuredatabricks.net/_static/notebooks/deep-learning/mnist-tensorflow-to-tfrecords.html) <br>\n",
    "[]() <br>\n",
    "[]() <br>"
   ]
  },
  {
   "cell_type": "code",
   "execution_count": 1,
   "metadata": {},
   "outputs": [],
   "source": [
    "import os\n",
    "import time\n",
    "import glob\n",
    "import math\n",
    "import multiprocessing as mp\n",
    "import itertools\n",
    "import hashlib\n",
    "import tempfile\n",
    "\n",
    "import numpy as np\n",
    "import openslide\n",
    "from skimage.filters import threshold_otsu\n",
    "\n",
    "import PIL"
   ]
  },
  {
   "cell_type": "code",
   "execution_count": 2,
   "metadata": {},
   "outputs": [
    {
     "name": "stdout",
     "output_type": "stream",
     "text": [
      "Working with file: ../../DigiPath_MLTK_data/Aperio/CMU-1-Small-Region.svs \n",
      "Output path: ../../DigiPath_MLTK_data/out_to_test\n",
      "0\n"
     ]
    }
   ],
   "source": [
    "output_dir = '../../DigiPath_MLTK_data/out_to_test'\n",
    "if os.path.isdir(output_dir) == False:\n",
    "    os.makedirs(output_dir)\n",
    "    \n",
    "OUTPUT_PATH = output_dir\n",
    "data_dir = '../../DigiPath_MLTK_data/Aperio'\n",
    "files_list = ['CMU-1-Small-Region.svs', 'CMU-1.svs']\n",
    "SVS = os.path.join(data_dir, files_list[0])\n",
    "print('Working with file:', SVS, '\\nOutput path:', OUTPUT_PATH)\n",
    "\n",
    "out_dir = '../../DigiPath_MLTK_data/out_to_test'\n",
    "file_types = ['.jpg']\n",
    "files_list = []\n",
    "for maybe_file in os.listdir(out_dir):\n",
    "    full_path = os.path.join(out_dir, maybe_file)\n",
    "    if os.path.isfile(full_path):\n",
    "        _, f_ext = os.path.splitext(maybe_file)\n",
    "        if f_ext in file_types:\n",
    "            files_list.append(full_path)\n",
    "\n",
    "print(len(files_list))"
   ]
  },
  {
   "cell_type": "code",
   "execution_count": 3,
   "metadata": {},
   "outputs": [
    {
     "name": "stdout",
     "output_type": "stream",
     "text": [
      "\tget_adjcent_segmented_length_fence_array\n",
      "\tn pixels: 893 patch_length: 224\n",
      "\n",
      "         fence_array:\n",
      "                     111,    334\n",
      "                     335,    558\n",
      "                     559,    782\n",
      "            n_fenced: 3\n",
      "            n_remain: 222\n",
      "             padding: 111\n"
     ]
    }
   ],
   "source": [
    "def get_adjcent_segmented_length_fence_array(segment_length, length):\n",
    "    fences = {}\n",
    "    n_fenced = length // segment_length\n",
    "    n_remain = 1 + length % segment_length\n",
    "    paddit = n_remain // 2\n",
    "    if n_remain == segment_length:\n",
    "        paddit = 0\n",
    "        n_remain = 0\n",
    "        n_fenced = n_fenced + 1\n",
    "    \n",
    "    fence_array = np.zeros((n_fenced, 2)).astype(int)\n",
    "    for k in range(n_fenced):\n",
    "        if k == 0:\n",
    "            fence_array[k, 0] = paddit\n",
    "            fence_array[k, 1] = fence_array[k, 0] + segment_length - 1\n",
    "        elif fence_array[k-1, 1] + segment_length <= length:\n",
    "            fence_array[k, 0] = fence_array[k-1, 1] + 1\n",
    "            fence_array[k, 1] = fence_array[k, 0] + segment_length - 1\n",
    "        \n",
    "    fences['fence_array'] = fence_array\n",
    "    fences['n_fenced'] = n_fenced\n",
    "    fences['n_remain'] = n_remain\n",
    "    fences['padding'] = paddit\n",
    "\n",
    "    return fences\n",
    "\n",
    "segment_length = 224\n",
    "length = segment_length*4 - 3\n",
    "\n",
    "print('\\tget_adjcent_segmented_length_fence_array')\n",
    "print('\\tn pixels: %i patch_length: %i\\n'%(length, segment_length))\n",
    "fences_dict = get_adjcent_segmented_length_fence_array(segment_length, length)\n",
    "for k, v in fences_dict.items():\n",
    "    if isinstance(v, np.ndarray):\n",
    "        print('%20s:'%(k))\n",
    "        for v_idx in range(v.shape[0]):\n",
    "            if v[v_idx,1] - v[v_idx,0] != segment_length - 1:\n",
    "                print('%24s, %6i   Bug Bug'%(v[v_idx,0], v[v_idx,1]))\n",
    "            else:\n",
    "                print('%24s, %6i'%(v[v_idx,0], v[v_idx,1]))\n",
    "    else:\n",
    "        print('%20s: %s'%(k,v))\n"
   ]
  },
  {
   "cell_type": "code",
   "execution_count": null,
   "metadata": {},
   "outputs": [],
   "source": []
  },
  {
   "cell_type": "code",
   "execution_count": null,
   "metadata": {},
   "outputs": [],
   "source": []
  },
  {
   "cell_type": "code",
   "execution_count": null,
   "metadata": {},
   "outputs": [],
   "source": []
  },
  {
   "cell_type": "code",
   "execution_count": null,
   "metadata": {},
   "outputs": [],
   "source": []
  },
  {
   "cell_type": "code",
   "execution_count": null,
   "metadata": {},
   "outputs": [],
   "source": []
  },
  {
   "cell_type": "code",
   "execution_count": null,
   "metadata": {},
   "outputs": [],
   "source": []
  },
  {
   "cell_type": "code",
   "execution_count": null,
   "metadata": {},
   "outputs": [],
   "source": []
  },
  {
   "cell_type": "code",
   "execution_count": null,
   "metadata": {},
   "outputs": [],
   "source": []
  },
  {
   "cell_type": "code",
   "execution_count": null,
   "metadata": {},
   "outputs": [],
   "source": []
  }
 ],
 "metadata": {
  "kernelspec": {
   "display_name": "Python 3",
   "language": "python",
   "name": "python3"
  },
  "language_info": {
   "codemirror_mode": {
    "name": "ipython",
    "version": 3
   },
   "file_extension": ".py",
   "mimetype": "text/x-python",
   "name": "python",
   "nbconvert_exporter": "python",
   "pygments_lexer": "ipython3",
   "version": "3.7.3"
  }
 },
 "nbformat": 4,
 "nbformat_minor": 2
}
