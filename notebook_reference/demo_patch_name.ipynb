{
 "cells": [
  {
   "cell_type": "markdown",
   "metadata": {},
   "source": [
    "# Refactor module & rename: *svs_file_to_patches_tfrecord(...)*\n",
    "## Patch Names as encoding of Class, location and label\n",
    "\n",
    "<img src='./images/file_name_coding.png' />"
   ]
  },
  {
   "cell_type": "markdown",
   "metadata": {},
   "source": [
    "```python\n",
    "patch_image_name_dict_0 = {'case_id': 'd83cc7d1c94', \n",
    "                         'location_x': 100, \n",
    "                         'location_y': 340, \n",
    "                         'class_label': 'dermis', \n",
    "                         'file_ext': '.jpg'}\n",
    "\n",
    "patch_image_name_dict_1 = {'case_id': 'd83cc7d1c94', \n",
    "                         'location_x': 200, \n",
    "                         'location_y': 440, \n",
    "                         'class_label': 'dermis', \n",
    "                         'file_ext': '.jpg'}\n",
    "```"
   ]
  },
  {
   "cell_type": "code",
   "execution_count": 1,
   "metadata": {},
   "outputs": [
    {
     "data": {
      "text/plain": [
       "['digipath_toolkit.pyc',\n",
       " '__pycache__',\n",
       " 'digipath_mltk.py',\n",
       " 'digipath_toolkit.py',\n",
       " 'openslide_2_tfrecord.py']"
      ]
     },
     "execution_count": 1,
     "metadata": {},
     "output_type": "execute_result"
    }
   ],
   "source": [
    "import os\n",
    "import sys\n",
    "import warnings\n",
    "\n",
    "sys.path.insert(0, '../src/python')\n",
    "from digipath_toolkit import patch_name_parts_clean_with_warning, dict_to_patch_name, patch_name_to_dict\n",
    "\n",
    "os.listdir('../src/python')"
   ]
  },
  {
   "cell_type": "code",
   "execution_count": 2,
   "metadata": {},
   "outputs": [
    {
     "name": "stderr",
     "output_type": "stream",
     "text": [
      "../src/python/digipath_toolkit.py:520: UserWarning: \n",
      "Input parameter changed.\t(for name readback decoding)\n",
      "parameter:\tDuck_tpye [43] {null_stuff} *>? brodaglio.pip_pip_hooray\n",
      "changed to:\tDuck-tpye[43]{null-stuff}brodaglio.pip-pip-hooray\n",
      "\n",
      "  warnings.warn(warn_format_str % (par_change_warning, file_name_base, name_base_clean))\n",
      "../src/python/digipath_toolkit.py:524: UserWarning: \n",
      "Input parameter changed.\t(for name readback decoding)\n",
      "parameter:\tfunny-funny label *\n",
      "changed to:\tfunny-funnylabel\n",
      "\n",
      "  warnings.warn(warn_format_str % (par_change_warning, class_label, class_label_clean))\n"
     ]
    }
   ],
   "source": [
    "\"\"\"\n",
    "                demo file name guard   --  demonstrate warnings\n",
    "\"\"\"\n",
    "f_name_base = 'Duck_tpye [43] {null_stuff} *>? brodaglio.pip_pip_hooray'\n",
    "c_label = 'funny-funny label *'\n",
    "\n",
    "f, c = patch_name_parts_clean_with_warning(f_name_base, c_label)"
   ]
  },
  {
   "cell_type": "code",
   "execution_count": 3,
   "metadata": {},
   "outputs": [
    {
     "name": "stdout",
     "output_type": "stream",
     "text": [
      "d83cc7d1c94_100_340_dermis.jpg\n",
      "\n",
      "\t\treturned dict:\n",
      "\n",
      "                       case_id:          d83cc7d1c94 == d83cc7d1c94\n",
      "                    location_x:                  100 == 100\n",
      "                    location_y:                  340 == 340\n",
      "                   class_label:               dermis == dermis\n",
      "                      file_ext:                 .jpg == .jpg\n"
     ]
    }
   ],
   "source": [
    "\"\"\"\n",
    "                demo round trip dictionary to name to dictionary\n",
    "\"\"\"\n",
    "patch_image_name_dict = {'case_id': 'd83cc7d1c94', \n",
    "                         'location_x': 100, \n",
    "                         'location_y': 340, \n",
    "                         'class_label': 'dermis', \n",
    "                         'file_ext': '.jpg'}\n",
    "\n",
    "#               get the name\n",
    "patch_file_name = dict_to_patch_name(patch_image_name_dict)\n",
    "print(patch_file_name)\n",
    "\n",
    "#               get the dictionary back from the name\n",
    "patch_image_name_dict_II = patch_name_to_dict(patch_file_name)\n",
    "\n",
    "print('\\n\\t\\treturned dict:\\n')\n",
    "for k, v in patch_image_name_dict_II.items():\n",
    "    print('%30s: %20s == %s'%(k, str(v), str(patch_image_name_dict[k])))"
   ]
  },
  {
   "cell_type": "code",
   "execution_count": 4,
   "metadata": {},
   "outputs": [
    {
     "name": "stdout",
     "output_type": "stream",
     "text": [
      "d83cc7d1c94_200_440_dermis.jpg\n",
      "\n",
      "\t\treturned dict:\n",
      "\n",
      "                       case_id:          d83cc7d1c94 == d83cc7d1c94\n",
      "                    location_x:                  200 == 200\n",
      "                    location_y:                  440 == 440\n",
      "                   class_label:               dermis == dermis\n",
      "                      file_ext:                 .jpg == .jpg\n"
     ]
    }
   ],
   "source": [
    "patch_image_name_dict_1 = {'case_id': 'd83cc7d1c94', \n",
    "                         'location_x': 200, \n",
    "                         'location_y': 440, \n",
    "                         'class_label': 'dermis', \n",
    "                         'file_ext': '.jpg'}\n",
    "\n",
    "#               get the name\n",
    "patch_file_name_1 = dict_to_patch_name(patch_image_name_dict_1)\n",
    "print(patch_file_name_1)\n",
    "\n",
    "#               get the dictionary back from the name\n",
    "patch_image_name_dict_1_r = patch_name_to_dict(patch_file_name_1)\n",
    "\n",
    "print('\\n\\t\\treturned dict:\\n')\n",
    "for k, v in patch_image_name_dict_1_r.items():\n",
    "    print('%30s: %20s == %s'%(k, str(v), str(patch_image_name_dict_1[k])))"
   ]
  },
  {
   "cell_type": "code",
   "execution_count": null,
   "metadata": {},
   "outputs": [],
   "source": []
  }
 ],
 "metadata": {
  "kernelspec": {
   "display_name": "Python 3",
   "language": "python",
   "name": "python3"
  },
  "language_info": {
   "codemirror_mode": {
    "name": "ipython",
    "version": 3
   },
   "file_extension": ".py",
   "mimetype": "text/x-python",
   "name": "python",
   "nbconvert_exporter": "python",
   "pygments_lexer": "ipython3",
   "version": "3.7.3"
  }
 },
 "nbformat": 4,
 "nbformat_minor": 2
}
