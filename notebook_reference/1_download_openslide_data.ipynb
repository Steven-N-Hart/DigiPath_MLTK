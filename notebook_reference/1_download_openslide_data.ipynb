{
 "cells": [
  {
   "cell_type": "markdown",
   "metadata": {},
   "source": [
    "<a id=\"top\"></a>\n",
    "# Download Aperio *(.svs)* data for experiment with openslide library\n",
    "****\n",
    "### Openslide links\n",
    "[OpenSlide api](https://openslide.org/api/python/) <br>\n",
    "[openslide github](https://github.com/openslide/openslide-python) <br>\n",
    "[openslide dot org](https://openslide.org/) <br>\n",
    "### Install on Mac OSX:\n",
    "```bash\n",
    "# may require creation of this directory\n",
    "# sudo mkdir /usr/loca/Frameworks\n",
    "brew install openslide\n",
    "pip3 install openslide-python\n",
    "# or maybe\n",
    "# pip install openslide-python\n",
    "```\n",
    "***\n",
    "    Internal links:\n",
    "[View the list of files available](#view_example_files) <br>\n",
    "[Notebook Cell to Download SVS example data](#dwnld_svs) <br>\n",
    "\n",
    "****\n",
    "    External Links\n",
    "## Exercise low-level functions in python std library urllib & view openslide examples data\n",
    "[urllib docs](https://docs.python.org/3/library/urllib.html) <br>\n",
    "[StackOverflow: download and unzip](https://stackoverflow.com/questions/5710867/downloading-and-unzipping-a-zip-file-without-writing-to-disk) <br>\n",
    "[openslide data](http://openslide.cs.cmu.edu/download/openslide-testdata/) <br>\n",
    "\n",
    "**** \n",
    "## Python Requests vs (urllib, urllib2) ... std lib preferred\n",
    "[requests on StackOverflow](https://stackoverflow.com/questions/2018026/what-are-the-differences-between-the-urllib-urllib2-and-requests-module) <br>"
   ]
  },
  {
   "cell_type": "markdown",
   "metadata": {},
   "source": [
    "<a id=\"view_example_files\"></a>\n",
    "## View the list of example files available\n",
    "[Top](#top) <br>"
   ]
  },
  {
   "cell_type": "code",
   "execution_count": 1,
   "metadata": {},
   "outputs": [
    {
     "name": "stdout",
     "output_type": "stream",
     "text": [
      "View json data in the Raw (If Internet Allows):\n",
      "http://openslide.cs.cmu.edu/download/openslide-testdata/index.json\n",
      "\n",
      "with temporary directory\n",
      "\t /var/folders/gf/ybz3wzn55m139k_4dw2v_tvm0000gn/T/tmp3r6a28hy \n",
      "\n",
      "48 filenames:\n",
      "\t description\n",
      "\t format\n",
      "\t license\n",
      "\t sha256\n",
      "\t size\n",
      "\n",
      "                       Aperio/CMU-1-JP2K-33005.svs:    132 MB\n",
      "                     Aperio/CMU-1-Small-Region.svs:      1 MB\n",
      "                                  Aperio/CMU-1.svs:    177 MB\n",
      "                                  Aperio/CMU-2.svs:    390 MB\n",
      "                                  Aperio/CMU-3.svs:    253 MB\n",
      "                           Aperio/JP2K-33003-1.svs:     63 MB\n",
      "                           Aperio/JP2K-33003-2.svs:    289 MB\n",
      "                           Generic-TIFF/CMU-1.tiff:    204 MB\n",
      "                           Hamamatsu-vms/CMU-1.zip:    646 MB\n",
      "                           Hamamatsu-vms/CMU-2.zip:   1216 MB\n",
      "                           Hamamatsu-vms/CMU-3.zip:    951 MB\n",
      "                              Hamamatsu/CMU-1.ndpi:    198 MB\n",
      "                              Hamamatsu/CMU-2.ndpi:    400 MB\n",
      "                              Hamamatsu/CMU-3.ndpi:    283 MB\n",
      "                               Hamamatsu/OS-1.ndpi:   1992 MB\n",
      "                               Hamamatsu/OS-2.ndpi:    976 MB\n",
      "                               Hamamatsu/OS-3.ndpi:   1473 MB\n",
      "                                 Leica/Leica-1.scn:    291 MB\n",
      "                                 Leica/Leica-2.scn:   2252 MB\n",
      "                                 Leica/Leica-3.scn:   2993 MB\n",
      "                    Leica/Leica-Fluorescence-1.scn:     21 MB\n",
      "                          Mirax/CMU-1-Exported.zip:   2169 MB\n",
      "                        Mirax/CMU-1-Saved-1_16.zip:      3 MB\n",
      "                         Mirax/CMU-1-Saved-1_2.zip:    150 MB\n",
      "                                   Mirax/CMU-1.zip:    565 MB\n",
      "                                   Mirax/CMU-2.zip:   1307 MB\n",
      "                                   Mirax/CMU-3.zip:    681 MB\n",
      "                   Mirax/Mirax2-Fluorescence-1.zip:     63 MB\n",
      "                   Mirax/Mirax2-Fluorescence-2.zip:     41 MB\n",
      "                              Mirax/Mirax2.2-1.zip:   2803 MB\n",
      "                              Mirax/Mirax2.2-2.zip:   2552 MB\n",
      "                              Mirax/Mirax2.2-3.zip:   2972 MB\n",
      "                          Mirax/Mirax2.2-4-BMP.zip:    997 MB\n",
      "                          Mirax/Mirax2.2-4-PNG.zip:   1060 MB\n",
      "                                  Olympus/OS-1.zip:    518 MB\n",
      "                                  Olympus/OS-2.zip:    309 MB\n",
      "                                  Olympus/OS-3.zip:    357 MB\n",
      "                                 Trestle/CMU-1.zip:    166 MB\n",
      "                                 Trestle/CMU-2.zip:    318 MB\n",
      "                                 Trestle/CMU-3.zip:    233 MB\n",
      "                                  Ventana/OS-1.bif:   3871 MB\n",
      "                                  Ventana/OS-2.bif:   2717 MB\n",
      "                          Zeiss/Zeiss-1-Merged.zvi:     10 MB\n",
      "                         Zeiss/Zeiss-1-Stacked.zvi:    112 MB\n",
      "                          Zeiss/Zeiss-2-Merged.zvi:     10 MB\n",
      "                         Zeiss/Zeiss-2-Stacked.zvi:    130 MB\n",
      "                          Zeiss/Zeiss-3-Mosaic.zvi:   2196 MB\n",
      "                          Zeiss/Zeiss-4-Mosaic.zvi:   1093 MB\n"
     ]
    }
   ],
   "source": [
    "import os\n",
    "import tempfile\n",
    "import time\n",
    "import json\n",
    "import urllib.request\n",
    "import openslide\n",
    "\n",
    "remote_index_file_name = 'index.json'\n",
    "data_download = 'http://openslide.cs.cmu.edu/download/openslide-testdata/'\n",
    "dir_file = os.path.join(data_download, remote_index_file_name)\n",
    "print(\"View json data in the Raw (If Internet Allows):\\n{}\\n\".format(dir_file))\n",
    "\n",
    "dir_dict = {}\n",
    "with tempfile.TemporaryDirectory() as tmpdirname:\n",
    "    print('with temporary directory\\n\\t {} \\n'.format(tmpdirname))\n",
    "    temp_json = os.path.join(tmpdirname, remote_index_file_name)\n",
    "    tuple_of_stuff = urllib.request.urlretrieve(dir_file, temp_json)\n",
    "    \n",
    "    with open(temp_json, 'r') as fh:\n",
    "        dir_dict = json.loads(fh.read())\n",
    "    \n",
    "if len(dir_dict) > 0:\n",
    "    MB = 1000000\n",
    "    n_files = len(dir_dict)\n",
    "    k1 = dir_dict[list(dir_dict.keys())[0]]\n",
    "    print('%i filenames:'%(n_files))\n",
    "    for k in k1.keys():\n",
    "        print('\\t',k)\n",
    "    print()\n",
    "    for k, v in dir_dict.items():\n",
    "        print('%50s: %6i MB'%(k, v['size'] / MB))"
   ]
  },
  {
   "cell_type": "markdown",
   "metadata": {},
   "source": [
    "<a id=\"dwnld_svs\"></a>\n",
    "****\n",
    "## How to download one file:\n",
    "```python\n",
    "data_download = 'http://openslide.cs.cmu.edu/download/openslide-testdata/'\n",
    "file_to_download = data_download + 'Aperio/CMU-1-Small-Region.svs'\n",
    "destination_file_name = os.path.join(target_dir, 'CMU-1-Small-Region.svs')\n",
    "# destination_file_name = '../data/Aperio/CMU-1-Small-Region.svs'\n",
    "print(file_to_download)\n",
    "\n",
    "if os.path.isdir(target_dir):\n",
    "    print('dir found for', destination_file_name)\n",
    "\n",
    "    tuple_of_stuff = urllib.request.urlretrieve(file_to_download, destination_file_name)\n",
    "    print(tuple_of_stuff)\n",
    "```\n",
    "****"
   ]
  },
  {
   "cell_type": "code",
   "execution_count": 4,
   "metadata": {},
   "outputs": [],
   "source": [
    "# Generic-TIFF/CMU-1.tiff\n",
    "tiff_dir = '../../DigiPath_MLTK_data/Tiff'\n",
    "if os.path.isdir(tiff_dir) == False:\n",
    "    os.makedirs(tiff_dir)"
   ]
  },
  {
   "cell_type": "code",
   "execution_count": 8,
   "metadata": {},
   "outputs": [
    {
     "name": "stdout",
     "output_type": "stream",
     "text": [
      "http://openslide.cs.cmu.edu/download/openslide-testdata/Generic-TIFF/CMU-1.tiff\n",
      "dir found for ../../DigiPath_MLTK_data/Tiff/CMU-1.tiff\n",
      "('../../DigiPath_MLTK_data/Tiff/CMU-1.tiff', <http.client.HTTPMessage object at 0x103b12c18>)\n"
     ]
    }
   ],
   "source": [
    "#             Get the lone tiff\n",
    "data_download = 'http://openslide.cs.cmu.edu/download/openslide-testdata/'\n",
    "file_to_download = data_download + 'Generic-TIFF/CMU-1.tiff'\n",
    "destination_file_name = os.path.join(tiff_dir, 'CMU-1.tiff')\n",
    "\n",
    "print(file_to_download)\n",
    "\n",
    "if os.path.isdir(tiff_dir):\n",
    "    print('dir found for', destination_file_name)\n",
    "\n",
    "    tuple_of_stuff = urllib.request.urlretrieve(file_to_download, destination_file_name)\n",
    "    print(tuple_of_stuff)"
   ]
  },
  {
   "cell_type": "markdown",
   "metadata": {},
   "source": [
    "## Download SVS example files\n",
    "    (Only need to run once)\n",
    "[Top](#top) <br>"
   ]
  },
  {
   "cell_type": "code",
   "execution_count": 3,
   "metadata": {},
   "outputs": [
    {
     "name": "stdout",
     "output_type": "stream",
     "text": [
      "                       Aperio/CMU-1-JP2K-33005.svs:    132 MB\n",
      "                     Aperio/CMU-1-Small-Region.svs:      1 MB\n",
      "                                  Aperio/CMU-1.svs:    177 MB\n",
      "                                  Aperio/CMU-2.svs:    390 MB\n",
      "                                  Aperio/CMU-3.svs:    253 MB\n",
      "                           Aperio/JP2K-33003-1.svs:     63 MB\n",
      "                           Aperio/JP2K-33003-2.svs:    289 MB\n",
      "../../DigiPath_MLTK_data/Aperio/CMU-1-JP2K-33005.svs\n",
      "('../../DigiPath_MLTK_data/Aperio/CMU-1-JP2K-33005.svs', <http.client.HTTPMessage object at 0x10ec20a58>)\n",
      "44.536 seconds\n",
      "../../DigiPath_MLTK_data/Aperio/CMU-1-Small-Region.svs\n",
      "('../../DigiPath_MLTK_data/Aperio/CMU-1-Small-Region.svs', <http.client.HTTPMessage object at 0x10ec20908>)\n",
      "0.797 seconds\n",
      "../../DigiPath_MLTK_data/Aperio/CMU-1.svs\n",
      "('../../DigiPath_MLTK_data/Aperio/CMU-1.svs', <http.client.HTTPMessage object at 0x10ec20630>)\n",
      "60.383 seconds\n",
      "../../DigiPath_MLTK_data/Aperio/CMU-2.svs\n",
      "('../../DigiPath_MLTK_data/Aperio/CMU-2.svs', <http.client.HTTPMessage object at 0x10ec203c8>)\n",
      "142.752 seconds\n",
      "../../DigiPath_MLTK_data/Aperio/CMU-3.svs\n",
      "('../../DigiPath_MLTK_data/Aperio/CMU-3.svs', <http.client.HTTPMessage object at 0x10ec20b38>)\n",
      "82.697 seconds\n",
      "../../DigiPath_MLTK_data/Aperio/JP2K-33003-1.svs\n",
      "('../../DigiPath_MLTK_data/Aperio/JP2K-33003-1.svs', <http.client.HTTPMessage object at 0x10ec209e8>)\n",
      "24.464 seconds\n",
      "../../DigiPath_MLTK_data/Aperio/JP2K-33003-2.svs\n",
      "('../../DigiPath_MLTK_data/Aperio/JP2K-33003-2.svs', <http.client.HTTPMessage object at 0x10ec20940>)\n",
      "111.762 seconds\n"
     ]
    }
   ],
   "source": [
    "target_dir = '../../DigiPath_MLTK_data/Aperio'\n",
    "\n",
    "if os.path.isdir(target_dir) == False:\n",
    "    os.makedirs(target_dir)\n",
    "    \n",
    "Aperio_data_files_list = []\n",
    "\n",
    "for k, v in dir_dict.items():\n",
    "    d_in_q = k.split('/')[0]\n",
    "    if d_in_q == 'Aperio':\n",
    "        print('%50s: %6i MB'%(k, v['size'] / MB))\n",
    "        Aperio_data_files_list.append(os.path.join(data_download, k))\n",
    "        \n",
    "for file_to_download in Aperio_data_files_list:\n",
    "    target_file_name = file_to_download.split('/')[-1]\n",
    "    target_file_name = os.path.join(target_dir, target_file_name)\n",
    "    t0 = time.time()\n",
    "    print(target_file_name)\n",
    "    tuple_of_stuff = urllib.request.urlretrieve(file_to_download, target_file_name)\n",
    "    print(tuple_of_stuff)\n",
    "    print('%0.3f seconds'%(time.time() - t0))"
   ]
  },
  {
   "cell_type": "markdown",
   "metadata": {},
   "source": [
    "## Download all Sample Data"
   ]
  },
  {
   "cell_type": "code",
   "execution_count": 2,
   "metadata": {},
   "outputs": [
    {
     "name": "stdout",
     "output_type": "stream",
     "text": [
      "Variable                 Type             Data/Info\n",
      "---------------------------------------------------\n",
      "MB                       int              1000000\n",
      "autopep8                 module           <module 'autopep8' from '<...>te-packages/autopep8.py'>\n",
      "data_download            str              http://openslide.cs.cmu.e<...>nload/openslide-testdata/\n",
      "dir_dict                 dict             n=48\n",
      "dir_file                 str              http://openslide.cs.cmu.e<...>slide-testdata/index.json\n",
      "fh                       TextIOWrapper    <_io.TextIOWrapper name='<...>ode='r' encoding='UTF-8'>\n",
      "json                     module           <module 'json' from '/Lib<...>hon3.7/json/__init__.py'>\n",
      "k                        str              Zeiss/Zeiss-4-Mosaic.zvi\n",
      "k1                       dict             n=5\n",
      "n_files                  int              48\n",
      "openslide                module           <module 'openslide' from <...>s/openslide/__init__.py'>\n",
      "os                       module           <module 'os' from '/Libra<...>3.7/lib/python3.7/os.py'>\n",
      "remote_index_file_name   str              index.json\n",
      "temp_json                str              /var/folders/gf/ybz3wzn55<...>/T/tmpfdgmy57u/index.json\n",
      "tempfile                 module           <module 'tempfile' from '<...>b/python3.7/tempfile.py'>\n",
      "time                     module           <module 'time' (built-in)>\n",
      "tmpdirname               str              /var/folders/gf/ybz3wzn55<...>v_tvm0000gn/T/tmpfdgmy57u\n",
      "tuple_of_stuff           tuple            n=2\n",
      "urllib                   module           <module 'urllib' from '/L<...>n3.7/urllib/__init__.py'>\n",
      "v                        dict             n=6\n"
     ]
    }
   ],
   "source": [
    "%whos"
   ]
  },
  {
   "cell_type": "code",
   "execution_count": null,
   "metadata": {},
   "outputs": [],
   "source": []
  },
  {
   "cell_type": "code",
   "execution_count": null,
   "metadata": {},
   "outputs": [],
   "source": [
    "Mirax_target_dir = '../../DigiPath_MLTK_data/Mirax'\n",
    "\n",
    "if os.path.isdir(Mirax_target_dir) == False:\n",
    "    os.makedirs(Mirax_target_dir)\n",
    "    \n",
    "Mirax_data_files_list = []\n",
    "\n",
    "for k, v in dir_dict.items():\n",
    "    d_in_q = k.split('/')[0]\n",
    "    if d_in_q == 'Mirax':\n",
    "        print('%50s: %6i MB'%(k, v['size'] / MB))\n",
    "        Mirax_data_files_list.append(os.path.join(data_download, k))\n",
    "        \n",
    "for file_to_download in Mirax_data_files_list:\n",
    "    target_file_name = file_to_download.split('/')[-1]\n",
    "    target_file_name = os.path.join(Mirax_target_dir, target_file_name)\n",
    "    t0 = time.time()\n",
    "    print(target_file_name)\n",
    "    tuple_of_stuff = urllib.request.urlretrieve(file_to_download, target_file_name)\n",
    "    print(tuple_of_stuff)\n",
    "    print('%0.3f seconds'%(time.time() - t0))"
   ]
  },
  {
   "cell_type": "code",
   "execution_count": 5,
   "metadata": {},
   "outputs": [
    {
     "data": {
      "text/plain": [
       "['.DS_Store',\n",
       " 'module_test',\n",
       " 'out_to_test',\n",
       " 'Aperio',\n",
       " 'bad_test_images',\n",
       " 'Tiff']"
      ]
     },
     "execution_count": 5,
     "metadata": {},
     "output_type": "execute_result"
    }
   ],
   "source": [
    "os.listdir('../../DigiPath_MLTK_data/')"
   ]
  }
 ],
 "metadata": {
  "kernelspec": {
   "display_name": "Python 3",
   "language": "python",
   "name": "python3"
  },
  "language_info": {
   "codemirror_mode": {
    "name": "ipython",
    "version": 3
   },
   "file_extension": ".py",
   "mimetype": "text/x-python",
   "name": "python",
   "nbconvert_exporter": "python",
   "pygments_lexer": "ipython3",
   "version": "3.7.3"
  }
 },
 "nbformat": 4,
 "nbformat_minor": 2
}
