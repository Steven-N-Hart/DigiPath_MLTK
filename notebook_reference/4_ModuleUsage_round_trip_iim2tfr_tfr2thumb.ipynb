{
 "cells": [
  {
   "cell_type": "code",
   "execution_count": null,
   "metadata": {},
   "outputs": [],
   "source": [
    "%matplotlib inline"
   ]
  },
  {
   "cell_type": "markdown",
   "metadata": {},
   "source": [
    "# Roundtrip run module with a list of WSI image files\n",
    "Requires data directory *DigiPath_MLTK_data/(image data)* in same level as DigiPath_MLTK clone directory <br>\n",
    "(See jupyter notebook: *1_download_openslide_data.ipynb* in this directory). <br>\n",
    "    \n",
    "```python\n",
    "# <o><o> set the images directory in the cell below red comment:  \n",
    "\"\"\"                                    Set the name of the image files directory here  \"\"\"\n",
    "```"
   ]
  },
  {
   "cell_type": "code",
   "execution_count": null,
   "metadata": {},
   "outputs": [],
   "source": [
    "from __future__ import absolute_import, division, print_function, unicode_literals\n",
    "import tensorflow as tf\n",
    "from tempfile import TemporaryDirectory\n",
    "from PIL import ImageDraw\n",
    "\n",
    "import IPython.display as ip_display\n",
    "import os\n",
    "import sys\n",
    "import time\n",
    "import pandas as pd\n",
    "import numpy as np\n",
    "\n",
    "import matplotlib.pyplot as plt\n",
    "\n",
    "import skimage\n",
    "from skimage.filters import threshold_otsu\n",
    "\n",
    "import openslide\n",
    "\n",
    "import PIL\n",
    "from PIL.Image import Image\n",
    "\n",
    "#       module import - commented out to use modified code below\n",
    "sys.path.insert(0, '../src/python')\n",
    "from openslide_2_tfrecord import *\n",
    "\n",
    "file_ext_list = ['.svs', '.tif', '.tiff', '.tfrecords']\n",
    "def get_file_size_dict(data_dir, reverse_dict=False):\n",
    "    \"\"\" Use to get size-ranked list of files in a directory:\n",
    "    file_size_dict = get_file_size_dict(data_dir)\n",
    "    \"\"\"\n",
    "    file_size_dict = {}\n",
    "    for f in os.listdir(data_dir):\n",
    "        ff = os.path.join(data_dir, f)\n",
    "        if os.path.isfile(ff): \n",
    "            _, f_ext = os.path.splitext(ff)\n",
    "            if f_ext in file_ext_list:\n",
    "                file_size_dict[ff] = os.path.getsize(ff)\n",
    "                \n",
    "    return file_size_dict\n",
    "\n",
    "\"\"\"                                    Set the name of the image files directory here  \"\"\"\n",
    "data_dir = '../../DigiPath_MLTK_data/Aperio'\n",
    "\n",
    "file_size_dict = get_file_size_dict(data_dir)\n",
    "rev_file_size_dict = {v:k for k, v in file_size_dict.items()}\n",
    "\n",
    "ordered_keys = sorted(list(file_size_dict.values()))\n",
    "files_list = []\n",
    "for k in ordered_keys:\n",
    "    files_list.append(rev_file_size_dict[k])\n",
    "\n",
    "#                                       display the list of files:\n",
    "print('\\nordered by size:\\n')\n",
    "count = 0\n",
    "for f in files_list:\n",
    "    _, f_only = os.path.split(f)\n",
    "    print('%3i %30s: %i'%(count, f_only, file_size_dict[f]))\n",
    "    count += 1"
   ]
  },
  {
   "cell_type": "markdown",
   "metadata": {},
   "source": [
    "## next cell converts all listed images into TFRecord files"
   ]
  },
  {
   "cell_type": "code",
   "execution_count": null,
   "metadata": {},
   "outputs": [],
   "source": [
    "imf_tfr_list = []\n",
    "for fn in range(len(files_list)):\n",
    "    print(fn, '\\n', files_list[fn])\n",
    "\n",
    "    svs_file_name = os.path.join(data_dir, files_list[fn])\n",
    "\n",
    "    output_dir = '../../DigiPath_MLTK_data/module_test'\n",
    "    if os.path.isdir(output_dir) == False:\n",
    "        print(output_dir, '\\n\\tnot found')\n",
    "\n",
    "    patch_size = [224, 224]\n",
    "    \n",
    "    \"\"\"                        patch_keep_threshold (0, 1)    Larger is more patches  <o><o>  \"\"\"\n",
    "    patch_keep_threshold = 0.9\n",
    "\n",
    "    start_call_time = time.time()\n",
    "    report_dict = svs_file_to_patches_tfrecord(svs_file_name, output_dir, patch_size, patch_keep_threshold)\n",
    "\n",
    "    tfrecord_file_name = report_dict['tfrecord_file_name']\n",
    "    \n",
    "    imf_tfr_list.append([svs_file_name, tfrecord_file_name])\n",
    "    \n",
    "    number_of_patches = report_dict['number_of_patches']\n",
    "    mask_dict = report_dict['mask_dict']\n",
    "    temp_dir = report_dict['temp_dir']\n",
    "\n",
    "    total_run_time = time.time() - start_call_time\n",
    "    print('%s\\n%i patches, %0.3fs run time\\n\\n'%(tfrecord_file_name, number_of_patches, total_run_time))"
   ]
  },
  {
   "cell_type": "markdown",
   "metadata": {},
   "source": [
    "## Display patch locations of TFRecord, WSI files as thumbnail image\n",
    "\n",
    "### Note that all boxes represent 224x224 patches"
   ]
  },
  {
   "cell_type": "code",
   "execution_count": null,
   "metadata": {},
   "outputs": [],
   "source": [
    "for k in range(len(imf_tfr_list)):\n",
    "    tfrecord_filename = imf_tfr_list[k][1]\n",
    "    svs_file_name = imf_tfr_list[k][0]\n",
    "    print('\\n', tfrecord_filename, '\\n', svs_file_name)\n",
    "    wsi_filename = svs_file_name\n",
    "    start_call_time = time.time()\n",
    "    o_thum = get_tfrecord_marked_thumbnail(tfrecord_filename, wsi_filename, border_color='turquoise')\n",
    "    print(o_thum.size, 'thumbnail image in %0.3fs'%(time.time() - start_call_time))\n",
    "    display(o_thum)"
   ]
  },
  {
   "cell_type": "code",
   "execution_count": null,
   "metadata": {},
   "outputs": [],
   "source": []
  }
 ],
 "metadata": {
  "kernelspec": {
   "display_name": "Python 3",
   "language": "python",
   "name": "python3"
  },
  "language_info": {
   "codemirror_mode": {
    "name": "ipython",
    "version": 3
   },
   "file_extension": ".py",
   "mimetype": "text/x-python",
   "name": "python",
   "nbconvert_exporter": "python",
   "pygments_lexer": "ipython3",
   "version": "3.7.3"
  }
 },
 "nbformat": 4,
 "nbformat_minor": 2
}
