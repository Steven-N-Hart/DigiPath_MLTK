{
 "cells": [
  {
   "cell_type": "markdown",
   "metadata": {},
   "source": [
    "# Whole Slide Image sampler module:\n",
    "\n",
    "****\n",
    "## Testing with:\n",
    "```python\n",
    "# tensorflow==2.0.0rc0\n",
    "tensorflow==2.0.0\n",
    "```"
   ]
  },
  {
   "cell_type": "code",
   "execution_count": null,
   "metadata": {},
   "outputs": [],
   "source": [
    "import IPython.display as ip_display\n",
    "import os\n",
    "import time\n",
    "\n",
    "import sys\n",
    "sys.path.insert(0, '../src/python')\n",
    "from openslide_2_tfrecord import svs_file_to_patches_tfrecord, get_iterable_tfrecord\n",
    "\n",
    "\n",
    "file_ext_list = ['.svs', '.tif', '.tiff']\n",
    "def get_file_size_dict(data_dir, reverse_dict=False):\n",
    "    \"\"\" Usage:\n",
    "    file_size_dict = get_file_size_dict(data_dir)\n",
    "    \"\"\"\n",
    "    file_size_dict = {}\n",
    "    for f in os.listdir(data_dir):\n",
    "        ff = os.path.join(data_dir, f)\n",
    "        if os.path.isfile(ff): \n",
    "            _, f_ext = os.path.splitext(ff)\n",
    "            if f_ext in file_ext_list:\n",
    "                file_size_dict[ff] = os.path.getsize(ff)\n",
    "                \n",
    "    return file_size_dict\n"
   ]
  },
  {
   "cell_type": "markdown",
   "metadata": {},
   "source": [
    "## View Available Data"
   ]
  },
  {
   "cell_type": "code",
   "execution_count": null,
   "metadata": {
    "code_folding": []
   },
   "outputs": [],
   "source": [
    "data_dir = '../../DigiPath_MLTK_data/Aperio'\n",
    "\n",
    "file_size_dict = get_file_size_dict(data_dir)\n",
    "rev_file_size_dict = {v:k for k, v in file_size_dict.items()}\n",
    "\n",
    "ordered_keys = sorted(list(file_size_dict.values()))\n",
    "files_list = []\n",
    "for k in ordered_keys:\n",
    "    files_list.append(rev_file_size_dict[k])\n",
    "\n",
    "print('\\nordered by size:\\n')\n",
    "count = 0\n",
    "for f in files_list:\n",
    "    _, f_only = os.path.split(f)\n",
    "    print('%3i %30s: %i'%(count, f_only, file_size_dict[f]))\n",
    "    count += 1"
   ]
  },
  {
   "cell_type": "markdown",
   "metadata": {},
   "source": [
    "## Run Test Cell"
   ]
  },
  {
   "cell_type": "code",
   "execution_count": null,
   "metadata": {
    "code_folding": []
   },
   "outputs": [],
   "source": [
    "#   select a file by size number\n",
    "svs_file_name = os.path.join(data_dir, files_list[0])\n",
    "print('svs_file_name:', svs_file_name)\n",
    "\n",
    "output_dir = '../../DigiPath_MLTK_data/module_test'\n",
    "if os.path.isdir(output_dir) == False:\n",
    "    print(output_dir, '\\n\\tnot found')\n",
    "patch_height = 224\n",
    "patch_width = 224\n",
    "patch_size = [patch_height, patch_width]\n",
    "patch_keep_threshold = 0.5\n",
    "\n",
    "start_call_time = time.time()\n",
    "svs_file_conversion_dict = svs_file_to_patches_tfrecord(svs_file_name, \n",
    "                                                        output_dir, \n",
    "                                                        patch_size, \n",
    "                                                        patch_keep_threshold)\n",
    "\n",
    "tfrecord_file_name = svs_file_conversion_dict['tfrecord_file_name']\n",
    "number_of_patches = svs_file_conversion_dict['number_of_patches']\n",
    "mask_dict = svs_file_conversion_dict['mask_dict']\n",
    "temp_dir = svs_file_conversion_dict['temp_dir']\n",
    "# ip_display.display(mask_dict['thumb_mask'])\n",
    "\n",
    "total_run_time = time.time() - start_call_time\n",
    "print('\\n\\ntfrecord_file_name\\n\\t%s\\n%i patches in %0.3f seconds run time\\n'%(tfrecord_file_name, \n",
    "                                                                              number_of_patches, \n",
    "                                                                              total_run_time))"
   ]
  },
  {
   "cell_type": "markdown",
   "metadata": {},
   "source": [
    "### largest run 390,750,635 file size\n",
    "```text\n",
    "tfrecord_file_name\n",
    "\t../../DigiPath_MLTK_data/module_test/CMU-2.tfrecords\n",
    "5561 patches in 73.864 seconds run time\n",
    "```\n",
    "## View the tfrecord files:"
   ]
  },
  {
   "cell_type": "code",
   "execution_count": null,
   "metadata": {},
   "outputs": [],
   "source": [
    "#                      Get the iteralbe of the tf_record\n",
    "dk2 = get_iterable_tfrecord(tfrecord_file_name).__iter__()"
   ]
  },
  {
   "cell_type": "code",
   "execution_count": null,
   "metadata": {},
   "outputs": [],
   "source": [
    "#                      Re-run this cell to iterate through images\n",
    "try:\n",
    "    dakine = dk2.next()\n",
    "    print(dakine['label'], dakine['image_name'])\n",
    "    image_raw = dakine['image_raw'].numpy()\n",
    "    ip_display.display(ip_display.Image(data=image_raw))\n",
    "except StopIteration:\n",
    "    print('dakine is empty')\n",
    "    pass"
   ]
  },
  {
   "cell_type": "code",
   "execution_count": null,
   "metadata": {},
   "outputs": [],
   "source": [
    "#                      Get the iteralbe of the tf_record -- is __iter__() needed ??\n",
    "iterable_tfrecord = get_iterable_tfrecord(tfrecord_file_name)\n",
    "\n",
    "n_to_show = 1000\n",
    "for dakine in iterable_tfrecord.take(n_to_show):\n",
    "    print(dakine['label'], dakine['image_name'])\n",
    "    image_raw = dakine['image_raw'].numpy()\n",
    "    ip_display.display(ip_display.Image(data=image_raw))"
   ]
  },
  {
   "cell_type": "code",
   "execution_count": null,
   "metadata": {},
   "outputs": [],
   "source": [
    "print('mask_image.size', mask_dict['thumb_mask'].size)\n",
    "ip_display.display(mask_dict['thumb_mask'])"
   ]
  },
  {
   "cell_type": "code",
   "execution_count": null,
   "metadata": {},
   "outputs": [],
   "source": [
    "mask_image = mask_dict['thumb_mask']\n",
    "mask_image.size"
   ]
  },
  {
   "cell_type": "code",
   "execution_count": null,
   "metadata": {},
   "outputs": [],
   "source": [
    "help(svs_file_to_patches_tfrecord)"
   ]
  },
  {
   "cell_type": "markdown",
   "metadata": {},
   "source": [
    "## main function modules switch function concept:\n",
    "[main](https://github.com/KnowEnG/Samples_Clustering_Pipeline/blob/master/src/samples_clustering.py) <br>\n",
    "[toolbox main-helper](https://github.com/KnowEnG/KnowEnG_Pipelines_Library/blob/master/knpackage/toolbox.py) <br>\n",
    "[module toolbox](https://github.com/KnowEnG/Samples_Clustering_Pipeline/blob/master/src/samples_clustering_toolbox.py) <br>"
   ]
  },
  {
   "cell_type": "code",
   "execution_count": null,
   "metadata": {},
   "outputs": [],
   "source": []
  }
 ],
 "metadata": {
  "kernelspec": {
   "display_name": "Python 3",
   "language": "python",
   "name": "python3"
  },
  "language_info": {
   "codemirror_mode": {
    "name": "ipython",
    "version": 3
   },
   "file_extension": ".py",
   "mimetype": "text/x-python",
   "name": "python",
   "nbconvert_exporter": "python",
   "pygments_lexer": "ipython3",
   "version": "3.7.3"
  }
 },
 "nbformat": 4,
 "nbformat_minor": 2
}
