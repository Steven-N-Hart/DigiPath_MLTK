{
 "cells": [
  {
   "cell_type": "markdown",
   "metadata": {},
   "source": [
    "# BugFix - roundtrip run from module with all WSI image scales"
   ]
  },
  {
   "cell_type": "code",
   "execution_count": null,
   "metadata": {},
   "outputs": [],
   "source": [
    "%matplotlib inline"
   ]
  },
  {
   "cell_type": "code",
   "execution_count": null,
   "metadata": {},
   "outputs": [],
   "source": [
    "from __future__ import absolute_import, division, print_function, unicode_literals\n",
    "import tensorflow as tf\n",
    "from tempfile import TemporaryDirectory\n",
    "from PIL import ImageDraw\n",
    "\n",
    "import IPython.display as ip_display\n",
    "import os\n",
    "import sys\n",
    "import time\n",
    "import pandas as pd\n",
    "import numpy as np\n",
    "\n",
    "import matplotlib.pyplot as plt\n",
    "\n",
    "import skimage\n",
    "from skimage.filters import threshold_otsu\n",
    "\n",
    "import openslide\n",
    "\n",
    "import PIL\n",
    "from PIL.Image import Image\n",
    "\n",
    "#       module import - commented out to use modified code below\n",
    "sys.path.insert(0, '../src/python')\n",
    "from openslide_2_tfrecord import *\n",
    "\n",
    "file_ext_list = ['.svs', '.tif', '.tiff', '.tfrecords']\n",
    "def get_file_size_dict(data_dir, reverse_dict=False):\n",
    "    \"\"\" Use to get size-ranked list of files in a directory:\n",
    "    file_size_dict = get_file_size_dict(data_dir)\n",
    "    \"\"\"\n",
    "    file_size_dict = {}\n",
    "    for f in os.listdir(data_dir):\n",
    "        ff = os.path.join(data_dir, f)\n",
    "        if os.path.isfile(ff): \n",
    "            _, f_ext = os.path.splitext(ff)\n",
    "            if f_ext in file_ext_list:\n",
    "                file_size_dict[ff] = os.path.getsize(ff)\n",
    "                \n",
    "    return file_size_dict"
   ]
  },
  {
   "cell_type": "markdown",
   "metadata": {},
   "source": [
    "```bash\n",
    "../../DigiPath_MLTK_data/Aperio/CMU-1-Small-Region.svs \n",
    "../../DigiPath_MLTK_data/module_test/CMU-1-Small-Region.tfrecords\n",
    "21 patches in 5.653 seconds run time\n",
    "\n",
    "../../DigiPath_MLTK_data/Aperio/JP2K-33003-1.svs \n",
    "../../DigiPath_MLTK_data/module_test/JP2K-33003-1.tfrecords\n",
    "617 patches in 11.667 seconds run time\n",
    "\n",
    "../../DigiPath_MLTK_data/Aperio/CMU-1-JP2K-33005.svs \n",
    "../../DigiPath_MLTK_data/module_test/CMU-1-JP2K-33005.tfrecords\n",
    "2907 patches in 23.197 seconds run time\n",
    "\n",
    "../../DigiPath_MLTK_data/Aperio/CMU-1.svs \n",
    "../../DigiPath_MLTK_data/module_test/CMU-1.tfrecords\n",
    "2909 patches in 22.669 seconds run time\n",
    "\n",
    "../../DigiPath_MLTK_data/Aperio/CMU-3.svs \n",
    "../../DigiPath_MLTK_data/module_test/CMU-3.tfrecords\n",
    "3354 patches in 28.564 seconds run time\n",
    "\n",
    "../../DigiPath_MLTK_data/Aperio/JP2K-33003-2.svs \n",
    "../../DigiPath_MLTK_data/module_test/JP2K-33003-2.tfrecords\n",
    "4333 patches in 43.141 seconds run time\n",
    "\n",
    "../../DigiPath_MLTK_data/Aperio/CMU-2.svs \n",
    "../../DigiPath_MLTK_data/module_test/CMU-2.tfrecords\n",
    "1743 patches in 20.179 seconds run time\n",
    "```"
   ]
  },
  {
   "cell_type": "code",
   "execution_count": null,
   "metadata": {},
   "outputs": [],
   "source": [
    "data_dir = '../../DigiPath_MLTK_data/Aperio'\n",
    "\n",
    "file_size_dict = get_file_size_dict(data_dir)\n",
    "rev_file_size_dict = {v:k for k, v in file_size_dict.items()}\n",
    "\n",
    "ordered_keys = sorted(list(file_size_dict.values()))\n",
    "files_list = []\n",
    "for k in ordered_keys:\n",
    "    files_list.append(rev_file_size_dict[k])\n",
    "\n",
    "print('\\nordered by size:\\n')\n",
    "count = 0\n",
    "for f in files_list:\n",
    "    _, f_only = os.path.split(f)\n",
    "    print('%3i %30s: %i'%(count, f_only, file_size_dict[f]))\n",
    "    count += 1"
   ]
  },
  {
   "cell_type": "code",
   "execution_count": null,
   "metadata": {},
   "outputs": [],
   "source": [
    "#   select a file by size number\n",
    "for fn in range(len(files_list)):\n",
    "    print(fn, files_list[fn], '\\n')\n",
    "\n",
    "    svs_file_name = os.path.join(data_dir, files_list[fn])\n",
    "\n",
    "    output_dir = '../../DigiPath_MLTK_data/module_test'\n",
    "    if os.path.isdir(output_dir) == False:\n",
    "        print(output_dir, '\\n\\tnot found')\n",
    "    patch_height = 224\n",
    "    patch_width = 224\n",
    "    patch_size = [patch_height, patch_width]\n",
    "    patch_keep_threshold = 0.5\n",
    "\n",
    "    start_call_time = time.time()\n",
    "    report_dict = svs_file_to_patches_tfrecord(svs_file_name, output_dir, patch_size, patch_keep_threshold)\n",
    "\n",
    "    tfrecord_file_name = report_dict['tfrecord_file_name']\n",
    "    number_of_patches = report_dict['number_of_patches']\n",
    "    mask_dict = report_dict['mask_dict']\n",
    "    temp_dir = report_dict['temp_dir']\n",
    "\n",
    "    total_run_time = time.time() - start_call_time\n",
    "    print('\\n\\ntfrecord_file_name\\n\\t%s\\n%i patches in %0.3f seconds run time\\n'%(tfrecord_file_name, \n",
    "                                                                                  number_of_patches, \n",
    "                                                                                  total_run_time))"
   ]
  },
  {
   "cell_type": "code",
   "execution_count": null,
   "metadata": {},
   "outputs": [],
   "source": [
    "cross_list = [  ['../../DigiPath_MLTK_data/Aperio/CMU-1-Small-Region.svs', \n",
    "                '../../DigiPath_MLTK_data/module_test/CMU-1-Small-Region.tfrecords'],\n",
    "                ['../../DigiPath_MLTK_data/Aperio/JP2K-33003-1.svs',\n",
    "                '../../DigiPath_MLTK_data/module_test/JP2K-33003-1.tfrecords'],\n",
    "                ['../../DigiPath_MLTK_data/Aperio/CMU-1-JP2K-33005.svs', \n",
    "                '../../DigiPath_MLTK_data/module_test/CMU-1-JP2K-33005.tfrecords'],\n",
    "                ['../../DigiPath_MLTK_data/Aperio/CMU-1.svs',\n",
    "                '../../DigiPath_MLTK_data/module_test/CMU-1.tfrecords'],\n",
    "                ['../../DigiPath_MLTK_data/Aperio/CMU-3.svs',\n",
    "                '../../DigiPath_MLTK_data/module_test/CMU-3.tfrecords'],\n",
    "                ['../../DigiPath_MLTK_data/Aperio/JP2K-33003-2.svs',\n",
    "                '../../DigiPath_MLTK_data/module_test/JP2K-33003-2.tfrecords',],\n",
    "                ['../../DigiPath_MLTK_data/Aperio/CMU-2.svs',\n",
    "                '../../DigiPath_MLTK_data/module_test/CMU-2.tfrecords']]\n"
   ]
  },
  {
   "cell_type": "code",
   "execution_count": null,
   "metadata": {},
   "outputs": [],
   "source": [
    "for k in range(len(cross_list)):\n",
    "    tfrecord_filename = cross_list[k][1]\n",
    "    svs_file_name = cross_list[k][0]\n",
    "    print(tfrecord_filename, '\\n', svs_file_name, '\\n\\n')\n",
    "    wsi_filename = svs_file_name\n",
    "#     # size of thumbnail relative to wsi\n",
    "    thumb_scale = 1/16\n",
    "#     # larger alpha is darker mask\n",
    "    alpha = 0.05\n",
    "\n",
    "#     o_thum = get_tfrecord_marked_thumbnail(tfrecord_filename, wsi_filename, thumb_scale, border_color='red')\n",
    "#     print(o_thum.size)\n",
    "#     display(o_thum)"
   ]
  },
  {
   "cell_type": "code",
   "execution_count": null,
   "metadata": {},
   "outputs": [],
   "source": []
  },
  {
   "cell_type": "code",
   "execution_count": null,
   "metadata": {},
   "outputs": [],
   "source": []
  },
  {
   "cell_type": "code",
   "execution_count": null,
   "metadata": {},
   "outputs": [],
   "source": [
    "tfrecord_filename = '../../DigiPath_MLTK_data/module_test/CMU-1-Small-Region.tfrecords'\n",
    "\n",
    "wsi_filename = '../../DigiPath_MLTK_data/Aperio/CMU-1-Small-Region.svs'\n",
    "# size of thumbnail relative to wsi\n",
    "thumb_scale = 1/8\n",
    "# larger alpha is darker mask\n",
    "alpha = 0.05\n",
    "\n",
    "o_thum = get_tfrecord_marked_thumbnail(tfrecord_filename, wsi_filename, thumb_scale, border_color='red')\n",
    "print(o_thum.size)\n",
    "display(o_thum)"
   ]
  },
  {
   "cell_type": "code",
   "execution_count": null,
   "metadata": {},
   "outputs": [],
   "source": [
    "# oo_thum = get_tfrecord_masked_thumbnail(tfrecord_filename, wsi_filename, thumb_scale=1, alpha=0.05)\n",
    "# print(oo_thum.size)\n",
    "# display(oo_thum)"
   ]
  },
  {
   "cell_type": "code",
   "execution_count": null,
   "metadata": {},
   "outputs": [],
   "source": []
  }
 ],
 "metadata": {
  "kernelspec": {
   "display_name": "Python 3",
   "language": "python",
   "name": "python3"
  },
  "language_info": {
   "codemirror_mode": {
    "name": "ipython",
    "version": 3
   },
   "file_extension": ".py",
   "mimetype": "text/x-python",
   "name": "python",
   "nbconvert_exporter": "python",
   "pygments_lexer": "ipython3",
   "version": "3.6.5"
  }
 },
 "nbformat": 4,
 "nbformat_minor": 2
}
