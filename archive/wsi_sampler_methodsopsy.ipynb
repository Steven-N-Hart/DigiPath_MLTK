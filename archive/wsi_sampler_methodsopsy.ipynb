{
 "cells": [
  {
   "cell_type": "markdown",
   "metadata": {},
   "source": [
    "# Run Code and View the output:\n",
    "    Run time is too slow and output is incorrect.\n",
    "    Code is modified to run in notebook and limit total number of files written\n",
    "****\n",
    "## scipy image: cleaning, segmentation, etc.\n",
    "[API Reference: scikit-image](https://scikit-image.org/docs/dev/api/api.html) <br>\n",
    "****\n",
    "[Home: scikit-image aka skimage](https://scikit-image.org/) <br>\n",
    "[Documentation: scikit-image](https://scikit-image.org/docs/stable/) <br>\n",
    "[scikit-image on GitHub](https://github.com/scikit-image/scikit-image) <br>\n",
    "[User Guide: scikit-image](https://scikit-image.org/docs/dev/user_guide) <br>\n",
    "[Founder-tutor](https://bids.berkeley.edu/resources/videos/scikit-image-image-analysis-python-intermediate) <br>\n",
    "****\n",
    "## OpenSlide:\n",
    "[OpenSlide api](https://openslide.org/api/python/) <br>\n",
    "[openslide github](https://github.com/openslide/openslide-python) <br>\n",
    "[openslide dot org](https://openslide.org/) <br>"
   ]
  },
  {
   "cell_type": "code",
   "execution_count": 1,
   "metadata": {},
   "outputs": [
    {
     "name": "stdout",
     "output_type": "stream",
     "text": [
      "Working with file: ../../DigiPath_MLTK_data/Aperio/CMU-1-Small-Region.svs \n",
      "Output path: ../../DigiPath_MLTK_data/v0_out_to_test\n"
     ]
    }
   ],
   "source": [
    "import os\n",
    "import time\n",
    "output_dir = '../../DigiPath_MLTK_data/v0_out_to_test'\n",
    "if os.path.isdir(output_dir) == False:\n",
    "    os.makedirs(output_dir)\n",
    "    \n",
    "OUTPUT_PATH = output_dir\n",
    "data_dir = '../../DigiPath_MLTK_data/Aperio'\n",
    "files_list = ['CMU-1-Small-Region.svs', 'CMU-1.svs']\n",
    "SVS = os.path.join(data_dir, files_list[0])\n",
    "print('Working with file:', SVS, '\\nOutput path:', OUTPUT_PATH)"
   ]
  },
  {
   "cell_type": "code",
   "execution_count": 2,
   "metadata": {},
   "outputs": [
    {
     "name": "stdout",
     "output_type": "stream",
     "text": [
      "processing: ../../DigiPath_MLTK_data/Aperio/CMU-1-Small-Region.svs\n",
      "X: 37\tY:600 of (1000, 748) with total of 992 so far\n",
      "\n",
      "\t1000 num_patched out\n",
      "\n",
      "\n",
      "total running time: 99.108\n"
     ]
    }
   ],
   "source": [
    "# %load '../../../Mayomics-Research/cc/wsi-sampler/sampler.py'\n",
    "#                                      <0><0>\n",
    "MAXPATCHESTOWRITE = 1000\n",
    "#                                      <0><0>\n",
    "\n",
    "import time\n",
    "import glob\n",
    "import math\n",
    "import os\n",
    "\n",
    "import numpy as np\n",
    "import openslide\n",
    "from skimage.filters import threshold_otsu\n",
    "\n",
    "start_time = time.time()\n",
    "#\n",
    "# -----------------------------------------------------------\n",
    "# Create function\n",
    "def get_thumbnail(img, x_level0, y_level0, patch_size, output_path):\n",
    "    \"\"\"\n",
    "\n",
    "    :param img:\n",
    "    :param x_level0:\n",
    "    :param y_level0:\n",
    "    :param patch_size:\n",
    "    :param output_path:\n",
    "    :return:\n",
    "    \"\"\"\n",
    "    patch = img.read_region((x_level0, y_level0), 0, (patch_size, patch_size))\n",
    "    patch = patch.convert('RGB')\n",
    "    fname = img.properties['aperio.Filename'].replace(' ', '_')\n",
    "    fname += '_' + str(x_level0)\n",
    "    fname += '_' + str(y_level0)\n",
    "    fname += '_' + '0'\n",
    "    fname += '_' + str(patch_size)\n",
    "    fname += '.jpg'\n",
    "    patch_arr = np.array(patch.convert('L'))\n",
    "    # print('Getting close: {}'.format(np.average(patch_arr)))\n",
    "    if np.average(patch_arr) < 230:\n",
    "        global num_patches\n",
    "        num_patches += 1\n",
    "        patch.save(os.path.join(output_path, fname))\n",
    "\n",
    "\n",
    "def process_svs(SVS,\n",
    "                normalization_factor=1000,\n",
    "                patch_size=512,\n",
    "                buffer=10,\n",
    "                output_path=OUTPUT_PATH):\n",
    "    img = openslide.OpenSlide(SVS)\n",
    "\n",
    "    global num_patches\n",
    "    num_patches = 0\n",
    "\n",
    "    # Normalize the thumbnail to the actual slide size\n",
    "    x_max, y_max = img.dimensions\n",
    "    thumbnail = img.get_thumbnail((normalization_factor, normalization_factor))\n",
    "\n",
    "    grey_thumbnail = np.array(thumbnail.convert(\"L\"))\n",
    "    thresh = threshold_otsu(grey_thumbnail)\n",
    "    mask = np.array(grey_thumbnail) < thresh\n",
    "\n",
    "    # how many pixels in the raw image per pixel in mask\n",
    "    x_num_orgPix_per_thumbPix = math.ceil(x_max / mask.shape[0])\n",
    "    y_num_orgPix_per_thumbPix = math.ceil(y_max / mask.shape[1])\n",
    "    # print(x_num_orgPix_per_thumbPix, y_num_orgPix_per_thumbPix)\n",
    "\n",
    "    # Find out how many pixels in image mask to count as a patch in original\n",
    "    num_x_mask_pixels_per_rawPatch = math.ceil(patch_size / x_num_orgPix_per_thumbPix)\n",
    "    num_y_mask_pixels_per_rawPatch = math.ceil(patch_size / y_num_orgPix_per_thumbPix)\n",
    "    # print(num_x_mask_pixels_per_rawPatch, num_y_mask_pixels_per_rawPatch)\n",
    "\n",
    "    mask_x, mask_y = mask.shape\n",
    "    x_mask_prev = 0\n",
    "\n",
    "    # Iterate through the mask to identify positive pixels\n",
    "    for x in range(buffer, mask_x - buffer):\n",
    "        x_mask_window = x + num_x_mask_pixels_per_rawPatch\n",
    "        if x_mask_window <= x_mask_prev:\n",
    "            continue\n",
    "        y_mask_prev = 0\n",
    "        for y in range(buffer, mask_y - buffer):\n",
    "            y_mask_window = y + num_y_mask_pixels_per_rawPatch\n",
    "            # print('Evaluate: {} {} & {}'.format(y, y_mask_window, y_mask_prev))\n",
    "            if y_mask_window <= y_mask_prev:\n",
    "                continue\n",
    "            if y % 100 == 0:\n",
    "                print('X: {}\\tY:{} of {} with total of {} so far'.format(x, y, \n",
    "                                                                mask.shape, \n",
    "                                                                num_patches), end='\\r',\n",
    "                                                                flush=True)\n",
    "                \n",
    "            if np.sum(mask[x:x_mask_window, y:y_mask_window]) > 0:\n",
    "                # convert mask coordinates to level0 coordinates\n",
    "                x_level0 = x * x_num_orgPix_per_thumbPix\n",
    "                y_level0 = y * y_num_orgPix_per_thumbPix\n",
    "                get_thumbnail(img, x_level0, y_level0, patch_size, output_path)\n",
    "                \n",
    "                #                                      <0><0>   Limit number of files\n",
    "                if num_patches >= MAXPATCHESTOWRITE:\n",
    "                    print('\\n\\n\\t{} num_patched out\\n\\n'.format(num_patches))\n",
    "                    return\n",
    "                #                                      <0><0>\n",
    "\n",
    "            # print('yamsk windoe: {}'.format(y_mask_window))\n",
    "            y_mask_prev = y_mask_window\n",
    "        x_mask_prev = x_mask_window\n",
    "\n",
    "    print('Printed {} from {}'.format(num_patches, SVS))\n",
    "\n",
    "num_patches = 0\n",
    "\"\"\"\n",
    "# if __name__ == '__main__':\n",
    "#     for SVS in glob.glob('/data/biliary/svs/negative/*svs'):\n",
    "#         process_svs(SVS)\n",
    "\"\"\"\n",
    "print('processing: {}'.format(SVS))\n",
    "process_svs(SVS)\n",
    "print('total running time: %0.3f'%(time.time() - start_time))"
   ]
  },
  {
   "cell_type": "code",
   "execution_count": 3,
   "metadata": {},
   "outputs": [
    {
     "name": "stdout",
     "output_type": "stream",
     "text": [
      "1000 ../../DigiPath_MLTK_data/v0_out_to_test/CMU-1_96_2828_0_512.jpg\n"
     ]
    }
   ],
   "source": [
    "f_ext_list = ['.jpg', '.png']\n",
    "file_name_list = []\n",
    "for f in os.listdir(output_dir):\n",
    "    ff = os.path.join(output_dir, f)\n",
    "    if os.path.isfile(ff):\n",
    "        _, f_ext = os.path.splitext(ff)\n",
    "        if f_ext in f_ext_list:\n",
    "            file_name_list.append(ff)\n",
    "print(len(file_name_list), file_name_list[0])        "
   ]
  },
  {
   "cell_type": "code",
   "execution_count": null,
   "metadata": {},
   "outputs": [],
   "source": []
  }
 ],
 "metadata": {
  "kernelspec": {
   "display_name": "Python 3",
   "language": "python",
   "name": "python3"
  },
  "language_info": {
   "codemirror_mode": {
    "name": "ipython",
    "version": 3
   },
   "file_extension": ".py",
   "mimetype": "text/x-python",
   "name": "python",
   "nbconvert_exporter": "python",
   "pygments_lexer": "ipython3",
   "version": "3.6.5"
  }
 },
 "nbformat": 4,
 "nbformat_minor": 2
}
