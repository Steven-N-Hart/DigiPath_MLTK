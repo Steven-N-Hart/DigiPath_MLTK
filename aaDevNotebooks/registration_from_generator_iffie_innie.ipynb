{
 "cells": [
  {
   "cell_type": "code",
   "execution_count": 1,
   "metadata": {},
   "outputs": [],
   "source": [
    "%matplotlib inline"
   ]
  },
  {
   "cell_type": "markdown",
   "metadata": {},
   "source": [
    "## def iffie_innie(x1,y1,x2,y2,max_x, max_y)\n",
    "```python\n",
    "def iffie_innie(x1,y1,x2,y2,max_x, max_y):\n",
    "    \"\"\" determine if the box is within the image\n",
    "    \"\"\"\n",
    "    if x1 > 0 and y1 > 0 and x2 < max_x and y2 < max_y:\n",
    "        return True\n",
    "    else:\n",
    "        return False\n",
    "```"
   ]
  },
  {
   "cell_type": "code",
   "execution_count": 61,
   "metadata": {},
   "outputs": [],
   "source": [
    "import time\n",
    "nb_start_time = time.time()\n",
    "\n",
    "import os\n",
    "import tempfile\n",
    "import sys\n",
    "\n",
    "from collections import OrderedDict\n",
    "import argparse\n",
    "\n",
    "import tensorflow as tf\n",
    "from tensorflow import io as tf_io\n",
    "\n",
    "import numpy as np\n",
    "import pandas as pd\n",
    "import yaml\n",
    "\n",
    "from skimage.filters import threshold_otsu\n",
    "from skimage.color import rgb2lab\n",
    "\n",
    "from PIL import ImageDraw\n",
    "from PIL import TiffImagePlugin as tip\n",
    "\n",
    "import IPython.display as ip_display\n",
    "\n",
    "import openslide\n",
    "\n",
    "sys.path.insert(0, '../src/python')\n",
    "from digipath_toolkit import *\n",
    "\n",
    "def iffie_innie(x1,y1,x2,y2,max_x, max_y):\n",
    "    \"\"\" Usage: True_False = iffie_innie(x1, y1, x2, y2, max_x, max_y)\n",
    "                determine if the box is within the image\n",
    "    \"\"\"\n",
    "    if x1 > 0 and y1 > 0 and x2 < max_x and y2 < max_y:\n",
    "        return True\n",
    "    else:\n",
    "        return False\n",
    "\n",
    "\n",
    "def im_pair_hori(im_0, im_1):\n",
    "    \"\"\" Usage: new_im = im_pair_hori(im_0, im_1)\n",
    "            combine a list of PIL images horizontaly\n",
    "    \"\"\"\n",
    "    w0 = im_0.size[0]\n",
    "    w = w0 + im_1.size[0] + 1\n",
    "    h = max(im_0.size[1], im_1.size[1])\n",
    "\n",
    "    new_im = tip.Image.new('RGB', (w, h) )\n",
    "    box = (0, 0, w0, h)\n",
    "    new_im.paste(im_0, box)\n",
    "    \n",
    "    box = (w0+1, 0, w, h)\n",
    "    new_im.paste(im_1, box)\n",
    "\n",
    "    return new_im"
   ]
  },
  {
   "cell_type": "code",
   "execution_count": 5,
   "metadata": {},
   "outputs": [
    {
     "name": "stdout",
     "output_type": "stream",
     "text": [
      "\n",
      "offset_x, offset_y, auto_x, auto_y\n",
      " -1618 1673 -1621 1676\n",
      "\n",
      "\n",
      "fixed_wsi image: 54742d6c5d704efa8f0814456453573a.tiff\n",
      "               image_size: (145408, 83968)\n",
      "              level_count: 10\n",
      "        level_downsamples: (1.0, 2.0, 4.0, 8.0, 16.0, 32.0, 64.0, 128.0, 256.0, 512.0)\n",
      "         level_diminsions: ((145408, 83968), (72704, 41984), (36352, 20992), (18176, 10496), (9088, 5248), (4544, 2624), (2272, 1312), (1136, 656), (568, 328), (284, 164))\n",
      "\n",
      "\n",
      "float_wsi image: e39a8d60a56844d695e9579bce8f0335.tiff\n",
      "               image_size: (126976, 75776)\n",
      "              level_count: 9\n",
      "        level_downsamples: (1.0, 2.0, 4.0, 8.0, 16.0, 32.0, 64.0, 128.0, 256.0)\n",
      "         level_diminsions: ((126976, 75776), (63488, 37888), (31744, 18944), (15872, 9472), (7936, 4736), (3968, 2368), (1984, 1184), (992, 592), (496, 296))\n"
     ]
    }
   ],
   "source": [
    "# a_patch = wsi_obj_0.read_region((x0, y0), image_level, patch_size)\n",
    "\n",
    "test_data_dir = '../../DigiPath_MLTK_data/RegistrationDevData/'\n",
    "os.listdir(test_data_dir)\n",
    "\n",
    "offset_data_file = os.path.join(test_data_dir, 'wsi_pair_sample.csv')\n",
    "if os.path.isfile(offset_data_file):\n",
    "    offset_df = pd.read_csv(offset_data_file)\n",
    "    \n",
    "\"\"\"\n",
    "            correctly reversed x, y\n",
    "\"\"\"\n",
    "offset_x = offset_df['truth_offset_x'].iloc[0]\n",
    "offset_y = offset_df['truth_offset_y'].iloc[0]\n",
    "offset_x, offset_y = int(round(offset_x)), int(round(offset_y))\n",
    "\n",
    "auto_x = offset_df['auto_offset_x'].iloc[0]\n",
    "auto_y = offset_df['auto_offset_y'].iloc[0]\n",
    "auto_x, auto_y = int(round(auto_x)), int(round(auto_y))\n",
    "\n",
    "# print(offset_df)\n",
    "print('\\noffset_x, offset_y, auto_x, auto_y\\n', offset_x, offset_y, auto_x, auto_y)\n",
    "\n",
    "fixed_wsi = os.path.join(test_data_dir, '54742d6c5d704efa8f0814456453573a.tiff')\n",
    "\n",
    "fixed_levels_dict = get_level_sizes_dict(fixed_wsi)\n",
    "fixed_max_width = fixed_levels_dict['image_size'][0]\n",
    "fixed_max_height = fixed_levels_dict['image_size'][1]\n",
    "\n",
    "print('\\n\\nfixed_wsi image: 54742d6c5d704efa8f0814456453573a.tiff')\n",
    "for k, v in fixed_levels_dict.items():\n",
    "    print('%25s: %s'%(k,v))\n",
    "    \n",
    "float_wsi = os.path.join(test_data_dir, 'e39a8d60a56844d695e9579bce8f0335.tiff')\n",
    "\n",
    "float_levels_dict = get_level_sizes_dict(float_wsi)\n",
    "float_max_width = float_levels_dict['image_size'][0]\n",
    "float_max_height = float_levels_dict['image_size'][1]\n",
    "\n",
    "print('\\n\\nfloat_wsi image: e39a8d60a56844d695e9579bce8f0335.tiff')\n",
    "for k, v in float_levels_dict.items():\n",
    "    print('%25s: %s'%(k,v))"
   ]
  },
  {
   "cell_type": "code",
   "execution_count": 54,
   "metadata": {},
   "outputs": [],
   "source": [
    "wsi_obj_0.close()"
   ]
  },
  {
   "cell_type": "code",
   "execution_count": 67,
   "metadata": {},
   "outputs": [],
   "source": [
    "run_parameters = {'wsi_filename': fixed_wsi, \n",
    "                  'wsi_floatname': float_wsi,\n",
    "                  'thumbnail_divisor': 20, \n",
    "                  'patch_select_method': 'threshold_rgb2lab', \n",
    "                  'rgb2lab_threshold': 80, \n",
    "                  'image_level': 0, \n",
    "                  'patch_height': 224, \n",
    "                  'patch_width': 224, \n",
    "                  'threshold': 0, \n",
    "                  'offset_x': offset_x, \n",
    "                  'offset_y': offset_y}\n",
    "\n",
    "patch_igetor = PatchImageGenerator(run_parameters)\n",
    "wsi_obj_0 = openslide.OpenSlide(run_parameters['wsi_floatname'])\n"
   ]
  },
  {
   "cell_type": "code",
   "execution_count": 94,
   "metadata": {},
   "outputs": [
    {
     "name": "stdout",
     "output_type": "stream",
     "text": [
      "fixed_x: 26448 float_x: 28066\tfixed_y: 1216 float_y: -457\n",
      "out of bounds\n"
     ]
    }
   ],
   "source": [
    "float_levels_dict = get_level_sizes_dict(float_wsi)\n",
    "max_x = float_levels_dict['image_size'][0]\n",
    "max_y = float_levels_dict['image_size'][1]\n",
    "\n",
    "nptch_dict = patch_igetor.next_patch()\n",
    "fxd_im = nptch_dict['patch_image']\n",
    "\n",
    "image_level = run_parameters['image_level']\n",
    "patch_size = (run_parameters['patch_width'], run_parameters['patch_height'])\n",
    "\n",
    "x1 = nptch_dict['level_0_x'] - run_parameters['offset_x']\n",
    "x2 = x1 + run_parameters['patch_width']\n",
    "y1 = nptch_dict['level_0_y'] - run_parameters['offset_y']\n",
    "y2 = y1 + run_parameters['patch_height']\n",
    "\n",
    "print('fixed_x: %i float_x: %i\\tfixed_y: %i float_y: %i'%(nptch_dict['level_0_x'], x1,\n",
    "                                                          nptch_dict['level_0_y'], y1))\n",
    "\n",
    "if iffie_innie(x1, y1, x2, y2, max_x, max_y) == True:\n",
    "    flot_im = wsi_obj_0.read_region((x1, y1), image_level, patch_size)\n",
    "    display(im_pair_hori(fxd_im, flot_im))\n",
    "else:\n",
    "    print('out of bounds')"
   ]
  },
  {
   "cell_type": "code",
   "execution_count": 66,
   "metadata": {},
   "outputs": [],
   "source": [
    "try:\n",
    "    wsi_obj_0.close()\n",
    "except:\n",
    "    print('oopsie oops')\n"
   ]
  },
  {
   "cell_type": "code",
   "execution_count": null,
   "metadata": {},
   "outputs": [],
   "source": []
  }
 ],
 "metadata": {
  "kernelspec": {
   "display_name": "Python 3",
   "language": "python",
   "name": "python3"
  },
  "language_info": {
   "codemirror_mode": {
    "name": "ipython",
    "version": 3
   },
   "file_extension": ".py",
   "mimetype": "text/x-python",
   "name": "python",
   "nbconvert_exporter": "python",
   "pygments_lexer": "ipython3",
   "version": "3.7.3"
  }
 },
 "nbformat": 4,
 "nbformat_minor": 2
}
