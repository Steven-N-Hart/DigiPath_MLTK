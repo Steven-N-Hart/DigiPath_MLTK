{
 "cells": [
  {
   "cell_type": "code",
   "execution_count": 1,
   "metadata": {},
   "outputs": [],
   "source": [
    "%matplotlib inline"
   ]
  },
  {
   "cell_type": "markdown",
   "metadata": {},
   "source": [
    "# Explore shapely pypi -- web research, *wsi_annotations_sample.zip*\n",
    "## *wsi_annotations_sample.zip* contents\n",
    "```python\n",
    "wsi_annotation_sample_files = [  'class_label_csv_manager.py',\n",
    "                                 'class_label_id.csv',\n",
    "                                 '54742d6c5d704efa8f0814456453573a.xml',\n",
    "                                 'region_annotation.py' ]\n",
    "```\n",
    "## Shapely:\n",
    "[Shapely GitHub](https://github.com/Toblerity/Shapely) <br>\n",
    "[Shapely PyPi](https://pypi.org/project/Shapely/) <br>\n",
    "[Shapely Documentation, Manual](https://shapely.readthedocs.io/en/latest/) <br>\n",
    "[Shapely GIS stack-exchange](https://gis.stackexchange.com/questions/tagged/shapely) <br>\n",
    "****\n",
    "...`May Be Useful` <br>\n",
    "[shapely object.bounds](https://shapely.readthedocs.io/en/latest/manual.html#object.bounds) <br>\n",
    "[shapely object.contains](https://shapely.readthedocs.io/en/latest/manual.html#object.contains) <br>\n",
    "[shapely object.centroid](https://shapely.readthedocs.io/en/latest/manual.html#object.centroid) <br>\n",
    "[shapely object.intersects](https://shapely.readthedocs.io/en/latest/manual.html#object.intersects) <br>\n",
    "[shapely object.envelope](https://shapely.readthedocs.io/en/latest/manual.html#object.envelope) <br>\n",
    "[shapely object.overlaps](https://shapely.readthedocs.io/en/latest/manual.html#object.overlaps) <br>\n",
    "[shapely object.touches](https://shapely.readthedocs.io/en/latest/manual.html#object.touches) <br>\n",
    "[shapely object.union](https://shapely.readthedocs.io/en/latest/manual.html#object.union) <br>\n",
    "[shapely object.within](https://shapely.readthedocs.io/en/latest/manual.html#object.within) <br>\n",
    "****\n",
    "\n",
    "[point, line, polygon](https://automating-gis-processes.github.io/site/notebooks/L1/geometric-objects.html) <br>\n",
    "****\n",
    "\n",
    "...`Noteworthy notebooks` <br>\n",
    "[Auto-GIS](https://automating-gis-processes.github.io/site/notebooks/L1/geometric-objects.html) <br>\n",
    " ****\n",
    " ...`Peripherally Related` <br>\n",
    " [geo-whatever twilio (intro)](https://www.twilio.com/blog/2017/08/geospatial-analysis-python-geojson-geopandas.html) <br>\n",
    " [matplotlib plot shapely stuff: StackOverflow](https://stackoverflow.com/questions/55522395/how-do-i-plot-shapely-polygons-and-objects-using-matplotlib) <br>\n",
    "****\n",
    "...`Fully Acronym'ed` <br>\n",
    "****\n",
    "```python\n",
    "\"\"\"\n",
    "        wkt = well known text    ( format ) <br>\n",
    "        wkb = well known binary  ( format ) <br>\n",
    "\"\"\"\n",
    "#      polygon is a list of tuples (not shapely points\n",
    "import geojson\n",
    "import geopandas\n",
    "import shapely\n",
    "```\n"
   ]
  },
  {
   "cell_type": "markdown",
   "metadata": {},
   "source": [
    "## try basic shapely:\n",
    "```bash\n",
    "# install shapely\n",
    "pip3 install shapely\n",
    "```"
   ]
  },
  {
   "cell_type": "code",
   "execution_count": 2,
   "metadata": {},
   "outputs": [],
   "source": [
    "import os\n",
    "import sys\n",
    "import json\n",
    "import xml.etree.ElementTree as ET\n",
    "from xml.dom import minidom\n",
    "\n",
    "import numpy as np\n",
    "import pandas as pd\n",
    "\n",
    "# import shapely\n",
    "from shapely.geometry import Polygon\n",
    "import matplotlib.pyplot as plt"
   ]
  },
  {
   "cell_type": "code",
   "execution_count": 3,
   "metadata": {},
   "outputs": [
    {
     "data": {
      "image/png": "[encoded data removed]",
      "text/plain": [
       "<Figure size 432x288 with 1 Axes>"
      ]
     },
     "metadata": {
      "needs_background": "light"
     },
     "output_type": "display_data"
    }
   ],
   "source": [
    "#                           a polygon is a list of tuples ----- (not shapely points)\n",
    "polygon1 = Polygon([(0,5),\n",
    "                    (1,1),\n",
    "                    (3,0)])\n",
    "\n",
    "x,y = polygon1.exterior.xy\n",
    "plt.plot(x,y);\n",
    "\"\"\"\n",
    "plt.plot(*polygon1.exterior.xy) # ok ok ok\n",
    "# plt.plot(polygon1)   no! no! no!\n",
    "\"\"\"\n",
    "plt.show()"
   ]
  },
  {
   "cell_type": "markdown",
   "metadata": {},
   "source": [
    "## *wsi_annotation_sample.zip* contents:"
   ]
  },
  {
   "cell_type": "code",
   "execution_count": 4,
   "metadata": {},
   "outputs": [
    {
     "data": {
      "text/plain": [
       "['class_label_csv_manager.py',\n",
       " 'class_label_id.csv',\n",
       " '54742d6c5d704efa8f0814456453573a.xml',\n",
       " 'e39a8d60a56844d695e9579bce8f0335.xml',\n",
       " 'region_annotation.py']"
      ]
     },
     "execution_count": 4,
     "metadata": {},
     "output_type": "execute_result"
    }
   ],
   "source": [
    "zip_tank = '../../DigiPath_MLTK_data/zipTank/wsi_annotation_sample/'\n",
    "os.listdir(zip_tank)"
   ]
  },
  {
   "cell_type": "code",
   "execution_count": 5,
   "metadata": {},
   "outputs": [
    {
     "data": {
      "text/html": [
       "<div>\n",
       "<style scoped>\n",
       "    .dataframe tbody tr th:only-of-type {\n",
       "        vertical-align: middle;\n",
       "    }\n",
       "\n",
       "    .dataframe tbody tr th {\n",
       "        vertical-align: top;\n",
       "    }\n",
       "\n",
       "    .dataframe thead th {\n",
       "        text-align: right;\n",
       "    }\n",
       "</style>\n",
       "<table border=\"1\" class=\"dataframe\">\n",
       "  <thead>\n",
       "    <tr style=\"text-align: right;\">\n",
       "      <th>Label</th>\n",
       "      <th>NaN</th>\n",
       "      <th>fat</th>\n",
       "      <th>lymph</th>\n",
       "      <th>Region</th>\n",
       "      <th>malignant</th>\n",
       "      <th>offset</th>\n",
       "      <th>ink</th>\n",
       "      <th>normal</th>\n",
       "    </tr>\n",
       "  </thead>\n",
       "  <tbody>\n",
       "    <tr>\n",
       "      <th>ID</th>\n",
       "      <td>0</td>\n",
       "      <td>1</td>\n",
       "      <td>2</td>\n",
       "      <td>3</td>\n",
       "      <td>4</td>\n",
       "      <td>5</td>\n",
       "      <td>6</td>\n",
       "      <td>7</td>\n",
       "    </tr>\n",
       "    <tr>\n",
       "      <th>Priority</th>\n",
       "      <td>0</td>\n",
       "      <td>1</td>\n",
       "      <td>2</td>\n",
       "      <td>3</td>\n",
       "      <td>4</td>\n",
       "      <td>5</td>\n",
       "      <td>6</td>\n",
       "      <td>7</td>\n",
       "    </tr>\n",
       "  </tbody>\n",
       "</table>\n",
       "</div>"
      ],
      "text/plain": [
       "Label     NaN  fat  lymph  Region  malignant  offset  ink  normal\n",
       "ID          0    1      2       3          4       5    6       7\n",
       "Priority    0    1      2       3          4       5    6       7"
      ]
     },
     "execution_count": 5,
     "metadata": {},
     "output_type": "execute_result"
    }
   ],
   "source": [
    "c_lab_id_fn = os.path.join(zip_tank, 'class_label_id.csv')\n",
    "c_lab_id_df = pd.read_csv(c_lab_id_fn, index_col=0).T\n",
    "c_lab_id_df"
   ]
  },
  {
   "cell_type": "code",
   "execution_count": 6,
   "metadata": {},
   "outputs": [
    {
     "name": "stdout",
     "output_type": "stream",
     "text": [
      "with file: ../../DigiPath_MLTK_data/zipTank/wsi_annotation_sample/class_label_id.csv\n",
      "\n",
      "  ['Label', 'ID', 'Priority']\n",
      "      null: 0, 0\n",
      "       fat: 1, 1\n",
      "     lymph: 2, 2\n",
      "    Region: 3, 3\n",
      " malignant: 4, 4\n",
      "    offset: 5, 5\n",
      "       ink: 6, 6\n",
      "    normal: 7, 7\n"
     ]
    }
   ],
   "source": [
    "print('with file: %s\\n'%(c_lab_id_fn))\n",
    "\n",
    "with open(c_lab_id_fn, 'r') as fh:\n",
    "    lines = fh.readlines()\n",
    "    \n",
    "label_dict = {}    \n",
    "if len(lines) > 0:\n",
    "    for line in lines:\n",
    "        line_list = line.strip().split(',')\n",
    "        if len(line_list) > 1 and line_list[0] != 'Label':\n",
    "            label_dict[line_list[0]] = line_list[1:]\n",
    "        else:\n",
    "            print(' ',line.strip().split(','))\n",
    "            \n",
    "for k, v in label_dict.items():\n",
    "    print('%10s: %i, %i'%(k, int(v[0]), int(v[1])))"
   ]
  },
  {
   "cell_type": "code",
   "execution_count": 7,
   "metadata": {},
   "outputs": [
    {
     "name": "stdout",
     "output_type": "stream",
     "text": [
      "regions_list has 1 items\n",
      "\n",
      "            vertices:\n",
      "                   - <DOM Element: Vertex at 0x7f8a09d19a60>\n",
      "                   - <DOM Element: Vertex at 0x7f8a09d19af8>\n",
      "                   - <DOM Element: Vertex at 0x7f8a09d19b90>\n",
      "           region_Id: 1\n",
      "    class_label_text: null\n",
      "      class_label_Id: 0\n",
      "    region_geo_shape: Points\n",
      "              coords:\n",
      "                      [18040.966797 16813.011719]\n",
      "                      [37044.824219 46742.457031]\n",
      "                      [74755.21875  36969.667969]\n"
     ]
    }
   ],
   "source": [
    "\"\"\"\n",
    "                View XML with vertices, region_Id, class_label_Id, region_geo_shape, coords\n",
    "\"\"\"\n",
    "xml_dakine = os.path.join(zip_tank, '54742d6c5d704efa8f0814456453573a.xml')\n",
    "xml_obj = minidom.parse(xml_dakine)\n",
    "regions_dom = xml_obj.getElementsByTagName(\"Region\")\n",
    "\n",
    "regions_list = []\n",
    "for reg_dom in regions_dom:\n",
    "    tmp_dict = {}\n",
    "    tmp_dict['vertices'] = reg_dom.getElementsByTagName(\"Vertex\")\n",
    "    tmp_dict['region_Id'] = reg_dom.getAttribute('Id')\n",
    "    tmp_dict['class_label_text'] = reg_dom.getAttribute('Text')\n",
    "    tmp_dict['class_label_Id'] = reg_dom.getAttribute('Type')\n",
    "    tmp_dict['region_geo_shape'] = reg_dom.getAttribute('GeoShape')\n",
    "    tmp_dict['coords'] = np.zeros((len(tmp_dict['vertices']), 2))\n",
    "    for i, vertex in enumerate(tmp_dict['vertices']):\n",
    "        tmp_dict['coords'][i][0] = vertex.attributes['X'].value\n",
    "        tmp_dict['coords'][i][1] = vertex.attributes['Y'].value\n",
    "    regions_list.append(tmp_dict)\n",
    "\n",
    "print('regions_list has %i items\\n'%(len(regions_list)))\n",
    "for l_it in regions_list:\n",
    "    for k, v in l_it.items():\n",
    "        if isinstance(v, list):\n",
    "            print('%20s:'%(k))\n",
    "            for v_it in v:\n",
    "                print('%20s %s'%('-', v_it))\n",
    "        elif isinstance(v, np.ndarray):\n",
    "            print('%20s:'%(k))\n",
    "            for ix in range(v.shape[0]):\n",
    "                print('%20s '%(' '), v[ix])\n",
    "        else:\n",
    "            print('%20s: %s'%(k,v))"
   ]
  },
  {
   "cell_type": "code",
   "execution_count": null,
   "metadata": {},
   "outputs": [],
   "source": []
  }
 ],
 "metadata": {
  "kernelspec": {
   "display_name": "Python 3",
   "language": "python",
   "name": "python3"
  },
  "language_info": {
   "codemirror_mode": {
    "name": "ipython",
    "version": 3
   },
   "file_extension": ".py",
   "mimetype": "text/x-python",
   "name": "python",
   "nbconvert_exporter": "python",
   "pygments_lexer": "ipython3",
   "version": "3.7.3"
  }
 },
 "nbformat": 4,
 "nbformat_minor": 2
}
