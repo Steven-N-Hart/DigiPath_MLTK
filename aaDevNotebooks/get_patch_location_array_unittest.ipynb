{
 "cells": [
  {
   "cell_type": "markdown",
   "metadata": {},
   "source": [
    "# Prototype - *get_patch_location_array()* function\n",
    "    * Common to all 4 patch extraction use cases.\n",
    "    * Decouples selection image mask & (mask size) from individual use case flows.\n",
    "    * Insertion point for new or modified location-selection methods.\n",
    "    * Allow inspection / select-method parameter modification before making output.\n",
    "    * Allows paralellization of patch location (think slower more specific select methods). <br>\n",
    "****\n",
    "## Assemble and create unit test data:\n",
    "### Redo unit test for **get_sample_selection_mask()** (output type change)\n",
    "****\n",
    "### First Edit:\n",
    "```python\n",
    "def get_patch_location_array(run_parameters):\n",
    "    \"\"\" Usage: patch_location_array = get_patch_location_array(run_parameters)\n",
    "    Args:\n",
    "        run_parameters:     keys:\n",
    "                            image_file_name,\n",
    "                            thumbnail_divisor,\n",
    "                            patch_select_method,\n",
    "                            patch_height,\n",
    "                            patch_width\n",
    "    Returns:\n",
    "        patch_location_array\n",
    "        \n",
    "    \"\"\"\n",
    "    patch_location_array = []\n",
    "    \n",
    "    image_file_name = run_parameters['image_file_name']\n",
    "    thumbnail_divisor = run_parameters['thumbnail_divisor']\n",
    "    patch_select_method = run_parameters['patch_select_method']\n",
    "    patch_height = run_parameters['patch_height']\n",
    "    patch_width = run_parameters['patch_width']\n",
    "    \n",
    "    #                     OpenSlide open                      #\n",
    "    os_im_obj = openslide.OpenSlide(image_file_name)\n",
    "    \n",
    "    pixels_height = os_im_obj.dimensions[1]\n",
    "    rows_fence_array = get_fence_array(patch_length=patch_height, overall_length=pixels_height)\n",
    "    \n",
    "    pixels_width = os_im_obj.dimensions[0]\n",
    "    cols_fence_array = get_fence_array(patch_length=patch_width, overall_length=pixels_width)\n",
    "        \n",
    "    small_im = os_im_obj.get_thumbnail((pixels_height // thumbnail_divisor, \n",
    "                                        pixels_width // thumbnail_divisor))\n",
    "    os_im_obj.close()\n",
    "    #                     OpenSlide close                     #\n",
    "    \n",
    "    mask_im = get_sample_selection_mask(small_im, patch_select_method)\n",
    "        \n",
    "    it_rows = zip(rows_fence_array[:,0] // thumbnail_divisor, \n",
    "                  rows_fence_array[:,1] // thumbnail_divisor, \n",
    "                  rows_fence_array[:,0])\n",
    "    \n",
    "    lft_cols = cols_fence_array[:,0] // thumbnail_divisor\n",
    "    rgt_cols = cols_fence_array[:,1] // thumbnail_divisor\n",
    "    cols_array = cols_fence_array[:,0]\n",
    "    \n",
    "    for tmb_row_top, tmb_row_bot, row_n in it_rows:\n",
    "        it_cols = zip(lft_cols, rgt_cols, cols_array)\n",
    "        for tmb_col_lft, tmb_col_rgt, col_n in it_cols:\n",
    "            if (mask_im[tmb_row_top:tmb_row_bot, tmb_col_lft:tmb_col_rgt]).sum() > 0:\n",
    "                patch_location_array.append((row_n, col_n))\n",
    "                \n",
    "    return patch_location_array\n",
    "```"
   ]
  },
  {
   "cell_type": "code",
   "execution_count": null,
   "metadata": {},
   "outputs": [],
   "source": [
    "import time\n",
    "import os\n",
    "import sys\n",
    "import openslide\n",
    "\n",
    "sys.path.insert(0, '../src/python')\n",
    "from digipath_toolkit import *\n",
    "\n",
    "data_dir = '../../DigiPath_MLTK_data/Aperio'\n",
    "file_type_list=['.svs', '.tif', '.tiff']\n",
    "fs_od = get_file_size_ordered_dict(data_dir, file_type_list)\n",
    "list_number = 0\n",
    "for k, v in fs_od.items():\n",
    "    print('%3i %30s: %i'%(list_number, k,v))\n",
    "    list_number += 1"
   ]
  },
  {
   "cell_type": "code",
   "execution_count": null,
   "metadata": {},
   "outputs": [],
   "source": [
    "#                         test data file for threshold_otsu\n",
    "run_parameters = {}\n",
    "\n",
    "data_dir = '../data/images/' \n",
    "image_file_name = 'CMU-1-Small-Region.svs'\n",
    "run_parameters['wsi_filename'] = os.path.join(data_dir, image_file_name)\n",
    "print('Image File:\\n', run_parameters['wsi_filename'])\n",
    "\n",
    "run_parameters['thumbnail_divisor'] = 10\n",
    "run_parameters['patch_select_method'] = 'threshold_otsu' # 'threshold_rgb2lab'\n",
    "run_parameters['patch_height'] = 224\n",
    "run_parameters['patch_width'] = 224\n",
    "\n",
    "\"\"\"\n",
    "                output & time test:                CALL - - get_patch_location_array()\n",
    "\"\"\"\n",
    "t0 = time.time()\n",
    "patch_location_array = get_patch_location_array(run_parameters)\n",
    "tt = time.time() - t0\n",
    "\n",
    "print('%i images found\\t%0.3f s\\n'%(len(patch_location_array), tt))\n",
    "\n",
    "print('type(patch_location_array) =',type(patch_location_array), '\\t', len(patch_location_array),'\\n')\n",
    "for d in patch_location_array:\n",
    "    print(type(d), '\\t', d, '\\t', '\\t', d[0], d[0])"
   ]
  },
  {
   "cell_type": "code",
   "execution_count": null,
   "metadata": {},
   "outputs": [],
   "source": [
    "pl_arr = np.array(patch_location_array)\n",
    "pl_arr.shape"
   ]
  },
  {
   "cell_type": "code",
   "execution_count": null,
   "metadata": {},
   "outputs": [],
   "source": [
    "pl_BAK = list(pl_arr)\n",
    "for d in pl_BAK:\n",
    "    print(tuple(d))"
   ]
  },
  {
   "cell_type": "code",
   "execution_count": null,
   "metadata": {},
   "outputs": [],
   "source": [
    "for r, c in patch_location_array[:]:\n",
    "    print(r,c)"
   ]
  },
  {
   "cell_type": "code",
   "execution_count": null,
   "metadata": {},
   "outputs": [],
   "source": [
    "patch_location_array[:]"
   ]
  },
  {
   "cell_type": "code",
   "execution_count": null,
   "metadata": {},
   "outputs": [],
   "source": []
  },
  {
   "cell_type": "code",
   "execution_count": null,
   "metadata": {},
   "outputs": [],
   "source": []
  },
  {
   "cell_type": "code",
   "execution_count": null,
   "metadata": {},
   "outputs": [],
   "source": []
  },
  {
   "cell_type": "code",
   "execution_count": null,
   "metadata": {},
   "outputs": [],
   "source": []
  },
  {
   "cell_type": "code",
   "execution_count": null,
   "metadata": {},
   "outputs": [],
   "source": []
  },
  {
   "cell_type": "code",
   "execution_count": null,
   "metadata": {},
   "outputs": [],
   "source": []
  },
  {
   "cell_type": "code",
   "execution_count": null,
   "metadata": {},
   "outputs": [],
   "source": []
  },
  {
   "cell_type": "code",
   "execution_count": null,
   "metadata": {},
   "outputs": [],
   "source": []
  },
  {
   "cell_type": "code",
   "execution_count": null,
   "metadata": {},
   "outputs": [],
   "source": []
  },
  {
   "cell_type": "code",
   "execution_count": null,
   "metadata": {},
   "outputs": [],
   "source": []
  },
  {
   "cell_type": "code",
   "execution_count": null,
   "metadata": {},
   "outputs": [],
   "source": []
  },
  {
   "cell_type": "code",
   "execution_count": null,
   "metadata": {},
   "outputs": [],
   "source": []
  },
  {
   "cell_type": "code",
   "execution_count": null,
   "metadata": {},
   "outputs": [],
   "source": []
  },
  {
   "cell_type": "code",
   "execution_count": null,
   "metadata": {},
   "outputs": [],
   "source": []
  }
 ],
 "metadata": {
  "kernelspec": {
   "display_name": "Python 3",
   "language": "python",
   "name": "python3"
  },
  "language_info": {
   "codemirror_mode": {
    "name": "ipython",
    "version": 3
   },
   "file_extension": ".py",
   "mimetype": "text/x-python",
   "name": "python",
   "nbconvert_exporter": "python",
   "pygments_lexer": "ipython3",
   "version": "3.7.3"
  }
 },
 "nbformat": 4,
 "nbformat_minor": 2
}
