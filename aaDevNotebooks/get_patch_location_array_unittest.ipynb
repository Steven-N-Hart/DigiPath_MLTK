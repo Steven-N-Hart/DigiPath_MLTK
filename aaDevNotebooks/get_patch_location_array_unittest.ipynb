{
 "cells": [
  {
   "cell_type": "markdown",
   "metadata": {},
   "source": [
    "# Prototype - *get_patch_location_array()* function\n",
    "    * Common to all 4 patch extraction use cases.\n",
    "    * Decouples selection image mask & (mask size) from individual use case flows.\n",
    "    * Insertion point for new or modified location-selection methods.\n",
    "    * Allow inspection / select-method parameter modification before making output.\n",
    "    * Allows paralellization of patch location (think slower more specific select methods). <br>\n",
    "****\n",
    "## Assemble and create unit test data:"
   ]
  },
  {
   "cell_type": "code",
   "execution_count": 1,
   "metadata": {},
   "outputs": [
    {
     "name": "stdout",
     "output_type": "stream",
     "text": [
      "  0         CMU-1-Small-Region.svs: 1938955\n",
      "  1               JP2K-33003-1.svs: 63847265\n",
      "  2           CMU-1-JP2K-33005.svs: 132565343\n",
      "  3                      CMU-1.svs: 177552579\n",
      "  4                      CMU-3.svs: 253815723\n",
      "  5               JP2K-33003-2.svs: 289250433\n",
      "  6                      CMU-2.svs: 390750635\n"
     ]
    }
   ],
   "source": [
    "import time\n",
    "import os\n",
    "import sys\n",
    "import openslide\n",
    "\n",
    "sys.path.insert(0, '../src/python')\n",
    "from digipath_toolkit import *\n",
    "\n",
    "data_dir = '../../DigiPath_MLTK_data/Aperio'\n",
    "file_type_list=['.svs', '.tif', '.tiff']\n",
    "fs_od = get_file_size_ordered_dict(data_dir, file_type_list)\n",
    "list_number = 0\n",
    "for k, v in fs_od.items():\n",
    "    print('%3i %30s: %i'%(list_number, k,v))\n",
    "    list_number += 1"
   ]
  },
  {
   "cell_type": "code",
   "execution_count": 3,
   "metadata": {},
   "outputs": [
    {
     "name": "stdout",
     "output_type": "stream",
     "text": [
      "Image File:\n",
      " ../data/images/CMU-1-Small-Region.svs\n",
      "74 images found\t0.424 s\n",
      "\n",
      "type(patch_location_array) = <class 'list'> \t 74 \n",
      "\n",
      "<class 'tuple'> \t (28, 774)\n",
      "<class 'tuple'> \t (28, 998)\n",
      "<class 'tuple'> \t (28, 1222)\n",
      "<class 'tuple'> \t (252, 774)\n",
      "<class 'tuple'> \t (252, 998)\n",
      "<class 'tuple'> \t (252, 1222)\n",
      "<class 'tuple'> \t (252, 1446)\n",
      "<class 'tuple'> \t (476, 774)\n",
      "<class 'tuple'> \t (476, 998)\n",
      "<class 'tuple'> \t (476, 1222)\n",
      "<class 'tuple'> \t (476, 1446)\n",
      "<class 'tuple'> \t (476, 1894)\n",
      "<class 'tuple'> \t (700, 774)\n",
      "<class 'tuple'> \t (700, 998)\n",
      "<class 'tuple'> \t (700, 1222)\n",
      "<class 'tuple'> \t (700, 1446)\n",
      "<class 'tuple'> \t (924, 102)\n",
      "<class 'tuple'> \t (924, 326)\n",
      "<class 'tuple'> \t (924, 550)\n",
      "<class 'tuple'> \t (924, 774)\n",
      "<class 'tuple'> \t (924, 998)\n",
      "<class 'tuple'> \t (924, 1222)\n",
      "<class 'tuple'> \t (924, 1446)\n",
      "<class 'tuple'> \t (924, 1670)\n",
      "<class 'tuple'> \t (924, 1894)\n",
      "<class 'tuple'> \t (1148, 774)\n",
      "<class 'tuple'> \t (1148, 998)\n",
      "<class 'tuple'> \t (1148, 1222)\n",
      "<class 'tuple'> \t (1148, 1446)\n",
      "<class 'tuple'> \t (1148, 1670)\n",
      "<class 'tuple'> \t (1148, 1894)\n",
      "<class 'tuple'> \t (1372, 774)\n",
      "<class 'tuple'> \t (1372, 998)\n",
      "<class 'tuple'> \t (1372, 1222)\n",
      "<class 'tuple'> \t (1372, 1446)\n",
      "<class 'tuple'> \t (1372, 1670)\n",
      "<class 'tuple'> \t (1596, 774)\n",
      "<class 'tuple'> \t (1596, 998)\n",
      "<class 'tuple'> \t (1596, 1222)\n",
      "<class 'tuple'> \t (1596, 1446)\n",
      "<class 'tuple'> \t (1596, 1670)\n",
      "<class 'tuple'> \t (1820, 550)\n",
      "<class 'tuple'> \t (1820, 774)\n",
      "<class 'tuple'> \t (1820, 998)\n",
      "<class 'tuple'> \t (1820, 1222)\n",
      "<class 'tuple'> \t (1820, 1446)\n",
      "<class 'tuple'> \t (1820, 1670)\n",
      "<class 'tuple'> \t (2044, 550)\n",
      "<class 'tuple'> \t (2044, 774)\n",
      "<class 'tuple'> \t (2044, 998)\n",
      "<class 'tuple'> \t (2044, 1222)\n",
      "<class 'tuple'> \t (2044, 1446)\n",
      "<class 'tuple'> \t (2044, 1670)\n",
      "<class 'tuple'> \t (2044, 1894)\n",
      "<class 'tuple'> \t (2268, 550)\n",
      "<class 'tuple'> \t (2268, 774)\n",
      "<class 'tuple'> \t (2268, 998)\n",
      "<class 'tuple'> \t (2268, 1222)\n",
      "<class 'tuple'> \t (2268, 1446)\n",
      "<class 'tuple'> \t (2268, 1670)\n",
      "<class 'tuple'> \t (2492, 326)\n",
      "<class 'tuple'> \t (2492, 550)\n",
      "<class 'tuple'> \t (2492, 774)\n",
      "<class 'tuple'> \t (2492, 998)\n",
      "<class 'tuple'> \t (2492, 1222)\n",
      "<class 'tuple'> \t (2492, 1446)\n",
      "<class 'tuple'> \t (2492, 1670)\n",
      "<class 'tuple'> \t (2716, 326)\n",
      "<class 'tuple'> \t (2716, 550)\n",
      "<class 'tuple'> \t (2716, 774)\n",
      "<class 'tuple'> \t (2716, 998)\n",
      "<class 'tuple'> \t (2716, 1222)\n",
      "<class 'tuple'> \t (2716, 1446)\n",
      "<class 'tuple'> \t (2716, 1670)\n"
     ]
    }
   ],
   "source": [
    "#                         test data file for threshold_otsu\n",
    "run_parameters = {}\n",
    "\n",
    "data_dir = '../data/images/' \n",
    "image_file_name = 'CMU-1-Small-Region.svs'\n",
    "run_parameters['wsi_filename'] = os.path.join(data_dir, image_file_name)\n",
    "print('Image File:\\n', run_parameters['wsi_filename'])\n",
    "\n",
    "run_parameters['thumbnail_divisor'] = 10\n",
    "run_parameters['patch_select_method'] = 'threshold_otsu' # 'threshold_rgb2lab'\n",
    "run_parameters['patch_height'] = 224\n",
    "run_parameters['patch_width'] = 224\n",
    "\n",
    "\"\"\"\n",
    "                output & time test:                CALL - - get_patch_location_array()\n",
    "\"\"\"\n",
    "t0 = time.time()\n",
    "patch_location_array = get_patch_location_array(run_parameters)\n",
    "tt = time.time() - t0\n",
    "\n",
    "print('%i images found\\t%0.3f s\\n'%(len(patch_location_array), tt))\n",
    "\n",
    "print('type(patch_location_array) =',type(patch_location_array), '\\t', len(patch_location_array),'\\n')\n",
    "for d in patch_location_array:\n",
    "    print(type(d), '\\t', d)"
   ]
  },
  {
   "cell_type": "code",
   "execution_count": null,
   "metadata": {},
   "outputs": [],
   "source": []
  },
  {
   "cell_type": "code",
   "execution_count": null,
   "metadata": {},
   "outputs": [],
   "source": []
  },
  {
   "cell_type": "code",
   "execution_count": null,
   "metadata": {},
   "outputs": [],
   "source": []
  },
  {
   "cell_type": "code",
   "execution_count": null,
   "metadata": {},
   "outputs": [],
   "source": []
  },
  {
   "cell_type": "code",
   "execution_count": null,
   "metadata": {},
   "outputs": [],
   "source": []
  },
  {
   "cell_type": "code",
   "execution_count": null,
   "metadata": {},
   "outputs": [],
   "source": []
  },
  {
   "cell_type": "code",
   "execution_count": null,
   "metadata": {},
   "outputs": [],
   "source": []
  },
  {
   "cell_type": "code",
   "execution_count": null,
   "metadata": {},
   "outputs": [],
   "source": []
  },
  {
   "cell_type": "code",
   "execution_count": null,
   "metadata": {},
   "outputs": [],
   "source": []
  },
  {
   "cell_type": "code",
   "execution_count": null,
   "metadata": {},
   "outputs": [],
   "source": []
  },
  {
   "cell_type": "code",
   "execution_count": null,
   "metadata": {},
   "outputs": [],
   "source": []
  },
  {
   "cell_type": "code",
   "execution_count": null,
   "metadata": {},
   "outputs": [],
   "source": []
  },
  {
   "cell_type": "code",
   "execution_count": null,
   "metadata": {},
   "outputs": [],
   "source": []
  },
  {
   "cell_type": "code",
   "execution_count": null,
   "metadata": {},
   "outputs": [],
   "source": []
  }
 ],
 "metadata": {
  "kernelspec": {
   "display_name": "Python 3",
   "language": "python",
   "name": "python3"
  },
  "language_info": {
   "codemirror_mode": {
    "name": "ipython",
    "version": 3
   },
   "file_extension": ".py",
   "mimetype": "text/x-python",
   "name": "python",
   "nbconvert_exporter": "python",
   "pygments_lexer": "ipython3",
   "version": "3.7.3"
  }
 },
 "nbformat": 4,
 "nbformat_minor": 2
}
