{
 "cells": [
  {
   "cell_type": "markdown",
   "metadata": {},
   "source": [
    "# Registration - get pairs of patches from wsi_1, wsi_2 and offset"
   ]
  },
  {
   "cell_type": "code",
   "execution_count": null,
   "metadata": {},
   "outputs": [],
   "source": [
    "import time\n",
    "nb_start_time = time.time()\n",
    "\n",
    "import os\n",
    "import tempfile\n",
    "import sys\n",
    "\n",
    "from collections import OrderedDict\n",
    "import argparse\n",
    "\n",
    "import tensorflow as tf\n",
    "from tensorflow import io as tf_io\n",
    "\n",
    "import numpy as np\n",
    "import pandas as pd\n",
    "import yaml\n",
    "\n",
    "from skimage.filters import threshold_otsu\n",
    "from skimage.color import rgb2lab\n",
    "\n",
    "from PIL import ImageDraw\n",
    "from PIL import TiffImagePlugin as tip\n",
    "\n",
    "import IPython.display as ip_display\n",
    "\n",
    "import openslide\n",
    "\n",
    "sys.path.insert(0, '../src/python')\n",
    "from digipath_toolkit import *\n",
    "\n",
    "def get_pair(wsi_obj_0, wsi_obj_1, x0, y0, x1, y1, patch_size=(224, 224), image_level=0):\n",
    "    \"\"\" Usage: \n",
    "    patch_0, patch_1 = get_pair(wsi_obj_0, wsi_obj_1, x0, y0, offset_x, offset_y, patch_size, image_level)\n",
    "                \n",
    "    \"\"\"\n",
    "    patch_0 = wsi_obj_0.read_region((x0, y0), image_level, patch_size)\n",
    "    patch_1 = wsi_obj_1.read_region((x1, y1), image_level, patch_size)\n",
    "    return patch_0, patch_1\n",
    "\n",
    "def im_pair_hori(im_0, im_1):\n",
    "    \"\"\" Usage: new_im = cat_im_list_hori(im_list)\n",
    "            combine a list of PIL images horizontaly\n",
    "    \"\"\"\n",
    "    w0 = im_0.size[0]\n",
    "    w = w0 + im_1.size[0] + 1\n",
    "    h = max(im_0.size[1], im_1.size[1])\n",
    "\n",
    "    new_im = tip.Image.new('RGB', (w, h) )\n",
    "    box = (0, 0, w0, h)\n",
    "    new_im.paste(im_0, box)\n",
    "    \n",
    "    box = (w0+1, 0, w, h)\n",
    "    new_im.paste(im_1, box)\n",
    "\n",
    "    return new_im\n",
    "\n",
    "def get_patch_pairs_array(run_parameters):\n",
    "    \"\"\" Usage: patch_pair_array = get_patch_pairs_array(run_parameters)\n",
    "    \n",
    "    Returns:\n",
    "        patch_pairs_array:  list of tuples = [  (x0, y0, x1, y1),\n",
    "                                                (x0, y0, x1, y1), ... , (x0, y0, x1, y1) ]\n",
    "    \"\"\"\n",
    "    \n",
    "    float_wsi = run_parameters['wsi_floatname']\n",
    "    offset_x = run_parameters['offset_x']\n",
    "    offset_y = run_parameters['offset_y']\n",
    "    \n",
    "    patch_pair_array = []\n",
    "    \n",
    "    patch_location_array = get_patch_location_array_for_image_level(run_parameters)\n",
    "    \n",
    "    fixed_levels_dict = get_level_sizes_dict(fixed_wsi)\n",
    "    fixed_max_width = fixed_levels_dict['image_size'][0]\n",
    "    fixed_max_height = fixed_levels_dict['image_size'][1]\n",
    "\n",
    "    float_levels_dict = get_level_sizes_dict(float_wsi)\n",
    "    float_max_width = float_levels_dict['image_size'][0]\n",
    "    float_max_height = float_levels_dict['image_size'][1]\n",
    "\n",
    "    last_patch_number = len(patch_location_array) - 1\n",
    "    patch_number = 0\n",
    "    while patch_number < last_patch_number:\n",
    "        patch_number += 1\n",
    "        y0, x0 = patch_location_array[patch_number]\n",
    "        x1 = x0 - offset_x\n",
    "        y1 = y0 - offset_y\n",
    "\n",
    "        big_enough = x0 >= 0 and y0 >= 0 and x1 >= 0 and y1 >= 0\n",
    "        fixed_small_enough = x0 < fixed_max_width and y0 < fixed_max_height \n",
    "        float_small_enough =  x1 < float_max_width and y1 < float_max_height\n",
    "\n",
    "        if big_enough and fixed_small_enough and float_small_enough:\n",
    "            patch_pair_array.append((x0, y0, x1, y1))\n",
    "    \n",
    "    return patch_pair_array"
   ]
  },
  {
   "cell_type": "code",
   "execution_count": null,
   "metadata": {},
   "outputs": [],
   "source": [
    "test_data_dir = '../../DigiPath_MLTK_data/RegistrationDevData/'\n",
    "os.listdir(test_data_dir)"
   ]
  },
  {
   "cell_type": "code",
   "execution_count": null,
   "metadata": {},
   "outputs": [],
   "source": [
    "offset_data_file = os.path.join(test_data_dir, 'wsi_pair_sample.csv')\n",
    "if os.path.isfile(offset_data_file):\n",
    "    offset_df = pd.read_csv(offset_data_file)\n",
    "offset_df"
   ]
  },
  {
   "cell_type": "code",
   "execution_count": null,
   "metadata": {},
   "outputs": [],
   "source": [
    "\"\"\"\n",
    "            correctly reversed x, y\n",
    "\"\"\"\n",
    "offset_x = offset_df['truth_offset_x'].iloc[0]\n",
    "offset_y = offset_df['truth_offset_y'].iloc[0]\n",
    "offset_x, offset_y = int(round(offset_x)), int(round(offset_y))\n",
    "\n",
    "auto_x = offset_df['auto_offset_x'].iloc[0]\n",
    "auto_y = offset_df['auto_offset_y'].iloc[0]\n",
    "auto_x, auto_y = int(round(auto_x)), int(round(auto_y))\n",
    "offset_x, offset_y, auto_x, auto_y"
   ]
  },
  {
   "cell_type": "code",
   "execution_count": null,
   "metadata": {},
   "outputs": [],
   "source": [
    "fixed_wsi = os.path.join(test_data_dir, '54742d6c5d704efa8f0814456453573a.tiff')\n",
    "\n",
    "fixed_levels_dict = get_level_sizes_dict(fixed_wsi)\n",
    "fixed_max_width = fixed_levels_dict['image_size'][0]\n",
    "fixed_max_height = fixed_levels_dict['image_size'][1]\n",
    "\n",
    "for k, v in fixed_levels_dict.items():\n",
    "    print('%25s: %s'%(k,v))"
   ]
  },
  {
   "cell_type": "code",
   "execution_count": null,
   "metadata": {},
   "outputs": [],
   "source": [
    "float_wsi = os.path.join(test_data_dir, 'e39a8d60a56844d695e9579bce8f0335.tiff')\n",
    "\n",
    "float_levels_dict = get_level_sizes_dict(float_wsi)\n",
    "float_max_width = float_levels_dict['image_size'][0]\n",
    "float_max_height = float_levels_dict['image_size'][1]\n",
    "\n",
    "\n",
    "for k, v in float_levels_dict.items():\n",
    "    print('%25s: %s'%(k,v))"
   ]
  },
  {
   "cell_type": "code",
   "execution_count": null,
   "metadata": {},
   "outputs": [],
   "source": [
    "run_parameters = {'wsi_filename': fixed_wsi, \n",
    "                  'wsi_floatname': float_wsi,\n",
    "                  'thumbnail_divisor': 20, \n",
    "                  'patch_select_method': 'threshold_rgb2lab', \n",
    "                  'rgb2lab_threshold': 80, \n",
    "                  'image_level': 0, \n",
    "                  'patch_height': 224, \n",
    "                  'patch_width': 224, \n",
    "                  'threshold': 0, \n",
    "                  'offset_x': offset_x, \n",
    "                  'offset_y': offset_y}\n",
    "\n",
    "t0 = time.time()\n",
    "patch_pair_array = get_patch_pairs_array(run_parameters)\n",
    "print(len(patch_pair_array), '%0.2f s'%(time.time() - t0))"
   ]
  },
  {
   "cell_type": "code",
   "execution_count": null,
   "metadata": {},
   "outputs": [],
   "source": [
    "os_fixed_obj = openslide.OpenSlide(fixed_wsi)\n",
    "os_float_obj = openslide.OpenSlide(float_wsi)\n",
    "\n",
    "patch_size = (224, 224)\n",
    "image_level = 0\n",
    "for k in range(10):\n",
    "    x0, y0, x1, y1 = patch_pair_array[k]\n",
    "    print(patch_pair_array[k])\n",
    "    patch_0, patch_1 = get_pair(os_fixed_obj, os_float_obj, x0, y0, x1, y1, patch_size, image_level)\n",
    "    new_im = im_pair_hori(patch_0, patch_1)\n",
    "    display(new_im)\n",
    "    print('\\n')"
   ]
  },
  {
   "cell_type": "code",
   "execution_count": null,
   "metadata": {},
   "outputs": [],
   "source": [
    "try:\n",
    "    os_fixed_obj.close()\n",
    "except:\n",
    "    print('oopsie oops')\n",
    "try:\n",
    "    os_float_obj.close()\n",
    "except:\n",
    "    print('oopsie oops')"
   ]
  },
  {
   "cell_type": "code",
   "execution_count": null,
   "metadata": {},
   "outputs": [],
   "source": []
  },
  {
   "cell_type": "code",
   "execution_count": null,
   "metadata": {},
   "outputs": [],
   "source": []
  },
  {
   "cell_type": "code",
   "execution_count": null,
   "metadata": {},
   "outputs": [],
   "source": []
  },
  {
   "cell_type": "code",
   "execution_count": null,
   "metadata": {},
   "outputs": [],
   "source": []
  }
 ],
 "metadata": {
  "kernelspec": {
   "display_name": "Python 3",
   "language": "python",
   "name": "python3"
  },
  "language_info": {
   "codemirror_mode": {
    "name": "ipython",
    "version": 3
   },
   "file_extension": ".py",
   "mimetype": "text/x-python",
   "name": "python",
   "nbconvert_exporter": "python",
   "pygments_lexer": "ipython3",
   "version": "3.7.3"
  }
 },
 "nbformat": 4,
 "nbformat_minor": 2
}
