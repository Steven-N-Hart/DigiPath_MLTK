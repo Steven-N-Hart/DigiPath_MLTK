{
 "cells": [
  {
   "cell_type": "markdown",
   "metadata": {},
   "source": [
    "# prototype image generator class as base\n",
    "\n",
    "```python\n",
    "im_gen_obj = PatchImageGenerator()\n",
    "patch_image = im_gen_obj.next_patch()\n",
    "```\n",
    "\n",
    "## *image_file_to_patches_directory_for_image_level.py*\n",
    "\n",
    "### Fix and test:\n",
    "* digipath_mltk.py & or digipath_toolkit.py\n",
    "    * err-parameters checking"
   ]
  },
  {
   "cell_type": "code",
   "execution_count": null,
   "metadata": {},
   "outputs": [],
   "source": [
    "import time\n",
    "nb_start_time = time.time()\n",
    "\n",
    "import os\n",
    "import sys\n",
    "\n",
    "from collections import OrderedDict\n",
    "import argparse\n",
    "\n",
    "import numpy as np\n",
    "import pandas as pd\n",
    "import yaml\n",
    "\n",
    "from skimage.filters import threshold_otsu\n",
    "from skimage.color import rgb2lab\n",
    "\n",
    "from PIL import ImageDraw\n",
    "from PIL import TiffImagePlugin as tip\n",
    "\n",
    "import openslide\n",
    "\n",
    "sys.path.insert(0, '../src/python')\n",
    "from digipath_toolkit import *\n",
    "\n",
    "COMMON_THUMBNAIL_DIVISOR = 20\n",
    "\n",
    "data_dir = '../../DigiPath_MLTK_data/Aperio'\n",
    "file_type_list=['.svs', '.tif', '.tiff']\n",
    "fs_od = get_file_size_ordered_dict(data_dir, file_type_list)\n",
    "list_number = 0\n",
    "for k, v in fs_od.items():\n",
    "    print('%3i %30s: %i'%(list_number, k,v))\n",
    "    list_number += 1"
   ]
  },
  {
   "cell_type": "code",
   "execution_count": null,
   "metadata": {},
   "outputs": [],
   "source": [
    "class PatchImageGenerator_NB():\n",
    "    \"\"\"\n",
    "    General case patch image generator for openslide Whole Slide Image file types\n",
    "\n",
    "    Usage:  patch_image_generator = PatchImageGenerator(run_parameters)\n",
    "            patch_dict = patch_image_generator.next_patch()\n",
    "\n",
    "    Args:\n",
    "        run_parameters:         (with these keys)\n",
    "                                wsi_filename:           file name (with valid path)\n",
    "                                patch_height:           patch size = (patch_width, patch_height)\n",
    "                                patch_width:            patch size = (patch_width, patch_height)\n",
    "                                thumbnail_divisor:      wsi_image full size divisor to create thumbnail image\n",
    "                                patch_select_method:    'threshold_rgb2lab' or 'threshold_otsu'\n",
    "                                threshold:              minimimum sum of thresholded image (default = 0)\n",
    "    yields:\n",
    "        patch_dict:             (with these keys)\n",
    "                                patch_image:            PIL image of patch size\n",
    "                                image_level_x:          column location in image level image\n",
    "                                image_level_y:          row location in image level image\n",
    "                                level_0_x:              column location in image (level 0)\n",
    "                                level_0_y:              row location in image (level 0)\n",
    "    \"\"\"\n",
    "\n",
    "    def __init__(self, run_parameters):\n",
    "        self.os_obj = openslide.OpenSlide(run_parameters['wsi_filename'])\n",
    "        self.image_level = run_parameters['image_level']\n",
    "        self.patch_size = (run_parameters['patch_width'], run_parameters['patch_height'])\n",
    "        _multi_ = self.os_obj.level_downsamples[self.image_level]\n",
    "        self.image_level_loc_array = get_patch_location_array_for_image_level(run_parameters)\n",
    "        self.level_0_location_array = [(int(p[0] * _multi_), int(p[1] * _multi_)) for p in self.image_level_loc_array]\n",
    "        self._number_of_patches = len(self.image_level_loc_array)\n",
    "        self._patch_number = -1\n",
    "\n",
    "    def __del__(self):\n",
    "        self.os_obj.close()\n",
    "\n",
    "    def next_patch(self):\n",
    "        self._patch_number += 1\n",
    "        if self._patch_number < self._number_of_patches:\n",
    "            patch_dict = {'patch_number': self._patch_number}\n",
    "            patch_dict['image_level_x'] = self.image_level_loc_array[self._patch_number][1]\n",
    "            patch_dict['image_level_y'] = self.image_level_loc_array[self._patch_number][0]\n",
    "            patch_dict['level_0_x'] = self.level_0_location_array[self._patch_number][1]\n",
    "            patch_dict['level_0_y'] = self.level_0_location_array[self._patch_number][0]\n",
    "\n",
    "            location = (patch_dict['level_0_x'], patch_dict['level_0_y'])\n",
    "            patch_dict['patch_image'] = self.os_obj.read_region(location, self.image_level, self.patch_size)\n",
    "\n",
    "            return patch_dict\n",
    "\n",
    "        else:\n",
    "            raise StopIteration()\n"
   ]
  },
  {
   "cell_type": "code",
   "execution_count": null,
   "metadata": {},
   "outputs": [],
   "source": [
    "data_dir = '../../DigiPath_MLTK_data/Aperio'\n",
    "image_file_name = 'CMU-1.svs'\n",
    "\n",
    "run_parameters = dict()\n",
    "\n",
    "run_parameters['wsi_filename'] = os.path.join(data_dir, image_file_name)\n",
    "print('Image File:\\n', run_parameters['wsi_filename'])\n",
    "\n",
    "run_parameters['thumbnail_divisor'] = COMMON_THUMBNAIL_DIVISOR\n",
    "run_parameters['patch_select_method'] = 'threshold_otsu' # 'threshold_rgb2lab'\n",
    "run_parameters['patch_height'] = 224\n",
    "run_parameters['patch_width'] = 224\n",
    "run_parameters['threshold'] = 0\n",
    "run_parameters['image_level'] = 2\n",
    "\n",
    "run_parameters['class_label'] = 'class_label_test_str'\n",
    "run_parameters['output_dir'] = '../../run_dir/results'\n",
    "            \n",
    "patch_generator = PatchImageGenerator_NB(run_parameters)"
   ]
  },
  {
   "cell_type": "code",
   "execution_count": null,
   "metadata": {},
   "outputs": [],
   "source": [
    "display(patch_generator.next_patch()['patch_image'])"
   ]
  },
  {
   "cell_type": "code",
   "execution_count": null,
   "metadata": {},
   "outputs": [],
   "source": []
  },
  {
   "cell_type": "code",
   "execution_count": null,
   "metadata": {},
   "outputs": [],
   "source": [
    "patch_generator = PatchImageGenerator_NB(run_parameters)\n",
    "print()\n",
    "patch_count = 0\n",
    "while True:\n",
    "    try:\n",
    "        #         print(G.next_patch())\n",
    "        patch_dict = patch_generator.next_patch()\n",
    "        x = patch_dict['image_level_x']\n",
    "        y = patch_dict['image_level_y']\n",
    "        print('%8i x,\\t%8i y\\tsize = '%(x, y), patch_dict['patch_image'].size)\n",
    "        # display(patch_generator.next_patch()['patch_image'])\n",
    "        patch_count += 1\n",
    "    except StopIteration:\n",
    "        print('Thats all Folks')\n",
    "        break\n",
    "print(patch_dict['patch_number'], patch_count)"
   ]
  },
  {
   "cell_type": "code",
   "execution_count": null,
   "metadata": {},
   "outputs": [],
   "source": [
    "help(patch_generator)"
   ]
  },
  {
   "cell_type": "code",
   "execution_count": null,
   "metadata": {},
   "outputs": [],
   "source": []
  },
  {
   "cell_type": "code",
   "execution_count": null,
   "metadata": {},
   "outputs": [],
   "source": []
  }
 ],
 "metadata": {
  "kernelspec": {
   "display_name": "Python 3",
   "language": "python",
   "name": "python3"
  },
  "language_info": {
   "codemirror_mode": {
    "name": "ipython",
    "version": 3
   },
   "file_extension": ".py",
   "mimetype": "text/x-python",
   "name": "python",
   "nbconvert_exporter": "python",
   "pygments_lexer": "ipython3",
   "version": "3.7.3"
  }
 },
 "nbformat": 4,
 "nbformat_minor": 2
}
