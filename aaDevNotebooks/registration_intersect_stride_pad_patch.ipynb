{
 "cells": [
  {
   "cell_type": "markdown",
   "metadata": {},
   "source": [
    "# *get_fence_array(patch_length, overall_length)* revisited\n",
    "```python\n",
    "def get_fence_array_from_padded_segment_with_stride(patch_len, start_seg, end_seg, fill_complete=False):\n",
    "    \n",
    "    return fence_array\n",
    "```\n",
    "\n",
    "## Compare padding vs stride in the context of registration intersection pairs"
   ]
  },
  {
   "cell_type": "code",
   "execution_count": 46,
   "metadata": {},
   "outputs": [],
   "source": [
    "import numpy as np"
   ]
  },
  {
   "cell_type": "code",
   "execution_count": 49,
   "metadata": {},
   "outputs": [
    {
     "name": "stdout",
     "output_type": "stream",
     "text": [
      "patch_length 224 start_segment 22 end_segment 2500\n",
      "\n",
      "overall_length: 2478\n",
      "stride 206 n_fenced * stride 2472\n",
      "Array Size =  12\n",
      "\n",
      "[ 22 245] \t223\n",
      "[228 451] \t223\n",
      "[434 657] \t223\n",
      "[640 863] \t223\n",
      "[ 846 1069] \t223\n",
      "[1052 1275] \t223\n",
      "[1258 1481] \t223\n",
      "[1464 1687] \t223\n",
      "[1670 1893] \t223\n",
      "[1876 2099] \t223\n",
      "[2082 2305] \t223\n",
      "[2254 2477] \t223\n"
     ]
    }
   ],
   "source": [
    "def get_strided_fence_array_NB(patch_length, start_seg, end_seg):\n",
    "    \"\"\" Usage: fence_array = get_fence_array(patch_length, overall_length)\n",
    "        create a left-right set of pairs that descrete overall_length into patch_length segments\n",
    "\n",
    "    Args:\n",
    "        patch_length:   patch size - number of pixels high or wide\n",
    "        patch_length:   overall number of pixels high or wide\n",
    "\n",
    "    Returns:\n",
    "        fence_array:    boundry values for each segment\n",
    "        -----------:    [[left_0, right_0],\n",
    "                         [left_1, right_1],\n",
    "                         [left_2, right_2],... ]\n",
    "    \"\"\"    \n",
    "    # Determine the array size\n",
    "    overall_length = end_seg - start_seg\n",
    "    print('overall_length:', overall_length)\n",
    "    n_fenced = np.ceil(overall_length / patch_length).astype(int)  # number of boxes\n",
    "    stride = np.floor(overall_length / n_fenced).astype(int)\n",
    "    fence_array = np.zeros((n_fenced, 2)).astype(int)\n",
    "    \n",
    "    print('stride', stride, 'n_fenced * stride', n_fenced * stride)\n",
    "    fence_array[0,0] = start_seg\n",
    "    fence_array[0,1] = start_seg + patch_length - 1\n",
    "\n",
    "    for k in range(1, fence_array.shape[0]):    \n",
    "        fence_array[k, 0] = fence_array[k-1, 0] + stride\n",
    "        fence_array[k, 1] = fence_array[k, 0] + patch_length - 1\n",
    "        \n",
    "    fence_array[k, 1] = overall_length - 1\n",
    "    fence_array[k, 0] = overall_length - patch_length\n",
    "        \n",
    "    return fence_array\n",
    "\n",
    "patch_length = 224\n",
    "remainder = 23\n",
    "overall_length = 224*12 + remainder\n",
    "start_seg = 22\n",
    "end_seg = overall_length - 211\n",
    "\n",
    "print('patch_length', patch_length, 'start_segment', start_seg, 'end_segment %i\\n'%(end_seg))\n",
    "fa = get_strided_fence_array_NB(patch_length, start_seg, end_seg)\n",
    "print('Array Size =  %i\\n'%(len(fa)))\n",
    "for f in fa:\n",
    "    print(f, '\\t%i'%(f[1] - f[0]))\n"
   ]
  },
  {
   "cell_type": "markdown",
   "metadata": {},
   "source": [
    "```sh\n",
    "# patch_length 224 overall_length 2711 remainder 23\n",
    "\n",
    "[ 12 235]\n",
    "[236 459]\n",
    "[460 683]\n",
    "[684 907]\n",
    "[ 908 1131]\n",
    "[1132 1355]\n",
    "[1356 1579]\n",
    "[1580 1803]\n",
    "[1804 2027]\n",
    "[2028 2251]\n",
    "[2252 2475]\n",
    "[2476 2699]\n",
    "```"
   ]
  },
  {
   "cell_type": "code",
   "execution_count": 48,
   "metadata": {},
   "outputs": [
    {
     "name": "stdout",
     "output_type": "stream",
     "text": [
      "patch_length 224 overall_length 2711 remainder 23\n",
      "\n",
      "Array Size =  12\n",
      "\n",
      "[ 12 235] \t223\n",
      "[236 459] \t223\n",
      "[460 683] \t223\n",
      "[684 907] \t223\n",
      "[ 908 1131] \t223\n",
      "[1132 1355] \t223\n",
      "[1356 1579] \t223\n",
      "[1580 1803] \t223\n",
      "[1804 2027] \t223\n",
      "[2028 2251] \t223\n",
      "[2252 2475] \t223\n",
      "[2476 2699] \t223\n"
     ]
    }
   ],
   "source": [
    "# patch_length 224 overall_length 2711 remainder 23\n",
    "\n",
    "def get_fence_array_NB(patch_length, overall_length):\n",
    "    \"\"\" Usage: fence_array = get_fence_array(patch_length, overall_length)\n",
    "        create a left-right set of pairs that descrete overall_length into patch_length segments\n",
    "\n",
    "    Args:\n",
    "        patch_length:   patch size - number of pixels high or wide\n",
    "        patch_length:   overall number of pixels high or wide\n",
    "\n",
    "    Returns:\n",
    "        fence_array:    boundry values for each segment\n",
    "        -----------:    [[left_0, right_0],\n",
    "                         [left_1, right_1],\n",
    "                         [left_2, right_2],... ]\n",
    "    \"\"\"\n",
    "    # Determine the array size\n",
    "    n_fenced = overall_length // patch_length  # number of boxes\n",
    "    n_remain = 1 + overall_length % patch_length  # number of pixels leftover\n",
    "    paddit = n_remain // 2  # padding for the beginning\n",
    "\n",
    "    if n_remain == patch_length:  # exact fit special case: exactly one left over\n",
    "        paddit = 0\n",
    "        n_fenced = n_fenced + 1\n",
    "\n",
    "    # Allocate as integers for use as indices\n",
    "    fence_array = np.zeros((n_fenced, 2)).astype(int)\n",
    "    for k in range(n_fenced):\n",
    "        # for each box edge, get the beginning and end pixel location\n",
    "        if k == 0:\n",
    "            # first case special (padding)\n",
    "            fence_array[k, 0] = paddit\n",
    "            # add the width to it\n",
    "            fence_array[k, 1] = fence_array[k, 0] + patch_length - 1\n",
    "\n",
    "        elif fence_array[k - 1, 1] + patch_length <= overall_length:\n",
    "            # Previous right pixel plus one\n",
    "            fence_array[k, 0] = fence_array[k - 1, 1] + 1\n",
    "            # add the width to it\n",
    "            fence_array[k, 1] = fence_array[k, 0] + patch_length - 1\n",
    "\n",
    "    return fence_array\n",
    "\n",
    "print('patch_length', patch_length, 'overall_length', overall_length, 'remainder %i\\n'%(remainder))\n",
    "fa_old = get_fence_array_NB(patch_length, overall_length)\n",
    "print('Array Size =  %i\\n'%(len(fa_old)))\n",
    "for f0 in fa_old:\n",
    "    print(f0, '\\t%i'%(f0[1] - f0[0]))\n"
   ]
  },
  {
   "cell_type": "code",
   "execution_count": null,
   "metadata": {},
   "outputs": [],
   "source": []
  }
 ],
 "metadata": {
  "kernelspec": {
   "display_name": "Python 3",
   "language": "python",
   "name": "python3"
  },
  "language_info": {
   "codemirror_mode": {
    "name": "ipython",
    "version": 3
   },
   "file_extension": ".py",
   "mimetype": "text/x-python",
   "name": "python",
   "nbconvert_exporter": "python",
   "pygments_lexer": "ipython3",
   "version": "3.7.3"
  }
 },
 "nbformat": 4,
 "nbformat_minor": 2
}
