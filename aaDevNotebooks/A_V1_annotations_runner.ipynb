{
 "cells": [
  {
   "cell_type": "code",
   "execution_count": 1,
   "metadata": {},
   "outputs": [],
   "source": [
    "%matplotlib inline"
   ]
  },
  {
   "cell_type": "code",
   "execution_count": 2,
   "metadata": {},
   "outputs": [],
   "source": [
    "import os\n",
    "import sys\n",
    "import time\n",
    "import json\n",
    "\n",
    "import numpy as np\n",
    "import pandas as pd\n",
    "\n",
    "py_src_code_dir = '../src/python'\n",
    "sys.path.insert(0, py_src_code_dir)\n",
    "from digipath_toolkit import run_annotated_patches\n",
    "\n",
    "data_dir = '../../DigiPath_MLTK_data'\n",
    "zip_tank = '../../DigiPath_MLTK_data/zipTank/wsi_annotation_sample/'\n",
    "xml_name = os.path.join(zip_tank, 'e39a8d60a56844d695e9579bce8f0335.xml')\n",
    "c_lab_id_fn = os.path.join(zip_tank, 'class_label_id.csv')\n",
    "\n",
    "im_dir = '../../DigiPath_MLTK_data/RegistrationDevData'\n",
    "im_file = 'e39a8d60a56844d695e9579bce8f0335.tiff'\n",
    "image_file_name = os.path.join(im_dir, im_file)"
   ]
  },
  {
   "cell_type": "code",
   "execution_count": 3,
   "metadata": {},
   "outputs": [],
   "source": [
    "data_dir = '../../DigiPath_MLTK_data'\n",
    "output_dir = '../../DigiPath_MLTK_data/annotation_test/results'\n",
    "if os.path.isdir(output_dir) == False:\n",
    "    os.makedirs(output_dir)\n",
    "\n",
    "wsi_file = 'RegistrationDevData/e39a8d60a56844d695e9579bce8f0335.tiff'\n",
    "wsi_file = os.path.join(data_dir, wsi_file)\n",
    "# class_label_id.csv >> class_label_id_test.csv\n",
    "csv_file = 'wsi_annotation_sample/class_label_id_test.csv'\n",
    "csv_file = os.path.join(data_dir, csv_file)\n",
    "xml_file = 'wsi_annotation_sample/e39a8d60a56844d695e9579bce8f0335.xml'\n",
    "xml_file = os.path.join(data_dir, xml_file)\n",
    "\n",
    "run_parameters = {'method': 'annotations_to_dir', \n",
    "                  'output_dir': output_dir,\n",
    "                  'wsi_filename': wsi_file, \n",
    "                  'csv_file_name': csv_file,\n",
    "                  'xml_file_name': xml_file,\n",
    "                  'thumbnail_divisor': 56, \n",
    "                  'patch_stride_fraction': 1.0, \n",
    "                  'image_level': 0,  \n",
    "                  'patch_height': 224, \n",
    "                  'patch_width': 224, \n",
    "                  'threshold': 0, \n",
    "                  'patch_select_method': 'threshold_rgb2lab', \n",
    "                  'rgb2lab_threshold': 80}\n",
    "\n",
    "run_parameters['image_level'] = 4\n",
    "run_parameters['method'] = 'annotations_to_tfrecord'\n",
    "\n",
    "run_annotated_patches(run_parameters)"
   ]
  },
  {
   "cell_type": "code",
   "execution_count": 6,
   "metadata": {},
   "outputs": [
    {
     "name": "stdout",
     "output_type": "stream",
     "text": [
      "method :         annotations_to_tfrecord\n",
      "output_dir :         ../../DigiPath_MLTK_data/annotation_test/results\n",
      "wsi_filename :         ../../DigiPath_MLTK_data/RegistrationDevData/e39a8d60a56844d695e9579bce8f0335.tiff\n",
      "csv_file_name :         ../../DigiPath_MLTK_data/wsi_annotation_sample/class_label_id_test.csv\n",
      "xml_file_name :         ../../DigiPath_MLTK_data/wsi_annotation_sample/e39a8d60a56844d695e9579bce8f0335.xml\n",
      "thumbnail_divisor :         56\n",
      "patch_stride_fraction :         1.0\n",
      "image_level :         4\n",
      "patch_height :         224\n",
      "patch_width :         224\n",
      "threshold :         0\n",
      "patch_select_method :         threshold_rgb2lab\n",
      "rgb2lab_threshold :         80\n"
     ]
    }
   ],
   "source": [
    "for k, v in run_parameters.items():\n",
    "    print(k, ':        ', v)"
   ]
  },
  {
   "cell_type": "code",
   "execution_count": 9,
   "metadata": {},
   "outputs": [
    {
     "data": {
      "text/plain": [
       "['write_mask_previews.yml',\n",
       " 'registration_tfrecord_to_masked_thumb.yml',\n",
       " 'annotations_to_tfrecord.yml',\n",
       " 'wsi_file_to_patches_dir.yml',\n",
       " 'registration_pairs_to_dir.yml',\n",
       " 'image_files_to_tfrecord.yml',\n",
       " 'registration_pairs_to_tfrecord.yml',\n",
       " 'tfrecord_to_masked_thumb.yml',\n",
       " 'annotations_to_dir.yml']"
      ]
     },
     "execution_count": 9,
     "metadata": {},
     "output_type": "execute_result"
    }
   ],
   "source": [
    "run_files_dir = '../data/run_files'\n",
    "os.listdir(run_files_dir)"
   ]
  },
  {
   "cell_type": "code",
   "execution_count": 12,
   "metadata": {},
   "outputs": [
    {
     "name": "stdout",
     "output_type": "stream",
     "text": [
      "Overwriting ../data/run_files/annotations_to_tfrecord.yml\n"
     ]
    }
   ],
   "source": [
    "%%writefile ../data/run_files/annotations_to_tfrecord.yml\n",
    "\n",
    "method:                   annotations_to_tfrecord\n",
    "    \n",
    "output_dir:               ../../run_dir/results\n",
    "    \n",
    "wsi_filename:             ../../DigiPath_MLTK_data/RegistrationDevData/e39a8d60a56844d695e9579bce8f0335.tiff\n",
    "csv_file_name:            ../../DigiPath_MLTK_data/wsi_annotation_sample/class_label_id_test.csv\n",
    "xml_file_name:            ../../DigiPath_MLTK_data/wsi_annotation_sample/e39a8d60a56844d695e9579bce8f0335.xml\n",
    "    \n",
    "thumbnail_divisor:        56\n",
    "patch_stride_fraction:    1.0\n",
    "image_level:              4\n",
    "    \n",
    "patch_height:             224\n",
    "patch_width:              224\n",
    "    \n",
    "threshold:                0\n",
    "patch_select_method:      threshold_rgb2lab\n",
    "rgb2lab_threshold:        80"
   ]
  },
  {
   "cell_type": "code",
   "execution_count": null,
   "metadata": {},
   "outputs": [],
   "source": []
  },
  {
   "cell_type": "code",
   "execution_count": null,
   "metadata": {},
   "outputs": [],
   "source": []
  },
  {
   "cell_type": "code",
   "execution_count": null,
   "metadata": {},
   "outputs": [],
   "source": []
  },
  {
   "cell_type": "code",
   "execution_count": null,
   "metadata": {},
   "outputs": [],
   "source": []
  },
  {
   "cell_type": "code",
   "execution_count": null,
   "metadata": {},
   "outputs": [],
   "source": []
  },
  {
   "cell_type": "markdown",
   "metadata": {},
   "source": [
    "```text\n",
    "# %load ../../DigiPath_MLTK_data/wsi_annotation_sample/class_label_id_test.csv\n",
    "Label,ID,Priority\n",
    "null,0,4\n",
    "fat,1,1\n",
    "lymph,2,2\n",
    "Region,3,3\n",
    "malignant,4,5\n",
    "offset,5,7\n",
    "ink,6,6\n",
    "normal,7,0\n",
    "```"
   ]
  }
 ],
 "metadata": {
  "kernelspec": {
   "display_name": "Python 3",
   "language": "python",
   "name": "python3"
  },
  "language_info": {
   "codemirror_mode": {
    "name": "ipython",
    "version": 3
   },
   "file_extension": ".py",
   "mimetype": "text/x-python",
   "name": "python",
   "nbconvert_exporter": "python",
   "pygments_lexer": "ipython3",
   "version": "3.7.3"
  }
 },
 "nbformat": 4,
 "nbformat_minor": 2
}
