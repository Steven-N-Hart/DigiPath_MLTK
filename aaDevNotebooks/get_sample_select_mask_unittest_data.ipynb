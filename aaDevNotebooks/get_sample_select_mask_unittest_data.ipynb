{
 "cells": [
  {
   "cell_type": "markdown",
   "metadata": {},
   "source": [
    "# Unit test data\n",
    "## Create small image for function test\n",
    "```python\n",
    "ff = os.path.join(im_dir, full_im)\n",
    "os_obj = openslide.OpenSlide(ff)\n",
    "print(os_obj.dimensions)\n",
    "small_im = os_obj.associated_images['thumbnail']\n",
    "print(small_im.size)\n",
    "small_im_name = 'CMU-1-small_im.png'\n",
    "small_im_full_name = os.path.join(im_dir, small_im_name)\n",
    "small_im.save(small_im_full_name)\n",
    "```\n",
    "(2220, 2967) <br>\n",
    "(574, 768) <br>\n",
    "****\n",
    "## Test: *get_sample_selection_mask(small_im, patch_select_method)*\n"
   ]
  },
  {
   "cell_type": "code",
   "execution_count": 1,
   "metadata": {},
   "outputs": [
    {
     "data": {
      "text/plain": [
       "['threshold_rgb2lab_mask.png',\n",
       " 'threshold_otsu_mask.tif',\n",
       " '.DS_Store',\n",
       " 'threshold_otsu_mask.png',\n",
       " 'threshold_rgb2lab_mask.tif',\n",
       " 'CMU-1-small_im.png',\n",
       " 'CMU-1-small_im.tif',\n",
       " 'CMU-1-Small-Region.svs']"
      ]
     },
     "execution_count": 1,
     "metadata": {},
     "output_type": "execute_result"
    }
   ],
   "source": [
    "def get_sample_selection_mask(small_im, patch_select_method):\n",
    "    \"\"\" get an image mask \"\"\"\n",
    "    mask_im = None\n",
    "    \n",
    "    if patch_select_method == 'threshold_rgb2lab':\n",
    "        thresh = 80\n",
    "        np_img = np.array(small_im.convert('RGB'))\n",
    "        np_img = rgb2lab(np_img)\n",
    "        np_img = np_img[:,:,0]\n",
    "        mask_im = np.array(np_img) < thresh\n",
    "        mask_im = PIL.Image.fromarray(np.uint8(mask_im) * 255)\n",
    "        \n",
    "    elif patch_select_method == 'threshold_otsu':\n",
    "        grey_thumbnail = np.array(small_im.convert('L'))\n",
    "        thresh = threshold_otsu(grey_thumbnail)\n",
    "        mask_im = np.array(grey_thumbnail) < thresh\n",
    "        mask_im = PIL.Image.fromarray(np.uint8(mask_im) * 255)\n",
    "\n",
    "    else:\n",
    "        print('patch_select_method %s not implemented'%(patch_select_method))\n",
    "\n",
    "    return mask_im\n",
    "\n",
    "\n",
    "\"\"\"\n",
    "                define & import, set-check the input OpenSlide file\n",
    "\"\"\"\n",
    "\n",
    "import os\n",
    "\n",
    "import numpy as np\n",
    "\n",
    "from skimage.filters import threshold_otsu\n",
    "from skimage.color import rgb2lab\n",
    "import openslide\n",
    "\n",
    "import PIL\n",
    "\n",
    "im_dir = '../data/images/'\n",
    "full_im = 'CMU-1-Small-Region.svs'\n",
    "full_im_name = os.path.join(im_dir, full_im)\n",
    "os.listdir(im_dir)"
   ]
  },
  {
   "cell_type": "code",
   "execution_count": null,
   "metadata": {},
   "outputs": [],
   "source": [
    "\"\"\"\n",
    "                    open the OpenSlide file, get the associated image called 'thumbnail'\n",
    "\"\"\"\n",
    "os_obj = openslide.OpenSlide(full_im_name)\n",
    "small_im = os_obj.associated_images['thumbnail']\n",
    "print((type(small_im), small_im.size))\n",
    "os_obj.close()\n",
    "\n",
    "os.listdir(im_dir)"
   ]
  },
  {
   "cell_type": "markdown",
   "metadata": {},
   "source": [
    "## Make and write the input thumbnail & mask result images"
   ]
  },
  {
   "cell_type": "code",
   "execution_count": null,
   "metadata": {},
   "outputs": [],
   "source": [
    "\"\"\"\n",
    "                    process and write the result images,\n",
    "                    delete the image to set test condition\n",
    "                    \n",
    "\"\"\"\n",
    "#                                           Write the thumbnail input image\n",
    "small_im_name = 'CMU-1-small_im.png'\n",
    "small_im_full_name = os.path.join(im_dir, small_im_name)\n",
    "small_im.save(small_im_full_name)\n",
    "\n",
    "patch_select_method_list = ['threshold_rgb2lab', 'threshold_otsu']\n",
    "\n",
    "#                                           Write the otsu mask\n",
    "otsu_mask_name = os.path.join(im_dir, 'threshold_otsu_mask.tif')\n",
    "mask_otsu = get_sample_selection_mask(small_im, patch_select_method_list[1])\n",
    "mask_otsu.save(otsu_mask_name)\n",
    "\n",
    "#                                           Write the rgb mask\n",
    "rgb_mask_name = os.path.join(im_dir, 'threshold_rgb2lab_mask.tif')\n",
    "mask_rgb = get_sample_selection_mask(small_im, patch_select_method_list[0])\n",
    "mask_rgb.save(rgb_mask_name)\n",
    "\n",
    "del small_im\n",
    "\n",
    "os.listdir(im_dir)"
   ]
  },
  {
   "cell_type": "markdown",
   "metadata": {},
   "source": [
    "## test: *get_sample_selection_mask(small_im, patch_select_method)*\n",
    "### Setup the test"
   ]
  },
  {
   "cell_type": "code",
   "execution_count": 3,
   "metadata": {},
   "outputs": [],
   "source": [
    "patch_select_method_list = ['threshold_rgb2lab', 'threshold_otsu']\n",
    "\n",
    "small_im_name = 'CMU-1-small_im.tif'\n",
    "small_im_full_name = os.path.join(im_dir, small_im_name)\n",
    "small_im = PIL.Image.open(small_im_full_name)\n",
    "\n",
    "otsu_mask_name = os.path.join(im_dir, 'threshold_otsu_mask.tif')\n",
    "mask_otsu = get_sample_selection_mask(small_im, patch_select_method_list[1])\n",
    "otsu_mask_truth = PIL.Image.open(otsu_mask_name)\n",
    "\n",
    "rgb_mask_name = os.path.join(im_dir, 'threshold_rgb2lab_mask.tif')\n",
    "mask_rgb = get_sample_selection_mask(small_im, patch_select_method_list[0])\n",
    "rgb_mask_truth = PIL.Image.open(rgb_mask_name)"
   ]
  },
  {
   "cell_type": "markdown",
   "metadata": {},
   "source": [
    "## Call each method with the opened input"
   ]
  },
  {
   "cell_type": "code",
   "execution_count": 8,
   "metadata": {},
   "outputs": [
    {
     "name": "stdout",
     "output_type": "stream",
     "text": [
      "size otsu_truth_arr: (768, 574) \n",
      "size otsu_funct_arr: (768, 574)\n",
      "difference = 0 \n",
      "\n",
      "\n",
      "size rgb_truth_arr: (768, 574) \n",
      "size rgb_funct_arr: (768, 574)\n",
      "difference = 0\n"
     ]
    }
   ],
   "source": [
    "mask_otsu = get_sample_selection_mask(small_im, patch_select_method_list[1])\n",
    "\n",
    "# convert to arrays for comparison\n",
    "otsu_truth_arr = np.array(otsu_mask_truth)\n",
    "otsu_funct_arr = np.array(mask_otsu)\n",
    "\n",
    "# compare sizes\n",
    "print('size otsu_truth_arr:', otsu_truth_arr.shape, '\\nsize otsu_funct_arr:', otsu_funct_arr.shape)\n",
    "# show the sum of the numerical difference \n",
    "print('difference =', (otsu_truth_arr - otsu_funct_arr).sum(), '\\n\\n')\n",
    "\n",
    "\n",
    "mask_rgb = get_sample_selection_mask(small_im, patch_select_method_list[0])\n",
    "\n",
    "# convert to arrays for comparison\n",
    "rgb_truth_arr = np.array(rgb_mask_truth)\n",
    "rgb_funct_arr = np.array(mask_rgb)\n",
    "\n",
    "# compare sizes\n",
    "print('size rgb_truth_arr:', rgb_truth_arr.shape, '\\nsize rgb_funct_arr:', rgb_funct_arr.shape)\n",
    "# show the sum of the numerical difference \n",
    "print('difference =', (rgb_truth_arr - rgb_funct_arr).sum())"
   ]
  },
  {
   "cell_type": "code",
   "execution_count": null,
   "metadata": {},
   "outputs": [],
   "source": [
    "#                                   delete the images as in unittest:\n",
    "del mask_otsu\n",
    "del mask_rgb\n",
    "del small_im\n",
    "del rgb_mask_truth\n",
    "del otsu_mask_truth\n",
    "\n",
    "#                                   delete the arrays\n",
    "del otsu_truth_arr\n",
    "del otsu_funct_arr\n",
    "del rgb_truth_arr\n",
    "del rgb_funct_arr"
   ]
  },
  {
   "cell_type": "code",
   "execution_count": null,
   "metadata": {},
   "outputs": [],
   "source": [
    "\"\"\"\n",
    "                                    Check namespace remainder\n",
    "\"\"\"\n",
    "%whos"
   ]
  },
  {
   "cell_type": "code",
   "execution_count": null,
   "metadata": {},
   "outputs": [],
   "source": []
  }
 ],
 "metadata": {
  "kernelspec": {
   "display_name": "Python 3",
   "language": "python",
   "name": "python3"
  },
  "language_info": {
   "codemirror_mode": {
    "name": "ipython",
    "version": 3
   },
   "file_extension": ".py",
   "mimetype": "text/x-python",
   "name": "python",
   "nbconvert_exporter": "python",
   "pygments_lexer": "ipython3",
   "version": "3.7.3"
  }
 },
 "nbformat": 4,
 "nbformat_minor": 2
}
