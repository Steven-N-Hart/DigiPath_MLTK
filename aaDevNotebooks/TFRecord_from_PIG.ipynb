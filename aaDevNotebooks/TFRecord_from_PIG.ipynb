{
 "cells": [
  {
   "cell_type": "markdown",
   "metadata": {},
   "source": [
    "# Use image generator to feed tfrecord\n",
    "[tensorflow Images](https://tensorflow.org/api_guides/python/image) <br>\n",
    "```python\n",
    "im_gen_obj = PatchImageGenerator()\n",
    "patch_image = im_gen_obj.next_patch()\n",
    "```\n",
    "****\n",
    "### Fix and test:\n",
    "* digipath_mltk.py & or digipath_toolkit.py\n",
    "    * err-parameters checking"
   ]
  },
  {
   "cell_type": "code",
   "execution_count": 8,
   "metadata": {},
   "outputs": [],
   "source": [
    "import time\n",
    "nb_start_time = time.time()\n",
    "\n",
    "import os\n",
    "import tempfile\n",
    "import sys\n",
    "\n",
    "from collections import OrderedDict\n",
    "import argparse\n",
    "\n",
    "import tensorflow as tf\n",
    "from tensorflow import io as tf_io\n",
    "\n",
    "import numpy as np\n",
    "import pandas as pd\n",
    "import yaml\n",
    "\n",
    "from skimage.filters import threshold_otsu\n",
    "from skimage.color import rgb2lab\n",
    "\n",
    "from PIL import ImageDraw\n",
    "from PIL import TiffImagePlugin as tip\n",
    "\n",
    "import IPython.display as ip_display\n",
    "\n",
    "import openslide\n",
    "\n",
    "sys.path.insert(0, '../src/python')\n",
    "from digipath_toolkit import *"
   ]
  },
  {
   "cell_type": "code",
   "execution_count": 2,
   "metadata": {},
   "outputs": [],
   "source": [
    "\"\"\"\n",
    "            copy - import from src/python/openslide_2_tfrecord.py\n",
    "\"\"\"\n",
    "\n",
    "def _bytes_feature(value):\n",
    "    \"\"\"Returns a bytes_list from a string / byte.\"\"\"\n",
    "    return tf.train.Feature(bytes_list=tf.train.BytesList(value=[value]))\n",
    "\n",
    "\n",
    "def _float_feature(value):\n",
    "    \"\"\"Returns a float_list from a float / double.\"\"\"\n",
    "    return tf.train.Feature(float_list=tf.train.FloatList(value=[value]))\n",
    "\n",
    "\n",
    "def _int64_feature(value):\n",
    "    \"\"\"Returns an int64_list from a bool / enum / int / uint.\"\"\"\n",
    "    return tf.train.Feature(int64_list=tf.train.Int64List(value=[value]))\n",
    "\n",
    "\n",
    "# def image_patch(image_string, label, ulc_row, ulc_col, lrc_row, lrc_col, image_name='patch'):\n",
    "#     \"\"\" image_metadat_dict = image_example(image_string, label, image_name)\n",
    "#     Create a dictionary of jpg image features\n",
    "#     Args:\n",
    "#         image_string:  bytes(PIL_image)\n",
    "#         label:         a number\n",
    "#         image_name:    bytes(image_name)\n",
    "#     Returns:\n",
    "#         one_tf_train_example: tf.train.Example \n",
    "#     \"\"\"\n",
    "#     image_shape = tf.image.decode_jpeg(image_string).shape\n",
    "#     feature = {'height': _int64_feature(image_shape[0]),\n",
    "#                'width': _int64_feature(image_shape[1]),\n",
    "#                'depth': _int64_feature(image_shape[2]),\n",
    "#                'ulc_row': _int64_feature(ulc_row),\n",
    "#                'ulc_col': _int64_feature(ulc_col),\n",
    "#                'lrc_row': _int64_feature(lrc_row),\n",
    "#                'lrc_col': _int64_feature(lrc_col),\n",
    "#                'label': _int64_feature(label), \n",
    "#                'image_name': _bytes_feature(image_name),\n",
    "#                'image_raw': _bytes_feature(image_string) }\n",
    "\n",
    "#     return tf.train.Example(features=tf.train.Features(feature=feature))\n",
    "\n",
    "def tf_imp_dict(image_string, label, image_name='patch'):\n",
    "    image_shape = tf.image.decode_jpeg(image_string).shape\n",
    "    feature = {'height': _int64_feature(image_shape[0]),\n",
    "               'width': _int64_feature(image_shape[1]),\n",
    "               'depth': _int64_feature(image_shape[2]),\n",
    "               'label': _int64_feature(label), \n",
    "               'image_name': _bytes_feature(image_name),\n",
    "               'image_raw': _bytes_feature(image_string) }\n",
    "\n",
    "    return tf.train.Example(features=tf.train.Features(feature=feature))\n",
    "\n",
    "def _parse_tf_imp_dict(example_proto):\n",
    "    image_feature_description = {\n",
    "        'height': tf.io.FixedLenFeature([], tf.int64),\n",
    "        'width': tf.io.FixedLenFeature([], tf.int64),\n",
    "        'depth': tf.io.FixedLenFeature([], tf.int64),\n",
    "        'label': tf.io.FixedLenFeature([], tf.int64),\n",
    "        'image_name': tf.io.FixedLenFeature([], tf.string),\n",
    "        'image_raw': tf.io.FixedLenFeature([], tf.string) }\n",
    "\n",
    "    return tf.io.parse_single_example(example_proto, image_feature_description)\n",
    "\n",
    "\n",
    "# def _parse_image_patch_function(example_proto):\n",
    "#     \"\"\" reader for image_example() encoded as tfrecord file \n",
    "#         usage:\n",
    "#     parsed_image_dataset = tf.data.TFRecordDataset(tfrecord_name).map(_parse_image_function)\n",
    "    \n",
    "#     Args: \n",
    "#         example_proto:\n",
    "        \n",
    "#     Returns:\n",
    "#         iterable_tfrecord:   try iterable_tfrecord.__iter__()\n",
    "#     \"\"\"\n",
    "#     image_feature_description = {\n",
    "#         'height': tf.io.FixedLenFeature([], tf.int64),\n",
    "#         'width': tf.io.FixedLenFeature([], tf.int64),\n",
    "#         'depth': tf.io.FixedLenFeature([], tf.int64),\n",
    "#         'ulc_row': tf.io.FixedLenFeature([], tf.int64),\n",
    "#         'ulc_col': tf.io.FixedLenFeature([], tf.int64),\n",
    "#         'lrc_row': tf.io.FixedLenFeature([], tf.int64),\n",
    "#         'lrc_col': tf.io.FixedLenFeature([], tf.int64),\n",
    "#         'label': tf.io.FixedLenFeature([], tf.int64),\n",
    "#         'image_name': tf.io.FixedLenFeature([], tf.string),\n",
    "#         'image_raw': tf.io.FixedLenFeature([], tf.string) }\n",
    "\n",
    "#     return tf.io.parse_single_example(example_proto, image_feature_description)\n",
    "\n",
    "\n",
    "def get_iterable_tfrecord(tfr_name):\n",
    "    \"\"\" usage:\n",
    "    iterable_tfrecord = get_iterable_tfrecord(tfr_name)\n",
    "    \n",
    "    Args:\n",
    "        tfr_name:   tensorflow data TFRecord file\n",
    "        \n",
    "    Returns:\n",
    "        TFRecordDataset_map_object:  tf.data.TFRecordDataset().map()\n",
    "        _parse_tf_imp_dict\n",
    "    \"\"\"\n",
    "    #     return tf.data.TFRecordDataset(tfr_name).map(_parse_image_patch_function)\n",
    "    return tf.data.TFRecordDataset(tfr_name).map(_parse_tf_imp_dict)\n"
   ]
  },
  {
   "cell_type": "code",
   "execution_count": null,
   "metadata": {},
   "outputs": [],
   "source": []
  },
  {
   "cell_type": "code",
   "execution_count": 3,
   "metadata": {},
   "outputs": [
    {
     "name": "stdout",
     "output_type": "stream",
     "text": [
      "  0         CMU-1-Small-Region.svs: 1938955\n",
      "  1               JP2K-33003-1.svs: 63847265\n",
      "  2           CMU-1-JP2K-33005.svs: 132565343\n",
      "  3                      CMU-1.svs: 177552579\n",
      "  4                      CMU-3.svs: 253815723\n",
      "  5               JP2K-33003-2.svs: 289250433\n",
      "  6                      CMU-2.svs: 390750635\n"
     ]
    }
   ],
   "source": [
    "COMMON_THUMBNAIL_DIVISOR = 20\n",
    "\n",
    "data_dir = '../../DigiPath_MLTK_data/Aperio'\n",
    "file_type_list=['.svs', '.tif', '.tiff']\n",
    "fs_od = get_file_size_ordered_dict(data_dir, file_type_list)\n",
    "list_number = 0\n",
    "for k, v in fs_od.items():\n",
    "    print('%3i %30s: %i'%(list_number, k,v))\n",
    "    list_number += 1"
   ]
  },
  {
   "cell_type": "code",
   "execution_count": 5,
   "metadata": {},
   "outputs": [
    {
     "name": "stdout",
     "output_type": "stream",
     "text": [
      "Image File:\n",
      " ../../DigiPath_MLTK_data/Aperio/CMU-1.svs\n",
      "             wsi_filename: ../../DigiPath_MLTK_data/Aperio/CMU-1.svs\n",
      "        thumbnail_divisor: 20\n",
      "      patch_select_method: threshold_otsu\n",
      "             patch_height: 224\n",
      "              patch_width: 224\n",
      "                threshold: 0\n",
      "              image_level: 2\n",
      "              class_label: class_label_test_str\n",
      "               output_dir: ../../run_dir/tfrecord_result\n"
     ]
    }
   ],
   "source": [
    "data_dir = '../../DigiPath_MLTK_data/Aperio'\n",
    "image_file_name = 'CMU-1.svs'\n",
    "\n",
    "run_parameters = dict()\n",
    "\n",
    "run_parameters['wsi_filename'] = os.path.join(data_dir, image_file_name)\n",
    "print('Image File:\\n', run_parameters['wsi_filename'])\n",
    "\n",
    "run_parameters['thumbnail_divisor'] = COMMON_THUMBNAIL_DIVISOR\n",
    "run_parameters['patch_select_method'] = 'threshold_otsu' # 'threshold_rgb2lab'\n",
    "run_parameters['patch_height'] = 224\n",
    "run_parameters['patch_width'] = 224\n",
    "run_parameters['threshold'] = 0\n",
    "run_parameters['image_level'] = 2\n",
    "\n",
    "run_parameters['class_label'] = 'class_label_test_str'\n",
    "run_parameters['output_dir'] = '../../run_dir/tfrecord_result'\n",
    "            \n",
    "# patch_generator = PatchImageGenerator(run_parameters)\n",
    "for k, v in run_parameters.items():\n",
    "    print('%25s: %s'%(k,v))"
   ]
  },
  {
   "cell_type": "code",
   "execution_count": 6,
   "metadata": {},
   "outputs": [
    {
     "name": "stdout",
     "output_type": "stream",
     "text": [
      "Iteration Stopped by Image Generator Signal: StopIteration\n",
      "46\n"
     ]
    }
   ],
   "source": [
    "\"\"\"\n",
    "                optimistic first try\n",
    "\"\"\"\n",
    "_, file_name_base = os.path.split(run_parameters['wsi_filename'])\n",
    "file_name_base, _ = os.path.splitext(file_name_base)\n",
    "\n",
    "h = run_parameters['patch_height']\n",
    "w = run_parameters['patch_width']\n",
    "class_label = run_parameters['class_label']\n",
    "output_dir = run_parameters['output_dir']\n",
    "\n",
    "file_ext = ''\n",
    "\n",
    "if os.path.isdir(output_dir) == False:\n",
    "    os.makedirs(output_dir)\n",
    "    print('created new dir:',output_dir)\n",
    "\n",
    "tfrecord_file_name = file_name_base + '.tfrecords'\n",
    "tfrecord_file_name = os.path.join(output_dir, tfrecord_file_name)\n",
    "\n",
    "patch_image_name_dict = {'case_id': file_name_base, 'class_label': class_label, 'file_ext': file_ext}\n",
    "\n",
    "patch_generator = PatchImageGenerator(run_parameters)\n",
    "with tf_io.TFRecordWriter(tfrecord_file_name) as writer:\n",
    "    seq_number = 0\n",
    "    while True:\n",
    "        try:\n",
    "            patch_dict = patch_generator.next_patch()\n",
    "            x = patch_dict['image_level_x']\n",
    "            y = patch_dict['image_level_y']\n",
    "            patch_image_name_dict['location_x'] = x\n",
    "            patch_image_name_dict['location_y'] = y\n",
    "            patch_name = dict_to_patch_name(patch_image_name_dict)\n",
    "            \n",
    "            image_string = patch_dict['patch_image'].convert('RGB')\n",
    "            \n",
    "            tmp = tempfile.NamedTemporaryFile(delete=False, suffix='.jpg')\n",
    "            try:\n",
    "                image_string.save(tmp.name)\n",
    "                image_string = open(tmp.name, 'rb').read()\n",
    "            finally:\n",
    "                os.unlink(tmp.name)\n",
    "                tmp.close()\n",
    "\n",
    "            tf_example_obj = tf_imp_dict(image_string,\n",
    "                                         label=seq_number,\n",
    "                                         image_name=bytes(patch_name,'utf8') )\n",
    "\n",
    "            writer.write(tf_example_obj.SerializeToString())\n",
    "            seq_number += 1\n",
    "        except StopIteration:\n",
    "            print('Iteration Stopped by Image Generator Signal: StopIteration')\n",
    "            break\n",
    "\n",
    "print(seq_number)"
   ]
  },
  {
   "cell_type": "code",
   "execution_count": null,
   "metadata": {},
   "outputs": [],
   "source": []
  },
  {
   "cell_type": "code",
   "execution_count": 9,
   "metadata": {},
   "outputs": [
    {
     "name": "stdout",
     "output_type": "stream",
     "text": [
      "tf.Tensor(0, shape=(), dtype=int64) tf.Tensor(b'CMU-1_1662_21_class_label_test_str', shape=(), dtype=string)\n",
      "<class 'bytes'>\n"
     ]
    },
    {
     "data": {
      "image/jpeg": "[encoded data removed]",
      "text/plain": [
       "<IPython.core.display.Image object>"
      ]
     },
     "metadata": {},
     "output_type": "display_data"
    },
    {
     "name": "stdout",
     "output_type": "stream",
     "text": [
      "tf.Tensor(1, shape=(), dtype=int64) tf.Tensor(b'CMU-1_1886_21_class_label_test_str', shape=(), dtype=string)\n",
      "<class 'bytes'>\n"
     ]
    },
    {
     "data": {
      "image/jpeg": "[encoded data removed]",
      "text/plain": [
       "<IPython.core.display.Image object>"
      ]
     },
     "metadata": {},
     "output_type": "display_data"
    },
    {
     "name": "stdout",
     "output_type": "stream",
     "text": [
      "tf.Tensor(2, shape=(), dtype=int64) tf.Tensor(b'CMU-1_2110_21_class_label_test_str', shape=(), dtype=string)\n",
      "<class 'bytes'>\n"
     ]
    },
    {
     "data": {
      "image/jpeg": "[encoded data removed]",
      "text/plain": [
       "<IPython.core.display.Image object>"
      ]
     },
     "metadata": {},
     "output_type": "display_data"
    },
    {
     "name": "stdout",
     "output_type": "stream",
     "text": [
      "tf.Tensor(3, shape=(), dtype=int64) tf.Tensor(b'CMU-1_2334_21_class_label_test_str', shape=(), dtype=string)\n",
      "<class 'bytes'>\n"
     ]
    },
    {
     "data": {
      "image/jpeg": "[encoded data removed]",
      "text/plain": [
       "<IPython.core.display.Image object>"
      ]
     },
     "metadata": {},
     "output_type": "display_data"
    },
    {
     "name": "stdout",
     "output_type": "stream",
     "text": [
      "tf.Tensor(4, shape=(), dtype=int64) tf.Tensor(b'CMU-1_1662_245_class_label_test_str', shape=(), dtype=string)\n",
      "<class 'bytes'>\n"
     ]
    },
    {
     "data": {
      "image/jpeg": "[encoded data removed]",
      "text/plain": [
       "<IPython.core.display.Image object>"
      ]
     },
     "metadata": {},
     "output_type": "display_data"
    },
    {
     "name": "stdout",
     "output_type": "stream",
     "text": [
      "tf.Tensor(5, shape=(), dtype=int64) tf.Tensor(b'CMU-1_1886_245_class_label_test_str', shape=(), dtype=string)\n",
      "<class 'bytes'>\n"
     ]
    },
    {
     "data": {
      "image/jpeg": "[encoded data removed]",
      "text/plain": [
       "<IPython.core.display.Image object>"
      ]
     },
     "metadata": {},
     "output_type": "display_data"
    },
    {
     "name": "stdout",
     "output_type": "stream",
     "text": [
      "tf.Tensor(6, shape=(), dtype=int64) tf.Tensor(b'CMU-1_2110_245_class_label_test_str', shape=(), dtype=string)\n",
      "<class 'bytes'>\n"
     ]
    },
    {
     "data": {
      "image/jpeg": "[encoded data removed]",
      "text/plain": [
       "<IPython.core.display.Image object>"
      ]
     },
     "metadata": {},
     "output_type": "display_data"
    },
    {
     "name": "stdout",
     "output_type": "stream",
     "text": [
      "tf.Tensor(7, shape=(), dtype=int64) tf.Tensor(b'CMU-1_2334_245_class_label_test_str', shape=(), dtype=string)\n",
      "<class 'bytes'>\n"
     ]
    },
    {
     "data": {
      "image/jpeg": "[encoded data removed]",
      "text/plain": [
       "<IPython.core.display.Image object>"
      ]
     },
     "metadata": {},
     "output_type": "display_data"
    },
    {
     "name": "stdout",
     "output_type": "stream",
     "text": [
      "tf.Tensor(8, shape=(), dtype=int64) tf.Tensor(b'CMU-1_2558_245_class_label_test_str', shape=(), dtype=string)\n",
      "<class 'bytes'>\n"
     ]
    },
    {
     "data": {
      "image/jpeg": "[encoded data removed]",
      "text/plain": [
       "<IPython.core.display.Image object>"
      ]
     },
     "metadata": {},
     "output_type": "display_data"
    },
    {
     "name": "stdout",
     "output_type": "stream",
     "text": [
      "tf.Tensor(9, shape=(), dtype=int64) tf.Tensor(b'CMU-1_1662_469_class_label_test_str', shape=(), dtype=string)\n",
      "<class 'bytes'>\n"
     ]
    },
    {
     "data": {
      "image/jpeg": "[encoded data removed]",
      "text/plain": [
       "<IPython.core.display.Image object>"
      ]
     },
     "metadata": {},
     "output_type": "display_data"
    }
   ],
   "source": [
    "iterable_tfrecord = get_iterable_tfrecord(tfrecord_file_name)\n",
    "\n",
    "n_to_show = 10\n",
    "for dakine in iterable_tfrecord.take(n_to_show):\n",
    "    print(dakine['label'], dakine['image_name'])\n",
    "    image_raw = dakine['image_raw'].numpy()\n",
    "    print(type(image_raw))\n",
    "    ip_display.display(ip_display.Image(data=image_raw))"
   ]
  },
  {
   "cell_type": "code",
   "execution_count": null,
   "metadata": {},
   "outputs": [],
   "source": []
  },
  {
   "cell_type": "code",
   "execution_count": null,
   "metadata": {},
   "outputs": [],
   "source": []
  },
  {
   "cell_type": "code",
   "execution_count": null,
   "metadata": {},
   "outputs": [],
   "source": []
  },
  {
   "cell_type": "code",
   "execution_count": null,
   "metadata": {},
   "outputs": [],
   "source": []
  },
  {
   "cell_type": "code",
   "execution_count": null,
   "metadata": {},
   "outputs": [],
   "source": [
    "nxt_dict = patch_generator.next_patch()\n",
    "for k in nxt_dict.keys():\n",
    "    print(k)\n",
    "    \n",
    "print('\\n# %04i, %i row, %i col'%(nxt_dict['patch_number'], nxt_dict['image_level_y'], nxt_dict['image_level_x']))\n",
    "display(nxt_dict['patch_image'])"
   ]
  },
  {
   "cell_type": "code",
   "execution_count": null,
   "metadata": {},
   "outputs": [],
   "source": [
    "patch_generator = PatchImageGenerator(run_parameters)\n",
    "print()\n",
    "patch_count = 0\n",
    "while True:\n",
    "    try:\n",
    "        #         print(G.next_patch())\n",
    "        patch_dict = patch_generator.next_patch()\n",
    "        x = patch_dict['image_level_x']\n",
    "        y = patch_dict['image_level_y']\n",
    "        print('%8i x,\\t%8i y\\tsize = '%(x, y), patch_dict['patch_image'].size)\n",
    "        #         display the image:\n",
    "        #display(patch_generator.next_patch()['patch_image'])\n",
    "        patch_count += 1\n",
    "        \n",
    "    except StopIteration:\n",
    "        print('StopIteration Exception thrown & caught')\n",
    "        break\n",
    "        \n",
    "print('patch_number:', patch_dict['patch_number'], '\\npatch_count:', patch_count)"
   ]
  },
  {
   "cell_type": "code",
   "execution_count": null,
   "metadata": {},
   "outputs": [],
   "source": [
    "help(patch_generator)"
   ]
  },
  {
   "cell_type": "code",
   "execution_count": null,
   "metadata": {},
   "outputs": [],
   "source": [
    "# import digipath_toolkit\n",
    "# help(digipath_toolkit)"
   ]
  },
  {
   "cell_type": "code",
   "execution_count": null,
   "metadata": {},
   "outputs": [],
   "source": []
  },
  {
   "cell_type": "code",
   "execution_count": null,
   "metadata": {},
   "outputs": [],
   "source": []
  },
  {
   "cell_type": "code",
   "execution_count": null,
   "metadata": {},
   "outputs": [],
   "source": []
  },
  {
   "cell_type": "code",
   "execution_count": null,
   "metadata": {},
   "outputs": [],
   "source": []
  },
  {
   "cell_type": "code",
   "execution_count": null,
   "metadata": {},
   "outputs": [],
   "source": []
  },
  {
   "cell_type": "code",
   "execution_count": null,
   "metadata": {},
   "outputs": [],
   "source": []
  },
  {
   "cell_type": "code",
   "execution_count": null,
   "metadata": {},
   "outputs": [],
   "source": []
  },
  {
   "cell_type": "code",
   "execution_count": null,
   "metadata": {},
   "outputs": [],
   "source": []
  },
  {
   "cell_type": "code",
   "execution_count": null,
   "metadata": {},
   "outputs": [],
   "source": []
  },
  {
   "cell_type": "code",
   "execution_count": null,
   "metadata": {},
   "outputs": [],
   "source": []
  },
  {
   "cell_type": "code",
   "execution_count": null,
   "metadata": {},
   "outputs": [],
   "source": []
  },
  {
   "cell_type": "code",
   "execution_count": null,
   "metadata": {},
   "outputs": [],
   "source": []
  },
  {
   "cell_type": "code",
   "execution_count": null,
   "metadata": {},
   "outputs": [],
   "source": [
    "lost_data_dir = '../../DigiPath_MLTK_data/lost_data/'\n",
    "os.listdir(lost_data_dir)"
   ]
  },
  {
   "cell_type": "code",
   "execution_count": null,
   "metadata": {},
   "outputs": [],
   "source": []
  }
 ],
 "metadata": {
  "kernelspec": {
   "display_name": "Python 3",
   "language": "python",
   "name": "python3"
  },
  "language_info": {
   "codemirror_mode": {
    "name": "ipython",
    "version": 3
   },
   "file_extension": ".py",
   "mimetype": "text/x-python",
   "name": "python",
   "nbconvert_exporter": "python",
   "pygments_lexer": "ipython3",
   "version": "3.7.3"
  }
 },
 "nbformat": 4,
 "nbformat_minor": 2
}
