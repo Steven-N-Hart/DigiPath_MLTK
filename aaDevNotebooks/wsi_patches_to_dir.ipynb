{
 "cells": [
  {
   "cell_type": "code",
   "execution_count": null,
   "metadata": {},
   "outputs": [],
   "source": [
    "import os\n",
    "from tempfile import TemporaryDirectory\n",
    "import argparse\n",
    "\n",
    "import numpy as np\n",
    "import yaml\n",
    "from skimage.filters import threshold_otsu\n",
    "from skimage.color import rgb2lab\n",
    "import openslide\n",
    "\n",
    "import PIL\n",
    "from PIL import ImageDraw\n",
    "from PIL.ImageStat import Stat\n",
    "from PIL.Image import Image\n",
    "\n",
    "import sys\n",
    "sys.path.insert(0, '../src/python')\n",
    "from digipath_toolkit import *"
   ]
  },
  {
   "cell_type": "code",
   "execution_count": null,
   "metadata": {},
   "outputs": [],
   "source": [
    "run_parameters = {}\n",
    "run_parameters['wsi_filename'] = '../data/images/CMU-1-Small-Region.svs'\n",
    "run_parameters['output_dir'] = '../../DigiPath_MLTK_data/digipath_toolkit_test'\n",
    "run_parameters['class_label'] = 'test_patch_label'\n",
    "run_parameters['thumbnail_divisor'] = 5\n",
    "run_parameters['patch_width'] = 224\n",
    "run_parameters['patch_height'] = 224\n",
    "run_parameters['patch_select_method'] = 'threshold_rgb2lab' # 'threshold_otsu'\n",
    "run_parameters['file_ext'] = '.jpg'\n",
    "\n",
    "number_images_found = image_file_to_patches_directory(run_parameters)\n",
    "print('number_images_found',number_images_found)"
   ]
  },
  {
   "cell_type": "code",
   "execution_count": null,
   "metadata": {},
   "outputs": [],
   "source": [
    "run_parameters = {}   \n",
    "run_parameters['wsi_filename'] = '../data/images/CMU-1-Small-Region.svs'\n",
    "run_parameters['thumbnail_divisor'] = 5\n",
    "run_parameters['patch_width'] = 224\n",
    "run_parameters['patch_height'] = 224\n",
    "run_parameters['patch_select_method'] = 'threshold_rgb2lab' # 'threshold_otsu'\n",
    "run_parameters['border_color'] = 'red'\n",
    "\n",
    "thmb_prvw, patch_location_array = get_patch_locations_preview_image(run_parameters)\n",
    "print('%6i patches'%(len(patch_location_array)))\n",
    "display(thmb_prvw)"
   ]
  },
  {
   "cell_type": "code",
   "execution_count": null,
   "metadata": {},
   "outputs": [],
   "source": [
    "run_parameters['patch_select_method'] = 'threshold_otsu' # 'threshold_rgb2lab'\n",
    "run_parameters['border_color'] = 'blue'\n",
    "\n",
    "thmb_prvw, patch_location_array = get_patch_locations_preview_image(run_parameters)\n",
    "print('%6i patches'%(len(patch_location_array)))\n",
    "\n",
    "display(thmb_prvw)"
   ]
  },
  {
   "cell_type": "code",
   "execution_count": null,
   "metadata": {},
   "outputs": [],
   "source": []
  }
 ],
 "metadata": {
  "kernelspec": {
   "display_name": "Python 3",
   "language": "python",
   "name": "python3"
  },
  "language_info": {
   "codemirror_mode": {
    "name": "ipython",
    "version": 3
   },
   "file_extension": ".py",
   "mimetype": "text/x-python",
   "name": "python",
   "nbconvert_exporter": "python",
   "pygments_lexer": "ipython3",
   "version": "3.7.3"
  }
 },
 "nbformat": 4,
 "nbformat_minor": 2
}
