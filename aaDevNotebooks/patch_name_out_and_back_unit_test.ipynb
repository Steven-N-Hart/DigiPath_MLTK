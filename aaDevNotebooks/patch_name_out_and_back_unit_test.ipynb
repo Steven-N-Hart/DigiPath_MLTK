{
 "cells": [
  {
   "cell_type": "markdown",
   "metadata": {},
   "source": [
    "# Refactor module & rename: *svs_file_to_patches_tfrecord(...)*\n",
    "## Patch Names as encoding of Class, location and label\n",
    "\n",
    "<img src='./images/file_name_coding.png' />"
   ]
  },
  {
   "cell_type": "markdown",
   "metadata": {},
   "source": [
    "```python\n",
    "patch_image_name_dict_0 = {'case_id': 'd83cc7d1c94', \n",
    "                         'location_x': 100, \n",
    "                         'location_y': 340, \n",
    "                         'class_label': 'dermis', \n",
    "                         'file_type': '.jpg'}\n",
    "\n",
    "patch_image_name_dict_1 = {'case_id': 'd83cc7d1c94', \n",
    "                         'location_x': 200, \n",
    "                         'location_y': 440, \n",
    "                         'class_label': 'dermis', \n",
    "                         'file_type': '.jpg'}\n",
    "\n",
    "```"
   ]
  },
  {
   "cell_type": "code",
   "execution_count": null,
   "metadata": {},
   "outputs": [],
   "source": [
    "import os\n",
    "os.listdir('../src/python')"
   ]
  },
  {
   "cell_type": "code",
   "execution_count": 7,
   "metadata": {},
   "outputs": [
    {
     "name": "stdout",
     "output_type": "stream",
     "text": [
      "Overwriting ../src/python/digipath_toolkit.py\n"
     ]
    }
   ],
   "source": [
    "%%writefile ../src/python/digipath_toolkit.py\n",
    "import os\n",
    "import sys\n",
    "\n",
    "import numpy as np\n",
    "\n",
    "def dict_to_patch_name(patch_image_name_dict):\n",
    "    \"\"\" Usage:\n",
    "    patch_name = dict_to_patch_name(patch_image_name_dict) \n",
    "    \n",
    "    Args:\n",
    "        patch_image_name_dict:  {'case_id': 'd83cc7d1c94', \n",
    "                                 'location_x': 100, \n",
    "                                 'location_y': 340, \n",
    "                                 'class_label': 'dermis', \n",
    "                                 'file_type': '.jpg' }\n",
    "        \n",
    "    Returns:\n",
    "        patch_name:     file name (without directory path)\n",
    "    \"\"\"\n",
    "    if patch_image_name_dict['file_type'][0] != '.':\n",
    "        patch_image_name_dict['file_type'] = '.' + patch_image_name_dict['file_type']\n",
    "        \n",
    "    patch_name = patch_image_name_dict['case_id']\n",
    "    patch_name += '_%i'%patch_image_name_dict['location_x']\n",
    "    patch_name += '_%i'%patch_image_name_dict['location_y'] \n",
    "    patch_name += '_%s'%patch_image_name_dict['class_label']\n",
    "    patch_name += '%s'%patch_image_name_dict['file_type']\n",
    "    \n",
    "    return patch_name\n",
    "\n",
    "\n",
    "def patch_name_to_dict(patch_file_name):\n",
    "    \"\"\" Usage:\n",
    "    patch_image_name_dict = patch_name_to_dict(patch_file_name)\n",
    "    \n",
    "    Args:\n",
    "        fname:          file name as created by get_patch_name()\n",
    "        \n",
    "    Returns:\n",
    "        patch_image_name_dict:  {'case_id': field[0], \n",
    "                                 'location_x': int(field[1]), \n",
    "                                 'location_y': int(field[2]), \n",
    "                                 'class_label': field[3], \n",
    "                                 'file_type': '.' + field[4] }\n",
    "    \"\"\"\n",
    "    name_type_list = patch_file_name.strip().split('.')\n",
    "    name_field_list = name_type_list[0].split('_')\n",
    "    \n",
    "    patch_image_name_dict = {'case_id': name_field_list[0], \n",
    "                             'location_x': int(name_field_list[1]), \n",
    "                             'location_y': int(name_field_list[2]), \n",
    "                             'class_label': name_field_list[3], \n",
    "                             'file_type': '.' + name_type_list[-1]}\n",
    "    \n",
    "    return patch_image_name_dict\n"
   ]
  },
  {
   "cell_type": "code",
   "execution_count": 5,
   "metadata": {},
   "outputs": [
    {
     "name": "stdout",
     "output_type": "stream",
     "text": [
      "d83cc7d1c94_100_340_dermis.jpg\n",
      "\n",
      "\t\treturned dict:\n",
      "\n",
      "                       case_id:          d83cc7d1c94 == d83cc7d1c94\n",
      "                    location_x:                  100 == 100\n",
      "                    location_y:                  340 == 340\n",
      "                   class_label:               dermis == dermis\n",
      "                     file_type:                 .jpg == .jpg\n"
     ]
    }
   ],
   "source": [
    "patch_image_name_dict = {'case_id': 'd83cc7d1c94', \n",
    "                         'location_x': 100, \n",
    "                         'location_y': 340, \n",
    "                         'class_label': 'dermis', \n",
    "                         'file_type': '.jpg'}\n",
    "\n",
    "patch_file_name = dict_to_patch_name(patch_image_name_dict)\n",
    "print(patch_file_name)\n",
    "print('\\n\\t\\treturned dict:\\n')\n",
    "patch_image_name_dict_II = patch_name_to_dict(patch_file_name)\n",
    "for k, v in patch_image_name_dict_II.items():\n",
    "    print('%30s: %20s == %s'%(k, str(v), str(patch_image_name_dict[k])))"
   ]
  },
  {
   "cell_type": "code",
   "execution_count": 6,
   "metadata": {},
   "outputs": [
    {
     "name": "stdout",
     "output_type": "stream",
     "text": [
      "d83cc7d1c94_200_440_dermis.jpg\n",
      "\n",
      "\t\treturned dict:\n",
      "\n",
      "                       case_id:          d83cc7d1c94 == d83cc7d1c94\n",
      "                    location_x:                  200 == 200\n",
      "                    location_y:                  440 == 440\n",
      "                   class_label:               dermis == dermis\n",
      "                     file_type:                 .jpg == .jpg\n"
     ]
    }
   ],
   "source": [
    "\n",
    "patch_image_name_dict_1 = {'case_id': 'd83cc7d1c94', \n",
    "                         'location_x': 200, \n",
    "                         'location_y': 440, \n",
    "                         'class_label': 'dermis', \n",
    "                         'file_type': '.jpg'}\n",
    "\n",
    "patch_file_name_1 = dict_to_patch_name(patch_image_name_dict_1)\n",
    "print(patch_file_name_1)\n",
    "print('\\n\\t\\treturned dict:\\n')\n",
    "patch_image_name_dict_1_r = patch_name_to_dict(patch_file_name_1)\n",
    "for k, v in patch_image_name_dict_1_r.items():\n",
    "    print('%30s: %20s == %s'%(k, str(v), str(patch_image_name_dict_1[k])))"
   ]
  },
  {
   "cell_type": "code",
   "execution_count": null,
   "metadata": {},
   "outputs": [],
   "source": []
  },
  {
   "cell_type": "code",
   "execution_count": null,
   "metadata": {},
   "outputs": [],
   "source": []
  }
 ],
 "metadata": {
  "kernelspec": {
   "display_name": "Python 3",
   "language": "python",
   "name": "python3"
  },
  "language_info": {
   "codemirror_mode": {
    "name": "ipython",
    "version": 3
   },
   "file_extension": ".py",
   "mimetype": "text/x-python",
   "name": "python",
   "nbconvert_exporter": "python",
   "pygments_lexer": "ipython3",
   "version": "3.6.5"
  }
 },
 "nbformat": 4,
 "nbformat_minor": 2
}
