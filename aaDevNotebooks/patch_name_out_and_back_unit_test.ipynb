{
 "cells": [
  {
   "cell_type": "markdown",
   "metadata": {},
   "source": [
    "# Refactor module & rename: *svs_file_to_patches_tfrecord(...)*\n",
    "## Patch Names as encoding of Class, location and label\n",
    "\n",
    "<img src='./images/file_name_coding.png' />"
   ]
  },
  {
   "cell_type": "markdown",
   "metadata": {},
   "source": [
    "```python\n",
    "patch_image_name_dict_0 = {'case_id': 'd83cc7d1c94', \n",
    "                         'location_x': 100, \n",
    "                         'location_y': 340, \n",
    "                         'class_label': 'dermis', \n",
    "                         'file_type': '.jpg'}\n",
    "\n",
    "patch_image_name_dict_1 = {'case_id': 'd83cc7d1c94', \n",
    "                         'location_x': 200, \n",
    "                         'location_y': 440, \n",
    "                         'class_label': 'dermis', \n",
    "                         'file_type': '.jpg'}\n",
    "\n",
    "```"
   ]
  },
  {
   "cell_type": "code",
   "execution_count": 1,
   "metadata": {},
   "outputs": [
    {
     "data": {
      "text/plain": [
       "['digipath_toolkit.pyc',\n",
       " '__pycache__',\n",
       " 'digipath_mltk.py',\n",
       " 'digipath_toolkit.py',\n",
       " 'openslide_2_tfrecord.py']"
      ]
     },
     "execution_count": 1,
     "metadata": {},
     "output_type": "execute_result"
    }
   ],
   "source": [
    "import os\n",
    "import warnings\n",
    "os.listdir('../src/python')"
   ]
  },
  {
   "cell_type": "code",
   "execution_count": 25,
   "metadata": {},
   "outputs": [
    {
     "name": "stderr",
     "output_type": "stream",
     "text": [
      "/Library/Frameworks/Python.framework/Versions/3.7/lib/python3.7/site-packages/ipykernel_launcher.py:55: UserWarning: \n",
      "Input parameter changed.\t(for name readback decoding)\n",
      "parameter:\tDuck_tpye [43] {null_stuff} *>? brodaglio.pip_pip_hooray\n",
      "changed to:\tDuck-tpye[43]{null-stuff}brodaglio.pip-pip-hooray\n",
      "\n",
      "/Library/Frameworks/Python.framework/Versions/3.7/lib/python3.7/site-packages/ipykernel_launcher.py:59: UserWarning: \n",
      "Input parameter changed.\t(for name readback decoding)\n",
      "parameter:\tfunny-funny label *\n",
      "changed to:\tfunny-funnylabel\n",
      "\n"
     ]
    }
   ],
   "source": [
    "\"\"\"\n",
    "    new function added Nov 22 to assure filename may decode x and y location inputs\n",
    "    \n",
    "\"\"\"\n",
    "def patch_name_parts_limit(name_str, space_replacer=None):\n",
    "    \"\"\" Usage:  par_name = patch_name_parts_limit(name_str, <space_replacer>)\n",
    "                clean up name_str such that it may be decoded with \n",
    "                patch_name_to_dict and serve as a valid file name\n",
    "    Args:\n",
    "        name_str:       string representation for case_id or class_label or file_extension\n",
    "        space_replacer: python str to replace spaces -\n",
    "\n",
    "    Returns:\n",
    "        part_name:      name_str string with spaces removed, reserved characters removed\n",
    "                        and underscores replaced with hyphens\n",
    "    \"\"\"\n",
    "    # remove spaces: substitute if valid space replacer is input\n",
    "    if space_replacer is not None and isinstance(space_replacer, str):\n",
    "        name_str = name_str.replace(' ', space_replacer)\n",
    "\n",
    "    # no spaces!\n",
    "    name_str = name_str.replace(' ', '')\n",
    "\n",
    "    # remove reserved characters\n",
    "    reserved_chars = ['/', '\\\\', '?', '%', '*', ':', '|', '\"', '<', '>']\n",
    "    part_name = ''.join(c for c in name_str if not c in reserved_chars)\n",
    "\n",
    "    # replace underscore with hyphen to allow decoding of x and y location\n",
    "    part_name = part_name.replace('_', '-')\n",
    "\n",
    "    return part_name\n",
    "\n",
    "\n",
    "def patch_name_parts_clean_with_warning(file_name_base, class_label):\n",
    "    \"\"\" Usage:  name_base_clean, class_label_clean = patch_name_parts_clean_with_warning(name_base, class_label)\n",
    "                sanitize case_id, class_label and file_ext so that they may be decoded \n",
    "                - warn user that input parameter changed\n",
    "    Args:\n",
    "        file_name_base:     file name string\n",
    "        class_label:        class_id\n",
    "        \n",
    "    Retruns:\n",
    "        name_base_clean:    file_name_base with reserved_chars removed\n",
    "        class_label_clean:  class_label with reserved_chars removed\n",
    "        \n",
    "    Warnings:               (if names are changed)\n",
    "        UserWarning:        Input parameter changed\n",
    "        \n",
    "    \"\"\"\n",
    "    par_change_warning = 'Input parameter changed.\\t(for name readback decoding)'\n",
    "    warn_format_str = '\\n%s\\nparameter:\\t%s\\nchanged to:\\t%s\\n'\n",
    "\n",
    "    name_base_clean = patch_name_parts_limit(file_name_base)\n",
    "    if name_base_clean != file_name_base:\n",
    "        warnings.warn(warn_format_str%(par_change_warning, file_name_base, name_base_clean))\n",
    "\n",
    "    class_label_clean = patch_name_parts_limit(class_label)\n",
    "    if class_label_clean != class_label:\n",
    "        warnings.warn(warn_format_str%(par_change_warning, class_label, class_label_clean))\n",
    "        \n",
    "    return name_base_clean, class_label_clean\n",
    "\n",
    "f_name_base = 'Duck_tpye [43] {null_stuff} *>? brodaglio.pip_pip_hooray'\n",
    "c_label = 'funny-funny label *'\n",
    "\n",
    "\n",
    "f, c = patch_name_parts_clean_with_warning(f_name_base, c_label)"
   ]
  },
  {
   "cell_type": "code",
   "execution_count": 7,
   "metadata": {},
   "outputs": [
    {
     "name": "stdout",
     "output_type": "stream",
     "text": [
      "Overwriting ../src/python/digipath_toolkit.py\n"
     ]
    }
   ],
   "source": [
    "# %load ../src/python/digipath_toolkit.py\n",
    "import os\n",
    "import sys\n",
    "\n",
    "import numpy as np\n",
    "\n",
    "def dict_to_patch_name(patch_image_name_dict):\n",
    "    \"\"\" Usage:\n",
    "    patch_name = dict_to_patch_name(patch_image_name_dict) \n",
    "    \n",
    "    Args:\n",
    "        patch_image_name_dict:  {'case_id': 'd83cc7d1c94', \n",
    "                                 'location_x': 100, \n",
    "                                 'location_y': 340, \n",
    "                                 'class_label': 'dermis', \n",
    "                                 'file_type': '.jpg' }\n",
    "        \n",
    "    Returns:\n",
    "        patch_name:     file name (without directory path)\n",
    "    \"\"\"\n",
    "    if patch_image_name_dict['file_type'][0] != '.':\n",
    "        patch_image_name_dict['file_type'] = '.' + patch_image_name_dict['file_type']\n",
    "        \n",
    "    patch_name = patch_image_name_dict['case_id']\n",
    "    patch_name += '_%i'%patch_image_name_dict['location_x']\n",
    "    patch_name += '_%i'%patch_image_name_dict['location_y'] \n",
    "    patch_name += '_%s'%patch_image_name_dict['class_label']\n",
    "    patch_name += '%s'%patch_image_name_dict['file_type']\n",
    "    \n",
    "    return patch_name\n",
    "\n",
    "\n",
    "def patch_name_to_dict(patch_file_name):\n",
    "    \"\"\" Usage:\n",
    "    patch_image_name_dict = patch_name_to_dict(patch_file_name)\n",
    "    \n",
    "    Args:\n",
    "        fname:          file name as created by get_patch_name()\n",
    "        \n",
    "    Returns:\n",
    "        patch_image_name_dict:  {'case_id': field[0], \n",
    "                                 'location_x': int(field[1]), \n",
    "                                 'location_y': int(field[2]), \n",
    "                                 'class_label': field[3], \n",
    "                                 'file_type': '.' + field[4] }\n",
    "    \"\"\"\n",
    "    name_type_list = patch_file_name.strip().split('.')\n",
    "    name_field_list = name_type_list[0].split('_')\n",
    "    \n",
    "    patch_image_name_dict = {'case_id': name_field_list[0], \n",
    "                             'location_x': int(name_field_list[1]), \n",
    "                             'location_y': int(name_field_list[2]), \n",
    "                             'class_label': name_field_list[3], \n",
    "                             'file_type': '.' + name_type_list[-1]}\n",
    "    \n",
    "    return patch_image_name_dict\n"
   ]
  },
  {
   "cell_type": "code",
   "execution_count": 5,
   "metadata": {},
   "outputs": [
    {
     "name": "stdout",
     "output_type": "stream",
     "text": [
      "d83cc7d1c94_100_340_dermis.jpg\n",
      "\n",
      "\t\treturned dict:\n",
      "\n",
      "                       case_id:          d83cc7d1c94 == d83cc7d1c94\n",
      "                    location_x:                  100 == 100\n",
      "                    location_y:                  340 == 340\n",
      "                   class_label:               dermis == dermis\n",
      "                     file_type:                 .jpg == .jpg\n"
     ]
    }
   ],
   "source": [
    "patch_image_name_dict = {'case_id': 'd83cc7d1c94', \n",
    "                         'location_x': 100, \n",
    "                         'location_y': 340, \n",
    "                         'class_label': 'dermis', \n",
    "                         'file_type': '.jpg'}\n",
    "\n",
    "patch_file_name = dict_to_patch_name(patch_image_name_dict)\n",
    "print(patch_file_name)\n",
    "print('\\n\\t\\treturned dict:\\n')\n",
    "patch_image_name_dict_II = patch_name_to_dict(patch_file_name)\n",
    "for k, v in patch_image_name_dict_II.items():\n",
    "    print('%30s: %20s == %s'%(k, str(v), str(patch_image_name_dict[k])))"
   ]
  },
  {
   "cell_type": "code",
   "execution_count": 6,
   "metadata": {},
   "outputs": [
    {
     "name": "stdout",
     "output_type": "stream",
     "text": [
      "d83cc7d1c94_200_440_dermis.jpg\n",
      "\n",
      "\t\treturned dict:\n",
      "\n",
      "                       case_id:          d83cc7d1c94 == d83cc7d1c94\n",
      "                    location_x:                  200 == 200\n",
      "                    location_y:                  440 == 440\n",
      "                   class_label:               dermis == dermis\n",
      "                     file_type:                 .jpg == .jpg\n"
     ]
    }
   ],
   "source": [
    "\n",
    "patch_image_name_dict_1 = {'case_id': 'd83cc7d1c94', \n",
    "                         'location_x': 200, \n",
    "                         'location_y': 440, \n",
    "                         'class_label': 'dermis', \n",
    "                         'file_type': '.jpg'}\n",
    "\n",
    "patch_file_name_1 = dict_to_patch_name(patch_image_name_dict_1)\n",
    "print(patch_file_name_1)\n",
    "print('\\n\\t\\treturned dict:\\n')\n",
    "patch_image_name_dict_1_r = patch_name_to_dict(patch_file_name_1)\n",
    "for k, v in patch_image_name_dict_1_r.items():\n",
    "    print('%30s: %20s == %s'%(k, str(v), str(patch_image_name_dict_1[k])))"
   ]
  },
  {
   "cell_type": "code",
   "execution_count": null,
   "metadata": {},
   "outputs": [],
   "source": []
  },
  {
   "cell_type": "code",
   "execution_count": null,
   "metadata": {},
   "outputs": [],
   "source": []
  }
 ],
 "metadata": {
  "kernelspec": {
   "display_name": "Python 3",
   "language": "python",
   "name": "python3"
  },
  "language_info": {
   "codemirror_mode": {
    "name": "ipython",
    "version": 3
   },
   "file_extension": ".py",
   "mimetype": "text/x-python",
   "name": "python",
   "nbconvert_exporter": "python",
   "pygments_lexer": "ipython3",
   "version": "3.7.3"
  }
 },
 "nbformat": 4,
 "nbformat_minor": 2
}
