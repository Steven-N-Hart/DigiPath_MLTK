{
 "cells": [
  {
   "cell_type": "markdown",
   "metadata": {},
   "source": [
    "# Refactor module & rename: *svs_file_to_patches_tfrecord(...)*\n",
    "## Patch Names as encoding of Class, location and label\n",
    "\n",
    "<img src='./images/file_name_coding.png' />"
   ]
  },
  {
   "cell_type": "code",
   "execution_count": 1,
   "metadata": {},
   "outputs": [],
   "source": [
    "patch_image_name_dict = {'case_id': 'd83cc7d1c94', \n",
    "                         'location_x': 100, \n",
    "                         'location_y': 340, \n",
    "                         'class_label': 'dermis', \n",
    "                         'file_type': '.jpg'}"
   ]
  },
  {
   "cell_type": "code",
   "execution_count": 2,
   "metadata": {},
   "outputs": [],
   "source": [
    "import os\n",
    "import sys\n",
    "\n",
    "import numpy as np\n",
    "\n",
    "def dict_to_patch_name(patch_image_name_dict):\n",
    "    \"\"\" Usage:\n",
    "    patch_name = dict_to_patch_name(patch_image_name_dict) \n",
    "    \n",
    "    Args:\n",
    "        patch_image_name_dict:  {'case_id': 'd83cc7d1c94', \n",
    "                                 'location_x': 100, \n",
    "                                 'location_y': 340, \n",
    "                                 'class_label': 'dermis', \n",
    "                                 'file_type': '.jpg' }\n",
    "        \n",
    "    Returns:\n",
    "        patch_name:     file name (without directory path)\n",
    "    \"\"\"\n",
    "    if file_ext[0] != '.':\n",
    "        file_ext = '.' + file_ext\n",
    "    patch_name = base_name + '_row_%i_%i'%(row[0], row[1])\n",
    "    patch_name += '_col_%i_%i%s'%(col[0], col[1], file_ext)\n",
    "    \n",
    "    return patch_name\n",
    "\n",
    "\n",
    "def dict_from_patch_name(patch_file_name):\n",
    "    \"\"\" Usage:\n",
    "    patch_image_name_dict = dict_from_patch_name(patch_file_name)\n",
    "    \n",
    "    Args:\n",
    "        fname:          file name as created by get_patch_name()\n",
    "    Returns:\n",
    "        patch_image_name_dict:  {'case_id': 'd83cc7d1c94', \n",
    "                                 'location_x': 100, \n",
    "                                 'location_y': 340, \n",
    "                                 'class_label': 'dermis', \n",
    "                                 'file_type': '.jpg' }\n",
    "    \"\"\"\n",
    "    patch_image_name_dict = {'case_id': 'd83cc7d1c94', \n",
    "                             'location_x': 100, \n",
    "                             'location_y': 340, \n",
    "                             'class_label': 'dermis', \n",
    "                             'file_type': '.jpg'}    \n",
    "    \n",
    "    return patch_image_name_dict\n"
   ]
  },
  {
   "cell_type": "code",
   "execution_count": null,
   "metadata": {},
   "outputs": [],
   "source": []
  },
  {
   "cell_type": "code",
   "execution_count": null,
   "metadata": {},
   "outputs": [],
   "source": []
  },
  {
   "cell_type": "code",
   "execution_count": null,
   "metadata": {},
   "outputs": [],
   "source": []
  },
  {
   "cell_type": "code",
   "execution_count": null,
   "metadata": {},
   "outputs": [],
   "source": []
  },
  {
   "cell_type": "code",
   "execution_count": null,
   "metadata": {},
   "outputs": [],
   "source": []
  },
  {
   "cell_type": "code",
   "execution_count": null,
   "metadata": {},
   "outputs": [],
   "source": []
  },
  {
   "cell_type": "code",
   "execution_count": null,
   "metadata": {},
   "outputs": [],
   "source": []
  },
  {
   "cell_type": "code",
   "execution_count": null,
   "metadata": {},
   "outputs": [],
   "source": []
  },
  {
   "cell_type": "code",
   "execution_count": null,
   "metadata": {},
   "outputs": [],
   "source": []
  },
  {
   "cell_type": "code",
   "execution_count": null,
   "metadata": {},
   "outputs": [],
   "source": []
  },
  {
   "cell_type": "code",
   "execution_count": null,
   "metadata": {},
   "outputs": [],
   "source": []
  },
  {
   "cell_type": "code",
   "execution_count": null,
   "metadata": {},
   "outputs": [],
   "source": []
  },
  {
   "cell_type": "code",
   "execution_count": null,
   "metadata": {},
   "outputs": [],
   "source": []
  },
  {
   "cell_type": "code",
   "execution_count": null,
   "metadata": {},
   "outputs": [],
   "source": []
  },
  {
   "cell_type": "code",
   "execution_count": null,
   "metadata": {},
   "outputs": [],
   "source": []
  },
  {
   "cell_type": "code",
   "execution_count": null,
   "metadata": {},
   "outputs": [],
   "source": []
  },
  {
   "cell_type": "code",
   "execution_count": null,
   "metadata": {},
   "outputs": [],
   "source": []
  }
 ],
 "metadata": {
  "kernelspec": {
   "display_name": "Python 3",
   "language": "python",
   "name": "python3"
  },
  "language_info": {
   "codemirror_mode": {
    "name": "ipython",
    "version": 3
   },
   "file_extension": ".py",
   "mimetype": "text/x-python",
   "name": "python",
   "nbconvert_exporter": "python",
   "pygments_lexer": "ipython3",
   "version": "3.7.3"
  }
 },
 "nbformat": 4,
 "nbformat_minor": 2
}
