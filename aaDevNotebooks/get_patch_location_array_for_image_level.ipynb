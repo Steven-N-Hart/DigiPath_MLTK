{
 "cells": [
  {
   "cell_type": "markdown",
   "metadata": {},
   "source": [
    "# Allow for image level parameter input: added to *digipath_toolkit.py*\n",
    "\n",
    "## *get_patch_location_array_for_image_level(run_parameters)*\n",
    "\n",
    "## *get_patch_locations_preview_imagefor_image_level(run_parameters)*"
   ]
  },
  {
   "cell_type": "code",
   "execution_count": null,
   "metadata": {},
   "outputs": [],
   "source": [
    "import time\n",
    "nb_start_time = time.time()\n",
    "\n",
    "import os\n",
    "import sys\n",
    "\n",
    "from collections import OrderedDict\n",
    "import argparse\n",
    "\n",
    "import numpy as np\n",
    "import pandas as pd\n",
    "import yaml\n",
    "\n",
    "from skimage.filters import threshold_otsu\n",
    "from skimage.color import rgb2lab\n",
    "\n",
    "from PIL import ImageDraw\n",
    "from PIL import TiffImagePlugin as tip\n",
    "\n",
    "import openslide\n",
    "\n",
    "sys.path.insert(0, '../src/python')\n",
    "from digipath_toolkit import *\n",
    "\n",
    "COMMON_THUMBNAIL_DIVISOR = 20\n",
    "\n",
    "data_dir = '../../DigiPath_MLTK_data/Aperio'\n",
    "file_type_list=['.svs', '.tif', '.tiff']\n",
    "fs_od = get_file_size_ordered_dict(data_dir, file_type_list)\n",
    "list_number = 0\n",
    "for k, v in fs_od.items():\n",
    "    print('%3i %30s: %i'%(list_number, k,v))\n",
    "    list_number += 1"
   ]
  },
  {
   "cell_type": "code",
   "execution_count": null,
   "metadata": {},
   "outputs": [],
   "source": [
    "#                         test data file for threshold_otsu\n",
    "data_dir = '../../DigiPath_MLTK_data/Aperio'\n",
    "image_file_name = 'CMU-1.svs'\n",
    "\n",
    "run_parameters = dict()\n",
    "\n",
    "run_parameters['wsi_filename'] = os.path.join(data_dir, image_file_name)\n",
    "print('Image File:\\n', run_parameters['wsi_filename'])\n",
    "\n",
    "run_parameters['thumbnail_divisor'] = COMMON_THUMBNAIL_DIVISOR\n",
    "run_parameters['patch_select_method'] = 'threshold_otsu' # 'threshold_rgb2lab'\n",
    "run_parameters['patch_height'] = 224\n",
    "run_parameters['patch_width'] = 224\n",
    "run_parameters['threshold'] = 0\n",
    "\n",
    "\"\"\"\n",
    "                output & time test:                CALL - - get_patch_location_array()\n",
    "\"\"\"\n",
    "t0 = time.time()\n",
    "patch_location_array = get_patch_location_array(run_parameters)\n",
    "tt = time.time() - t0\n",
    "\n",
    "print('%i images found\\t%0.3f s\\n'%(len(patch_location_array), tt))\n",
    "\n",
    "print('type(patch_location_array) =',type(patch_location_array), '\\t', len(patch_location_array),'\\n')\n",
    "for d in patch_location_array:\n",
    "    print(d)"
   ]
  },
  {
   "cell_type": "code",
   "execution_count": null,
   "metadata": {},
   "outputs": [],
   "source": [
    "n_levels = 3\n",
    "for lvl_number in range(n_levels, 0, -1):\n",
    "    im_lvl = lvl_number - 1\n",
    "    t1 = time.time()\n",
    "    run_parameters['image_level'] = im_lvl\n",
    "    patch_location_array = get_patch_location_array_for_image_level(run_parameters)\n",
    "    print('\\nimage_level = %i,\\nnumber of patches = %i'%(im_lvl, len(patch_location_array)))\n",
    "    print('cell run time: %0.3f'%(time.time() - t1))"
   ]
  },
  {
   "cell_type": "code",
   "execution_count": null,
   "metadata": {},
   "outputs": [],
   "source": [
    "run_parameters['image_level'] = 0\n",
    "run_parameters['thumbnail_divisor'] = COMMON_THUMBNAIL_DIVISOR\n",
    "\n",
    "run_parameters['threshold'] = 0\n",
    "run_parameters['border_color'] = 'blue'\n",
    "t2 = time.time()\n",
    "mask_im, prev_im, patch_array = get_patch_locations_preview_imagefor_image_level(run_parameters)\n",
    "tt2 = time.time() - t2\n",
    "\n",
    "print('image_level = %i,\\nnumber of patches = %i'%(im_lvl, len(patch_array)))\n",
    "print('thumb image size:', prev_im.size, '\\ncell run time = %0.3f'%(tt2))\n",
    "display(prev_im)display(prev_im)"
   ]
  },
  {
   "cell_type": "code",
   "execution_count": null,
   "metadata": {},
   "outputs": [],
   "source": [
    "run_parameters['image_level'] = 1\n",
    "run_parameters['thumbnail_divisor'] = COMMON_THUMBNAIL_DIVISOR\n",
    "run_parameters['thumbnail_divisor'] = run_parameters['thumbnail_divisor'] // (run_parameters['image_level'] + 1)\n",
    "\n",
    "run_parameters['threshold'] = 0\n",
    "run_parameters['border_color'] = 'blue'\n",
    "t2 = time.time()\n",
    "mask_im, prev_im, patch_array = get_patch_locations_preview_imagefor_image_level(run_parameters)\n",
    "tt2 = time.time() - t2\n",
    "\n",
    "print('image_level = %i,\\nnumber of patches = %i'%(im_lvl, len(patch_array)))\n",
    "print('thumb image size:', prev_im.size, '\\ncell run time = %0.3f'%(tt2))\n",
    "display(prev_im)display(prev_im)"
   ]
  },
  {
   "cell_type": "code",
   "execution_count": null,
   "metadata": {},
   "outputs": [],
   "source": [
    "run_parameters['image_level'] = 2\n",
    "run_parameters['thumbnail_divisor'] = COMMON_THUMBNAIL_DIVISOR\n",
    "run_parameters['thumbnail_divisor'] = run_parameters['thumbnail_divisor'] // (run_parameters['image_level'] + 1)\n",
    "\n",
    "run_parameters['threshold'] = 0\n",
    "run_parameters['border_color'] = 'blue'\n",
    "t2 = time.time()\n",
    "mask_im, prev_im, patch_array = get_patch_locations_preview_imagefor_image_level(run_parameters)\n",
    "tt2 = time.time() - t2\n",
    "\n",
    "print('image_level = %i,\\nnumber of patches = %i'%(im_lvl, len(patch_array)))\n",
    "print('thumb image size:', prev_im.size, '\\ncell run time = %0.3f'%(tt2))\n",
    "display(prev_im)"
   ]
  },
  {
   "cell_type": "code",
   "execution_count": null,
   "metadata": {},
   "outputs": [],
   "source": [
    "time_over_all = time.time() - nb_start_time\n",
    "print('run all cells time %0.3f'%(time_over_all))"
   ]
  }
 ],
 "metadata": {
  "kernelspec": {
   "display_name": "Python 3",
   "language": "python",
   "name": "python3"
  },
  "language_info": {
   "codemirror_mode": {
    "name": "ipython",
    "version": 3
   },
   "file_extension": ".py",
   "mimetype": "text/x-python",
   "name": "python",
   "nbconvert_exporter": "python",
   "pygments_lexer": "ipython3",
   "version": "3.7.3"
  }
 },
 "nbformat": 4,
 "nbformat_minor": 2
}
