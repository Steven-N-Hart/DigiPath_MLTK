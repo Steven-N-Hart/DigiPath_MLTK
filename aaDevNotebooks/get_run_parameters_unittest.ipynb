{
 "cells": [
  {
   "cell_type": "code",
   "execution_count": 3,
   "metadata": {},
   "outputs": [],
   "source": [
    "import os\n",
    "from tempfile import NamedTemporaryFile\n",
    "import unittest\n",
    "from unittest import TestCase\n",
    "\n",
    "import sys\n",
    "sys.path.insert(0, '../src/python')\n",
    "from digipath_toolkit import get_run_parameters"
   ]
  },
  {
   "cell_type": "code",
   "execution_count": 70,
   "metadata": {},
   "outputs": [],
   "source": [
    "yaml_str = [\"# possible methods: image_2_tfrecord, tfrecord_2_masked_thumb\",\n",
    "             \"method:               image_2_tfrecord\",\n",
    "             \"image_file_name:      ../data/images/CMU-1-Small-Region.svs\",\n",
    "             \"output_dir:           ../../run_dir/results\",\n",
    "             \"patch_height:         224\",\n",
    "             \"patch_width:          224\",\"\",\n",
    "             \"# Options:            threshold_rgb2lab, threshold_otsu\",\n",
    "             \"patch_select_method:  threshold_rgb2lab\",\"\",\n",
    "             \"drop_threshold:       0.9\",\n",
    "             \"file_ext:             .jpg\"]\n",
    "y_str = ''\n",
    "for s in yaml_str:\n",
    "    y_str += s + '\\n'\n",
    "\n",
    "run_parameters = {'method': 'image_2_tfrecord', \n",
    "                  'image_file_name': '../data/images/CMU-1-Small-Region.svs', \n",
    "                  'output_dir': '../../run_dir/results', \n",
    "                  'patch_height': 224, \n",
    "                  'patch_width': 224, \n",
    "                  'patch_select_method': 'threshold_rgb2lab', \n",
    "                  'drop_threshold': 0.9, \n",
    "                  'file_ext': '.jpg'}"
   ]
  },
  {
   "cell_type": "code",
   "execution_count": 71,
   "metadata": {},
   "outputs": [],
   "source": [
    "\n",
    "def get_run_parameters_nb(run_directory, run_file): \n",
    "    \"\"\" Read the input arguments into a dictionary\n",
    "    Args:\n",
    "        run_directory:      where run_file is expected\n",
    "        run_file:           yaml file with run parameters\n",
    "\n",
    "    Returns:\n",
    "        run_parameters:     python dictionary of run parameters\n",
    "    \"\"\"\n",
    "    run_file_name = os.path.join(run_directory, run_file)    \n",
    "    with open(run_file_name, 'r') as fh:\n",
    "        run_parameters = yaml.safe_load(fh)\n",
    "        \n",
    "    run_parameters['run_directory'] = run_directory\n",
    "    run_parameters['run_file'] = run_file\n",
    "\n",
    "    return run_parameters"
   ]
  },
  {
   "cell_type": "code",
   "execution_count": 78,
   "metadata": {},
   "outputs": [
    {
     "name": "stdout",
     "output_type": "stream",
     "text": [
      "<TemporaryDirectory '/var/folders/12/rq_vvnr91sj5kh6xj64x3vsr0000gn/T/tmpcwauh5hn'> \n",
      " utst_yaml.yml \n",
      "\n",
      "\n",
      "method True\n",
      "image_file_name True\n",
      "output_dir True\n",
      "patch_height True\n",
      "patch_width True\n",
      "patch_select_method True\n",
      "drop_threshold True\n",
      "file_ext True\n",
      "run_directory True\n",
      "run_file True\n"
     ]
    }
   ],
   "source": [
    "from tempfile import TemporaryDirectory\n",
    "run_directory = TemporaryDirectory()\n",
    "# run_directory = os.getcwd()\n",
    "run_file = 'utst_yaml.yml'\n",
    "run_parameters['run_directory'] = run_directory.name\n",
    "run_parameters['run_file'] = run_file\n",
    "print(run_directory, '\\n', run_file, '\\n\\n')\n",
    "fname = os.path.join(run_directory.name, run_file)\n",
    "\n",
    "with open(fname, 'w') as fh:\n",
    "    print('%s'%(y_str), file=fh)\n",
    "    \n",
    "if os.path.isfile(fname) == False:\n",
    "    print('os.path.isfile(fname)', os.path.isfile(fname))\n",
    "    \n",
    "rp_2 = get_run_parameters_nb(run_directory.name, run_file)\n",
    "\n",
    "# os.remove(fname)\n",
    "run_directory.cleanup()\n",
    "\n",
    "for k, v in rp_2.items():\n",
    "    print(k, v == run_parameters[k])"
   ]
  },
  {
   "cell_type": "code",
   "execution_count": 76,
   "metadata": {},
   "outputs": [
    {
     "name": "stdout",
     "output_type": "stream",
     "text": [
      "/var/folders/12/rq_vvnr91sj5kh6xj64x3vsr0000gn/T/tmpbga_48hx\n"
     ]
    }
   ],
   "source": [
    "from tempfile import TemporaryDirectory\n",
    "run_directory = TemporaryDirectory()\n",
    "print(run_directory.name)\n",
    "run_directory.cleanup()"
   ]
  },
  {
   "cell_type": "code",
   "execution_count": null,
   "metadata": {},
   "outputs": [],
   "source": []
  }
 ],
 "metadata": {
  "kernelspec": {
   "display_name": "Python 3",
   "language": "python",
   "name": "python3"
  },
  "language_info": {
   "codemirror_mode": {
    "name": "ipython",
    "version": 3
   },
   "file_extension": ".py",
   "mimetype": "text/x-python",
   "name": "python",
   "nbconvert_exporter": "python",
   "pygments_lexer": "ipython3",
   "version": "3.6.5"
  }
 },
 "nbformat": 4,
 "nbformat_minor": 2
}
