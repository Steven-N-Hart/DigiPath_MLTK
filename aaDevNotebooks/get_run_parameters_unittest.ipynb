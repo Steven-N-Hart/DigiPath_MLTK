{
 "cells": [
  {
   "cell_type": "code",
   "execution_count": 1,
   "metadata": {},
   "outputs": [],
   "source": [
    "import os\n",
    "from tempfile import NamedTemporaryFile\n",
    "import unittest\n",
    "from unittest import TestCase\n",
    "\n",
    "import sys\n",
    "sys.path.insert(0, '../src/python')\n",
    "from digipath_toolkit import get_run_parameters"
   ]
  },
  {
   "cell_type": "code",
   "execution_count": 2,
   "metadata": {},
   "outputs": [],
   "source": [
    "yaml_str = [\"# possible methods: image_2_tfrecord, tfrecord_2_masked_thumb\",\n",
    "             \"method:               image_2_tfrecord\",\n",
    "             \"image_file_name:      ../data/images/CMU-1-Small-Region.svs\",\n",
    "             \"output_dir:           ../../run_dir/results\",\n",
    "             \"patch_height:         224\",\n",
    "             \"patch_width:          224\",\"\",\n",
    "             \"# Options:            threshold_rgb2lab, threshold_otsu\",\n",
    "             \"patch_select_method:  threshold_rgb2lab\",\"\",\n",
    "             \"drop_threshold:       0.9\",\n",
    "             \"file_ext:             .jpg\"]\n",
    "y_str = ''\n",
    "for s in yaml_str:\n",
    "    y_str += s + '\\n'\n",
    "\n",
    "run_parameters = {'method': 'image_2_tfrecord', \n",
    "                  'image_file_name': '../data/images/CMU-1-Small-Region.svs', \n",
    "                  'output_dir': '../../run_dir/results', \n",
    "                  'patch_height': 224, \n",
    "                  'patch_width': 224, \n",
    "                  'patch_select_method': 'threshold_rgb2lab', \n",
    "                  'drop_threshold': 0.9, \n",
    "                  'file_ext': '.jpg'}"
   ]
  },
  {
   "cell_type": "code",
   "execution_count": 3,
   "metadata": {},
   "outputs": [
    {
     "name": "stdout",
     "output_type": "stream",
     "text": [
      "<TemporaryDirectory '/var/folders/gf/ybz3wzn55m139k_4dw2v_tvm0000gn/T/tmpfbb3xdf9'> \n",
      " utst_yaml.yml \n",
      "\n",
      "\n",
      "method True\n",
      "image_file_name True\n",
      "output_dir True\n",
      "patch_height True\n",
      "patch_width True\n",
      "patch_select_method True\n",
      "drop_threshold True\n",
      "file_ext True\n",
      "run_directory True\n",
      "run_file True\n"
     ]
    }
   ],
   "source": [
    "from tempfile import TemporaryDirectory\n",
    "run_directory = TemporaryDirectory()\n",
    "# run_directory = os.getcwd()\n",
    "run_file = 'utst_yaml.yml'\n",
    "run_parameters['run_directory'] = run_directory.name\n",
    "run_parameters['run_file'] = run_file\n",
    "print(run_directory, '\\n', run_file, '\\n\\n')\n",
    "fname = os.path.join(run_directory.name, run_file)\n",
    "\n",
    "with open(fname, 'w') as fh:\n",
    "    print('%s'%(y_str), file=fh)\n",
    "    \n",
    "if os.path.isfile(fname) == False:\n",
    "    print('os.path.isfile(fname)', os.path.isfile(fname))\n",
    "    \n",
    "rp_2 = get_run_parameters(run_directory.name, run_file)\n",
    "\n",
    "# os.remove(fname)\n",
    "run_directory.cleanup()\n",
    "\n",
    "for k, v in rp_2.items():\n",
    "    print(k, v == run_parameters[k])"
   ]
  },
  {
   "cell_type": "code",
   "execution_count": 4,
   "metadata": {},
   "outputs": [],
   "source": [
    "from unittest import mock\n",
    "mock.FILTER_DIR = False\n",
    "dir(mock.Mock())"
   ]
  },
  {
   "cell_type": "code",
   "execution_count": 18,
   "metadata": {},
   "outputs": [
    {
     "data": {
      "text/plain": [
       "['-run_dir',\n",
       " 'hoho',\n",
       " '-denada',\n",
       " '-denada /whatnot/hodot',\n",
       " 'whodo abba_dabbadoo',\n",
       " '-denada /whatnot/hodot',\n",
       " 'whodo abba_dabbadoo']"
      ]
     },
     "execution_count": 18,
     "metadata": {},
     "output_type": "execute_result"
    }
   ],
   "source": [
    "# mock_args = unittest.mock.('sys.argv',('-run_directory', '/mock/dir', '-run_file', 'mock_file'))\n",
    "# type(mock_args)\n",
    "sys.argv.append('-denada /whatnot/hodot')\n",
    "sys.argv.append('whodo abba_dabbadoo')\n",
    "sys.argv[1:]"
   ]
  }
 ],
 "metadata": {
  "kernelspec": {
   "display_name": "Python 3",
   "language": "python",
   "name": "python3"
  },
  "language_info": {
   "codemirror_mode": {
    "name": "ipython",
    "version": 3
   },
   "file_extension": ".py",
   "mimetype": "text/x-python",
   "name": "python",
   "nbconvert_exporter": "python",
   "pygments_lexer": "ipython3",
   "version": "3.7.3"
  }
 },
 "nbformat": 4,
 "nbformat_minor": 2
}
