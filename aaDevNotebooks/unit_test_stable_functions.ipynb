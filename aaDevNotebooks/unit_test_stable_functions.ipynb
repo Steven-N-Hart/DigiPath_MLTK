{
 "cells": [
  {
   "cell_type": "markdown",
   "metadata": {},
   "source": [
    "# Refactor module & rename: *svs_file_to_patches_tfrecord(...)*\n",
    "## Outline Unit Test for stable functions\n",
    "\n",
    "<img src='./images/file_name_coding.png' />"
   ]
  },
  {
   "cell_type": "code",
   "execution_count": 1,
   "metadata": {},
   "outputs": [],
   "source": [
    "import os\n",
    "import sys\n",
    "\n",
    "import numpy as np\n",
    "\n",
    "def get_patch_name_from_row_col(row, col, base_name='patch', file_ext='.jpg'):\n",
    "    \"\"\" Usage:\n",
    "    patch_name = get_patch_name_from_row_col(row,col,base_name='patch',file_ext='.jpg') \n",
    "    \n",
    "    Args:\n",
    "        row, col:       integer list e.g row = [0, 20]\n",
    "        base_name:      beginning of the file name\n",
    "        file_ext:       default is '.jpg' Note: include the period before the name\n",
    "        \n",
    "    Returns:\n",
    "        patch_name:     file name (without directory path)\n",
    "    \"\"\"\n",
    "    if file_ext[0] != '.':\n",
    "        file_ext = '.' + file_ext\n",
    "    patch_name = base_name + '_row_%i_%i'%(row[0], row[1])\n",
    "    patch_name += '_col_%i_%i%s'%(col[0], col[1], file_ext)\n",
    "    \n",
    "    return patch_name\n",
    "\n",
    "\n",
    "def get_row_col_from_patch_name(fname):\n",
    "    \"\"\" Usage:\n",
    "    row_col_dict = get_row_col_from_filename(fname) \n",
    "    \n",
    "    Args:\n",
    "        fname:          file name as created by this module function:\n",
    "                        get_patch_name_from_row_col(row, col, base_name, file_ext)\n",
    "    Returns:\n",
    "        row_col_dict: { 'base_name': parts_list[0], \n",
    "                        'file_ext': file_ext, \n",
    "                        'row': row, \n",
    "                        'col': col }\n",
    "    \"\"\"\n",
    "    row_label = 'row'\n",
    "    col_label = 'col'\n",
    "    r = []\n",
    "    c = []\n",
    "    base_name, file_ext = os.path.splitext(os.path.split(fname)[1])\n",
    "    parts_list = base_name.split('_')\n",
    "    \n",
    "    for i in range(len(parts_list)):\n",
    "        if parts_list[i] == row_label:\n",
    "            r.append(parts_list[i+1])\n",
    "            r.append(parts_list[i+2])\n",
    "        elif parts_list[i] == col_label:\n",
    "            c.append(parts_list[i+1])\n",
    "            c.append(parts_list[i+2])\n",
    "    row = np.array(r).astype(np.int)\n",
    "    col = np.array(c).astype(np.int)\n",
    "    \n",
    "    return {'base_name': parts_list[0], 'file_ext': file_ext, 'row': row, 'col': col }\n"
   ]
  },
  {
   "cell_type": "code",
   "execution_count": null,
   "metadata": {},
   "outputs": [],
   "source": []
  },
  {
   "cell_type": "code",
   "execution_count": null,
   "metadata": {},
   "outputs": [],
   "source": []
  },
  {
   "cell_type": "code",
   "execution_count": null,
   "metadata": {},
   "outputs": [],
   "source": []
  },
  {
   "cell_type": "code",
   "execution_count": null,
   "metadata": {},
   "outputs": [],
   "source": []
  },
  {
   "cell_type": "code",
   "execution_count": null,
   "metadata": {},
   "outputs": [],
   "source": []
  },
  {
   "cell_type": "code",
   "execution_count": null,
   "metadata": {},
   "outputs": [],
   "source": []
  },
  {
   "cell_type": "code",
   "execution_count": null,
   "metadata": {},
   "outputs": [],
   "source": []
  },
  {
   "cell_type": "code",
   "execution_count": null,
   "metadata": {},
   "outputs": [],
   "source": []
  },
  {
   "cell_type": "code",
   "execution_count": null,
   "metadata": {},
   "outputs": [],
   "source": []
  },
  {
   "cell_type": "code",
   "execution_count": null,
   "metadata": {},
   "outputs": [],
   "source": []
  },
  {
   "cell_type": "code",
   "execution_count": null,
   "metadata": {},
   "outputs": [],
   "source": []
  },
  {
   "cell_type": "code",
   "execution_count": null,
   "metadata": {},
   "outputs": [],
   "source": []
  },
  {
   "cell_type": "code",
   "execution_count": null,
   "metadata": {},
   "outputs": [],
   "source": []
  },
  {
   "cell_type": "code",
   "execution_count": null,
   "metadata": {},
   "outputs": [],
   "source": []
  },
  {
   "cell_type": "code",
   "execution_count": null,
   "metadata": {},
   "outputs": [],
   "source": []
  },
  {
   "cell_type": "code",
   "execution_count": null,
   "metadata": {},
   "outputs": [],
   "source": []
  },
  {
   "cell_type": "code",
   "execution_count": null,
   "metadata": {},
   "outputs": [],
   "source": []
  }
 ],
 "metadata": {
  "kernelspec": {
   "display_name": "Python 3",
   "language": "python",
   "name": "python3"
  },
  "language_info": {
   "codemirror_mode": {
    "name": "ipython",
    "version": 3
   },
   "file_extension": ".py",
   "mimetype": "text/x-python",
   "name": "python",
   "nbconvert_exporter": "python",
   "pygments_lexer": "ipython3",
   "version": "3.7.3"
  }
 },
 "nbformat": 4,
 "nbformat_minor": 2
}
