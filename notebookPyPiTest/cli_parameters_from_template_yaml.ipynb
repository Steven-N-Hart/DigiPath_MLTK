{
 "cells": [
  {
   "cell_type": "code",
   "execution_count": 29,
   "metadata": {},
   "outputs": [],
   "source": [
    "import os\n",
    "from collections import OrderedDict\n",
    "\n",
    "from pychunklbl import toolkit\n",
    "\n",
    "def get_cli_switch_dict(cli_file_name):\n",
    "    \"\"\" Usage: key_switch_dict = get_cli_switch_dict(cli_file_name)\n",
    "    Get the ordered dictionary of input switch names for python file with \"add_argument\" - & -- names\n",
    "\n",
    "    Args:\n",
    "        cli_file_name:      python file with input args parser\n",
    "\n",
    "    Returns:\n",
    "        key_switch_dict:    {'a': argument_a, 'b': bee_arg, ...}\n",
    "    \"\"\"    \n",
    "    key_switch_tuples_list = []\n",
    "    key_switch_dict = {}\n",
    "\n",
    "    with open(cli_file_name, 'r') as fh:\n",
    "        lines = fh.readlines()\n",
    "\n",
    "    trigger_string = 'add_argument('\n",
    "    if len(lines) > 0:\n",
    "        for line in lines:\n",
    "            if trigger_string in line:\n",
    "                start_loc = line.find(trigger_string) + len(trigger_string)\n",
    "                sw_keys = line[start_loc:].strip().strip(',').split(',')\n",
    "                if len(sw_keys) > 1:\n",
    "                    key_switch_tuples_list.append((sw_keys[1].strip().strip('\"').strip('--'), \n",
    "                                                   sw_keys[0].strip('\"').strip('-')))\n",
    "    if len(key_switch_tuples_list) > 0:\n",
    "        key_switch_dict = OrderedDict(sorted(key_switch_tuples_list))\n",
    "        \n",
    "    return key_switch_dict\n",
    "\n",
    "\n",
    "def cli_dot_py_switch_string_from_yml(yml_file_name, key_switch_dict):\n",
    "    \"\"\" Usage: cli_switch_string = cli_dot_py_switch_string_from_yml(yml_file_name)\n",
    "    open yaml file & build the command line switch string\n",
    "    \n",
    "    Args:\n",
    "        yml_file_name:\n",
    "        key_switch_dict: \n",
    "        \n",
    "    Returns:\n",
    "        cli_switch_string:  a string suitable for appending to python filename.py call\n",
    "        \n",
    "    \"\"\"\n",
    "    skip_list = ['run_directory', 'run_file']\n",
    "    pixel_hw_names_list = ['pixel_hw', 'patch_height', 'patch_width']\n",
    "    cli_switch_string = ''\n",
    "    \n",
    "    root_dir, yml_file_name = os.path.split(yml_file_name)\n",
    "    run_pars = toolkit.get_run_parameters(root_dir, yml_file_name)\n",
    "    \n",
    "    for k, v in run_pars.items():\n",
    "        if isinstance(v, int):\n",
    "            v = '%i'%(v)\n",
    "        elif isinstance(v, float):\n",
    "            v = '%f'%(v)\n",
    "        elif isinstance(v, bool):\n",
    "            if v:\n",
    "                v = True\n",
    "            else:\n",
    "                v = False\n",
    "                \n",
    "        if k in key_switch_dict:\n",
    "            if k in pixel_hw_names_list:\n",
    "                k2 = key_switch_dict['pixel_hw']\n",
    "            else:\n",
    "                k2 = key_switch_dict[k]\n",
    "                \n",
    "            if not k in skip_list:\n",
    "                cli_switch_string += '-' + k2 + ' ' + v + ' '\n",
    "            \n",
    "    return cli_switch_string"
   ]
  },
  {
   "cell_type": "markdown",
   "metadata": {},
   "source": [
    "# Test demo both functions"
   ]
  },
  {
   "cell_type": "code",
   "execution_count": 30,
   "metadata": {},
   "outputs": [
    {
     "name": "stdout",
     "output_type": "stream",
     "text": [
      "  1)              border_color: C\n",
      "  2)               class_label: c\n",
      "  3)             csv_file_name: L\n",
      "  4)                  file_ext: l\n",
      "  5)               image_level: e\n",
      "  6)                    method: m\n",
      "  7)          offset_data_file: D\n",
      "  8)                  offset_x: x\n",
      "  9)                  offset_y: y\n",
      " 10)                output_dir: o\n",
      " 11)       patch_select_method: P\n",
      " 12)     patch_stride_fraction: s\n",
      " 13)                  pixel_hw: S\n",
      " 14)         rgb2lab_threshold: T\n",
      " 15)        tfrecord_file_name: r\n",
      " 16)                 threshold: t\n",
      " 17)         thumbnail_divisor: d\n",
      " 18)                   verbose: V\n",
      " 19)              wsi_filename: i\n",
      " 20)             wsi_floatname: f\n",
      " 21)             xml_file_name: a\n",
      "\n",
      "\n",
      " write_mask_previews.yml \n",
      "\n",
      "-m wrte_mask_preview_set -i ../data/images/CMU-1-Small-Region.svs -o ../../run_dir -d 10 -P threshold_rgb2lab -T 80 -t 0 -e 0 -C blue -s 1.000000 -x 0 -y 0 \n",
      "\n",
      "\n",
      " registration_tfrecord_to_masked_thumb.yml \n",
      "\n",
      "-m tfrecord_2_masked_thumb -r ../data/tfrecords/54742d6c5d704efa8f0814456453573a.tfrecords -i ../../DigiPath_MLTK_data/RegistrationDevData/54742d6c5d704efa8f0814456453573a.tiff -o ../../run_dir/results -d 10 -C blue -e 5 -s 1.000000 -x 0 -y 0 \n",
      "\n",
      "\n",
      " annotations_to_tfrecord.yml \n",
      "\n",
      "-m annotations_to_tfrecord -o ../../run_dir/results -i ../../DigiPath_MLTK_data/RegistrationDevData/e39a8d60a56844d695e9579bce8f0335.tiff -L ../data/test_data/class_label_id_test.csv -a ../data/test_data/e39a8d60a56844d695e9579bce8f0335.xml -d 56 -s 1.000000 -e 4 -t 0 -P threshold_rgb2lab -T 80 \n",
      "\n",
      "\n",
      " wsi_file_to_patches_dir.yml \n",
      "\n",
      "-m wsi_2_patches_dir -i ../data/images/CMU-1-Small-Region.svs -o ../../run_dir/results -c test_label_name -d 10 -P threshold_rgb2lab -T 80 -l .jpg -e 0 -t 0 -s 1.000000 -x 0 -y 0 \n",
      "\n",
      "\n",
      " registration_pairs_to_dir.yml \n",
      "\n",
      "-m registration_to_dir -i ../../DigiPath_MLTK_data/RegistrationDevData/54742d6c5d704efa8f0814456453573a.tiff -f ../../DigiPath_MLTK_data/RegistrationDevData/e39a8d60a56844d695e9579bce8f0335.tiff -D ../../DigiPath_MLTK_data/RegistrationDevData/wsi_pair_sample.csv -o ../../run_dir/results -c test-label-name -d 20 -P threshold_rgb2lab -T 80 -e 5 -t 0 -s 0.500000 -x 0 -y 0 \n",
      "\n",
      "\n",
      " registration_pairs_to_tfrecord.yml \n",
      "\n",
      "-m registration_to_tfrecord -i ../../DigiPath_MLTK_data/RegistrationDevData/54742d6c5d704efa8f0814456453573a.tiff -f ../../DigiPath_MLTK_data/RegistrationDevData/e39a8d60a56844d695e9579bce8f0335.tiff -D ../../DigiPath_MLTK_data/RegistrationDevData/wsi_pair_sample.csv -o ../../run_dir/results -c test-label-name -d 20 -P threshold_rgb2lab -T 80 -e 5 -t 0 -s 0.500000 -x 0 -y 0 \n",
      "\n",
      "\n",
      " wsi_file_to_tfrecord.yml \n",
      "\n",
      "-m wsi_to_patches -i ../data/images/CMU-1-Small-Region.svs -o ../../run_dir/results -c test_label_name -e 0 -d 10 -P threshold_rgb2lab -T 80 -t 0 -s 1.000000 -x 0 -y 0 \n",
      "\n",
      "\n",
      " tfrecord_to_masked_thumb.yml \n",
      "\n",
      "-m tfrecord_2_masked_thumb -r ../data/tfrecords/CMU-1-Small-Region.tfrecords -i ../data/images/CMU-1-Small-Region.svs -o ../../run_dir/results -d 10 -C blue -e 0 -s 1.000000 -x 0 -y 0 \n",
      "\n",
      "\n",
      " annotations_to_dir.yml \n",
      "\n",
      "-m annotations_to_dir -o ../../run_dir/results -i ../../DigiPath_MLTK_data/RegistrationDevData/e39a8d60a56844d695e9579bce8f0335.tiff -L ../data/test_data/class_label_id_test.csv -a ../data/test_data/e39a8d60a56844d695e9579bce8f0335.xml -d 56 -s 1.000000 -e 4 -t 0 -P threshold_rgb2lab -T 80 \n"
     ]
    }
   ],
   "source": [
    "src_dir = '../pychunklbl'\n",
    "cli_file_name = os.path.join(src_dir, 'cli.py')\n",
    "key_switch_dict = get_cli_switch_dict(cli_file_name)\n",
    "\n",
    "check_dupe_list = []\n",
    "n = 0\n",
    "for k, v in key_switch_dict.items():\n",
    "    n += 1\n",
    "    print('%3i) %25s: %s'%(n, k, v))\n",
    "    if v in check_dupe_list:\n",
    "        print('\\n\\t\\t\\t\\tDuplicate dash switch Delicate condition')\n",
    "    else:\n",
    "        check_dupe_list.append(v)\n",
    "    \n",
    "run_parameters_directory = '../data/run_files'\n",
    "run_file = 'write_mask_previews.yml'\n",
    "for maybe_file in os.listdir(run_parameters_directory):\n",
    "    print('\\n\\n', maybe_file, '\\n')\n",
    "    yml_file_name = os.path.join(run_parameters_directory, maybe_file)\n",
    "\n",
    "    cli_switch_string = cli_dot_py_switch_string_from_yml(yml_file_name, key_switch_dict)\n",
    "    print(cli_switch_string)"
   ]
  },
  {
   "cell_type": "markdown",
   "metadata": {},
   "source": [
    "## call cli.py with run_parameters:"
   ]
  },
  {
   "cell_type": "code",
   "execution_count": 42,
   "metadata": {},
   "outputs": [
    {
     "name": "stdout",
     "output_type": "stream",
     "text": [
      "python3 ../pychunklbl/cli.py -m wrte_mask_preview_set -i ../data/images/CMU-1-Small-Region.svs -o ../../run_dir -d 10 -P threshold_rgb2lab -T 80 -t 0 -e 0 -C blue -s 1.000000 -x 0 -y 0 \n"
     ]
    }
   ],
   "source": [
    "#                               get the keys to switches dictionary:\n",
    "src_dir = '../pychunklbl'\n",
    "cli_file_name = os.path.join(src_dir, 'cli.py')\n",
    "switch_dict = get_cli_switch_dict(cli_file_name)\n",
    "\n",
    "#                               assemble the switch srting string\n",
    "pars_directory = '../data/run_files'\n",
    "pars_file = os.path.join(pars_directory, 'write_mask_previews.yml')\n",
    "swtch_str = cli_dot_py_switch_string_from_yml(pars_file, switch_dict)\n",
    "\n",
    "\n",
    "call_string = 'python3' + ' ' + cli_file_name + ' ' + swtch_str\n",
    "print(call_string)\n",
    "\n",
    "call_string = call_string + ' ' + '&>' + ' ' + 'logmeup.txt'"
   ]
  },
  {
   "cell_type": "code",
   "execution_count": 43,
   "metadata": {},
   "outputs": [
    {
     "data": {
      "text/plain": [
       "[]"
      ]
     },
     "execution_count": 43,
     "metadata": {},
     "output_type": "execute_result"
    }
   ],
   "source": [
    "os.listdir('../../run_dir')"
   ]
  },
  {
   "cell_type": "code",
   "execution_count": 47,
   "metadata": {},
   "outputs": [
    {
     "data": {
      "text/plain": [
       "0"
      ]
     },
     "execution_count": 47,
     "metadata": {},
     "output_type": "execute_result"
    }
   ],
   "source": [
    "os.system(call_string)"
   ]
  },
  {
   "cell_type": "code",
   "execution_count": 48,
   "metadata": {},
   "outputs": [],
   "source": [
    "with open('logmeup.txt', 'r') as fh:\n",
    "    lines = fh.readlines()\n",
    "for line in lines:\n",
    "    print(line.strip())"
   ]
  },
  {
   "cell_type": "code",
   "execution_count": 45,
   "metadata": {},
   "outputs": [
    {
     "data": {
      "text/plain": [
       "[]"
      ]
     },
     "execution_count": 45,
     "metadata": {},
     "output_type": "execute_result"
    }
   ],
   "source": [
    "os.listdir('../../run_dir')"
   ]
  },
  {
   "cell_type": "code",
   "execution_count": null,
   "metadata": {},
   "outputs": [],
   "source": []
  }
 ],
 "metadata": {
  "kernelspec": {
   "display_name": "Python 3",
   "language": "python",
   "name": "python3"
  },
  "language_info": {
   "codemirror_mode": {
    "name": "ipython",
    "version": 3
   },
   "file_extension": ".py",
   "mimetype": "text/x-python",
   "name": "python",
   "nbconvert_exporter": "python",
   "pygments_lexer": "ipython3",
   "version": "3.7.3"
  }
 },
 "nbformat": 4,
 "nbformat_minor": 2
}
